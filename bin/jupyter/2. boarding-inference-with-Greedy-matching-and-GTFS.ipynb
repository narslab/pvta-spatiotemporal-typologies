{
 "cells": [
  {
   "cell_type": "code",
   "execution_count": 25,
   "metadata": {
    "collapsed": false,
    "jupyter": {
     "outputs_hidden": false
    },
    "pycharm": {
     "name": "#%%\n"
    }
   },
   "outputs": [],
   "source": [
    "import networkx as nx\n",
    "import matplotlib.pyplot as plt\n",
    "import numpy as np # linear algebra\n",
    "import matplotlib.patches as mpatches\n",
    "import numpy as np\n",
    "import pandas as pd\n",
    "import seaborn as sns\n",
    "from scipy.spatial.distance import cdist\n",
    "import time\n",
    "# import datetime\n",
    "from datetime import datetime\n",
    "import builtins\n",
    "import numpy as np # linear algebra\n",
    "import pandas as pd # data processing, CSV file I/O (e.g. pd.read_csv)\n",
    "from sklearn.cluster import OPTICS\n",
    "import sklearn as sk\n",
    "import math \n",
    "# import sklearn.linear_model as slm (statsmodels gives more robust results)\n",
    "# import statsmodels.formula.api as smf\n",
    "import matplotlib.pyplot as plt\n",
    "# from sklearn.model_selection import train_test_split\n",
    "import seaborn as sns #for nicer plots.\n",
    "# from patsy import dmatrices\n",
    "from pylab import rcParams\n",
    "\n",
    "# import descartes\n",
    "from shapely.geometry import Point, Polygon\n",
    "\n",
    "# import geopandas as gpd\n",
    "# from sklearn import cluster\n",
    "from sklearn.preprocessing import scale\n",
    "# import pysal as ps\n",
    "from sklearn.metrics.pairwise import haversine_distances\n",
    "from math import radians\n",
    "\n",
    "# from geopy.distance import great_circle\n",
    "from shapely.geometry import MultiPoint\n",
    "\n",
    "# import cartopy\n",
    "# import cartopy.feature as cfeature\n",
    "# import cartopy.io.shapereader as shpreader\n",
    "# import cartopy.io.img_tiles as cimgt\n",
    "# import cartopy.crs as ccrs\n",
    "# from cartopy.io.shapereader import Reader\n",
    "# from cartopy.feature import ShapelyFeature\n",
    "# from cartopy.io.shapereader import Reader\n",
    "# from cartopy.feature import ShapelyFeature\n",
    "\n",
    "import matplotlib.patheffects as PathEffects\n",
    "from shapely.geometry import LineString, MultiLineString\n",
    "# import cartopy.crs as ccrs\n",
    "import io\n",
    "from urllib.request import urlopen, Request\n",
    "from PIL import Image\n",
    "# import functions\n",
    "\n",
    "from sklearn.cluster import DBSCAN\n",
    "from sklearn import metrics\n",
    "from sklearn.datasets import make_blobs\n",
    "from sklearn.preprocessing import StandardScaler\n",
    "\n",
    "from sklearn import metrics\n",
    "from sklearn.metrics import pairwise_distances, davies_bouldin_score\n",
    "from sklearn import datasets\n",
    "\n",
    "from sklearn.cluster import KMeans\n",
    "\n",
    "\n",
    "from sklearn import metrics\n",
    "from sklearn.metrics import pairwise_distances\n",
    "from sklearn import datasets\n",
    "\n",
    "import matplotlib.pylab as pylab\n",
    "from mpl_toolkits.mplot3d import Axes3D\n",
    "import scipy.interpolate as interp\n",
    "\n",
    "from scipy.spatial.distance import cdist\n",
    "from scipy.spatial import distance\n",
    "from IPython.display import display\n",
    "import sys\n",
    "from pathlib import Path\n",
    "import json\n",
    "import matplotlib.pyplot as plt\n",
    "import pandas as pd\n",
    "import numpy as np\n",
    "import geopandas as gp\n",
    "import matplotlib\n",
    "import geopandas as gpd\n",
    "# import osmnx as ox\n",
    "import seaborn as sns\n",
    "# import gtfs_kit as gk\n",
    "import dash\n",
    "from dash.dependencies import Input, Output\n",
    "import plotly.express as px\n",
    "import timeit\n",
    "import warnings\n",
    "from tqdm import tqdm\n",
    "import gtfs_kit as gk\n",
    "from pandas.core.common import SettingWithCopyWarning\n",
    "\n",
    "warnings.simplefilter(action='ignore', category=FutureWarning)\n",
    "warnings.filterwarnings('ignore')\n",
    "warnings.simplefilter(action=\"ignore\", category=SettingWithCopyWarning)\n",
    "\n",
    "# %load_ext autoreload\n",
    "# %autoreload 2\n",
    "%matplotlib inline\n",
    "\n",
    "\n",
    "pd.set_option(\"display.max.columns\", 20)\n",
    "\n",
    "plt.style.use({'figure.facecolor':'white'})\n",
    "plt.rcParams['font.size'] = '18'\n",
    "plt.rcParams['figure.figsize'] = (18, 7)"
   ]
  },
  {
   "cell_type": "code",
   "execution_count": 26,
   "metadata": {
    "collapsed": false,
    "jupyter": {
     "outputs_hidden": false
    },
    "pycharm": {
     "name": "#%%\n"
    }
   },
   "outputs": [],
   "source": [
    "full_bytemark_path = r\"../../data/raw/PVTA-Data-Sharing-UMass/Bytemark-Data/Full_202201_Umass.csv\"\n",
    "cleaned_stops_path = \"../../data/raw/PVTA-Data-Sharing-UMass/APC-Data/Cleaned-Stop-Database.xlsx\"\n",
    "raw_pvta_data_path = \"../../data/raw/PVTA-Data-Sharing-UMass/\"\n",
    "# route_stop_path = f\"{raw_pvta_data_path}Route_Stop_Mx.csv\"\n",
    "data_path = \"../../data/raw/PVTA-Data-Sharing-UMass/APC-Data/Ridership-Details_201807-201912.txt\"\n",
    "dictionary_path = \"../../data/raw/PVTA-Data-Sharing-UMass/APC-Data/APC-Data-Dictionary-and-Sample.xlsx\"\n",
    "cleaned_stops_path = \"../../data/raw/PVTA-Data-Sharing-UMass/APC-Data/Cleaned-Stop-Database.xlsx\""
   ]
  },
  {
   "cell_type": "code",
   "execution_count": 27,
   "metadata": {
    "collapsed": false,
    "jupyter": {
     "outputs_hidden": false
    },
    "pycharm": {
     "name": "#%%\n"
    }
   },
   "outputs": [
    {
     "name": "stdout",
     "output_type": "stream",
     "text": [
      "Loading Bytemark...\n",
      "Loading full_stops...\n",
      "Loading bus schedule...\n",
      "Loading successful. \n",
      " Preparing stops and routes data...\n",
      "Preparing the bytemark to use...\n",
      "Done!\n"
     ]
    }
   ],
   "source": [
    "period = input('Which period:\\n' # Settings\n",
    "          '1: March-May\\n'\n",
    "          '2: June-July\\n'\n",
    "          \"3: Jan-March\\n\"\n",
    "          \"4: Jan-2022\\n\"\n",
    "          \"5: dec-22-2021\\n\"\n",
    "          \"6: dec-14-2021\\n\")\n",
    "\n",
    "# def load_data(path):\n",
    "#     data = pd.read_csv(path)\n",
    "#     return data\n",
    "\n",
    "def used_bytemark(full_bytemark):\n",
    "    print('Preparing the bytemark to use...')\n",
    "    byte = full_bytemark.copy()\n",
    "    # get bytemark in the same times as the timetable\n",
    "    bytemark_sample_used = byte.loc[route_timetable_.Timestamp[0].strftime(\"%Y-%m-%d %H:%M:%S\"):route_timetable_.Timestamp[-1].strftime(\"%Y-%m-%d %H:%M:%S\")] #https://www.programiz.com/python-programming/datetime/strftime\n",
    "    bytemark_sample_used = bytemark_sample_used.reset_index()\n",
    "\n",
    "    bytemark_sample_used['Time_Scanned'] = bytemark_sample_used['Time_Scanned'].map(lambda x: x.lstrip('').rstrip('-04:00:00')) # removed the -04:00:00 part.\n",
    "    bytemark_sample_used['Time_Scanned'] = bytemark_sample_used['Time_Scanned'].map(lambda x: x.lstrip('').rstrip('-05:00:00')) # removed the -05:00:00 part when daylight saving is in effect.\n",
    "\n",
    "    bytemark_sample_used['Time_Scanned'] = pd.to_datetime(bytemark_sample_used['Time_Scanned'])\n",
    "\n",
    "    bytemark_sample_used = bytemark_sample_used.set_index('Datetime')\n",
    "    bytemark_sample_used = bytemark_sample_used.loc['2021-03-15':'2021-03-15']\n",
    "    bytemark_sample_used = bytemark_sample_used.reset_index()\n",
    "\n",
    "    return bytemark_sample_used\n",
    "\n",
    "\n",
    "def load_all_data(full_bytemark_path, cleaned_stops_path, period ):\n",
    "\n",
    "    print(f'Loading Bytemark...')\n",
    "    full_bytemark = pd.read_csv(full_bytemark_path)\n",
    "    full_bytemark['Datetime'] = full_bytemark.Time_Scanned.str[0:19]\n",
    "    full_bytemark.Datetime = pd.to_datetime(full_bytemark.Datetime)\n",
    "    full_bytemark['Hour'] = full_bytemark['Datetime'].dt.hour\n",
    "    full_bytemark = full_bytemark.set_index('Datetime')\n",
    "####################################################################################################################################\n",
    "    print(f\"Loading full_stops...\")\n",
    "    full_stops = pd.read_excel(cleaned_stops_path)\n",
    "    full_stops = full_stops[full_stops['StopReportLabel'].notna()]\n",
    "    full_stops = full_stops[full_stops['StopID'].notna()]\n",
    "    full_stops = full_stops.drop(full_stops.index[0])\n",
    "    full_stops = full_stops.reset_index()\n",
    "    full_stops = full_stops.drop('index', axis=1)\n",
    "    full_stops = full_stops[:-1]\n",
    "    full_stops = full_stops [['StopID', 'StopReportLabel','UniqueStopInternalID','Latitude','Longitude','StopActiveDesc']]\n",
    "####################################################################################################################################\n",
    "\n",
    "    print(f\"Loading bus schedule...\")\n",
    "    if period == '1':\n",
    "        print('You chose March-May')\n",
    "        path = '../../data/raw/PVTA-GTFS/gtfs-15-march-2021.zip'\n",
    "        route_timetable = pd.read_csv(r\"../../data/raw/PVTA-GTFS/route_timetable_March_May.csv\",low_memory=False)\n",
    "    elif period == '2':\n",
    "        print('You chose June-August')\n",
    "        path = '../../data/raw/PVTA-GTFS/gtfs-24-june-2021.zip'\n",
    "        route_timetable = pd.read_csv(r\"../../data/raw/PVTA-GTFS/route_timetable_June_August.csv\",low_memory=False)\n",
    "    elif period == '3':\n",
    "        path = '../../data/raw/PVTA-GTFS/gtfs-26-jan-2021.zip'\n",
    "        route_timetable = pd.read_csv(r\"../../data/raw/PVTA-GTFS/route_timetable_Jan_March.csv\",low_memory=False)\n",
    "    elif period == '4':\n",
    "        route_timetable = pd.read_csv(r\"../../data/raw/PVTA-GTFS/route_timetable_Jan_2022.csv\",low_memory=False)\n",
    "    elif period == '5':\n",
    "        route_timetable = pd.read_csv(r\"../../data/raw/PVTA-GTFS/route_timetable_dec_22_2021.csv\",low_memory=False)\n",
    "    elif period == '6':\n",
    "        route_timetable = pd.read_csv(r\"../../data/raw/PVTA-GTFS/route_timetable_dec_14_2021.csv\",low_memory=False)\n",
    "\n",
    "    # Read gtfs feed and describe\n",
    "    # get separate GTFS files\n",
    "    feed = gk.read_feed(path, dist_units='km')\n",
    "    stop_times = feed.stop_times\n",
    "    trips = feed.trips\n",
    "    routes = feed.routes\n",
    "    gtfs_stops = feed.stops\n",
    "    calendar = feed.calendar\n",
    "    calendar_dates = feed.calendar_dates\n",
    "    shapes = feed.shapes\n",
    "    dates = feed.get_dates() # get a list of dates for which this GTFS is valid\n",
    "####################################################################################################################################\n",
    "    # CONTINUE PREPARING STOPS AFTER LOADING gtfs\n",
    "    # full_stops = full_stops.loc[full_stops['StopActiveDesc'] == 'Active']\n",
    "    stop_times.stop_id = stop_times.stop_id.astype('str') # find stops only in the schedule\n",
    "    k = list (stop_times.stop_id)\n",
    "    full_stops.StopID = full_stops.StopID.astype('int')\n",
    "    full_stops.StopID = full_stops.StopID.astype('str')\n",
    "    full_stops = full_stops[full_stops['StopID'].isin(k)]\n",
    "\n",
    "    full_stops.StopID = full_stops.StopID.astype('float')\n",
    "    full_stops.StopID = full_stops.StopID.astype('int')\n",
    "    full_stops.StopID = full_stops.StopID.astype('str')\n",
    "####################################################################################################################################\n",
    "\n",
    "    ## prepare schedule data\n",
    "    # For boarding inference\n",
    "    route_timetable_ = route_timetable.copy() # original file loaded in the begining\n",
    "    route_timetable_.departure_time = pd.to_timedelta(route_timetable_.departure_time)\n",
    "    route_timetable_.date = pd.to_datetime(route_timetable_.date)\n",
    "    route_timetable_.date = route_timetable_.date + route_timetable_.departure_time\n",
    "    route_timetable_ = route_timetable_.rename(columns={\"date\": \"Timestamp\",\"stop_id\":\"StopID\"})\n",
    "    # route_timetable_= route_timetable_.set_index('Time_Stamp')\n",
    "    route_timetable_.StopID = route_timetable_.StopID.astype('str')\n",
    "    route_timetable_=route_timetable_.drop(columns = ['arrival_time','departure_time'])\n",
    "    route_timetable_ = route_timetable_.sort_values('Timestamp')\n",
    "    # route_timetable_.index.name = None\n",
    "    # route_timetable_[(route_timetable_['Timestamp']>=pd.Timestamp(2021,7,1))& (route_timetable_['Timestamp']<pd.Timestamp(2021,8,1))]\n",
    "    route_timetable_['date'] = route_timetable_.Timestamp.dt.date\n",
    "    route_timetable_ = route_timetable_.set_index('date')\n",
    "\n",
    "    # For alighitng inference\n",
    "    route_timetable_alighting = route_timetable.copy() # original file loaded in the beginning\n",
    "    # make departure time with date\n",
    "    route_timetable_alighting.departure_time = pd.to_timedelta(route_timetable_alighting.departure_time)\n",
    "    route_timetable_alighting['departure_date'] = pd.to_datetime(route_timetable_alighting.date)\n",
    "    route_timetable_alighting.departure_date = route_timetable_alighting.departure_date + route_timetable_alighting.departure_time\n",
    "    #\n",
    "    # make arrival time with date\n",
    "    route_timetable_alighting.arrival_time = pd.to_timedelta(route_timetable_alighting.arrival_time)\n",
    "    route_timetable_alighting['arrival_date'] = pd.to_datetime(route_timetable_alighting.date)\n",
    "    route_timetable_alighting.arrival_date = route_timetable_alighting.arrival_date + route_timetable_alighting.arrival_time\n",
    "\n",
    "    route_timetable_alighting = route_timetable_alighting.rename(columns={\"departure_date\": \"Timestamp\",\"stop_id\":\"StopID\"})\n",
    "    route_timetable_alighting= route_timetable_alighting.set_index('Timestamp')\n",
    "    route_timetable_alighting.StopID = route_timetable_alighting.StopID.astype('str')\n",
    "    route_timetable_alighting=route_timetable_alighting.drop(columns = ['arrival_time','departure_time'])\n",
    "\n",
    "    route_timetable_alighting.index.name = None\n",
    "    route_timetable_alighting.to_csv(r\"../../data/raw/PVTA-GTFS/route_timetable_alightingfor_transfer_inference.csv\")#, index=False,)\n",
    "    route_timetable_alighting\n",
    "    # route_timetable_alighting\n",
    "    route_timetable_alighting = pd.read_csv(r\"../../data/raw/PVTA-GTFS/route_timetable_alightingfor_transfer_inference.csv\",low_memory=False)\n",
    "    route_timetable_alighting['arrival_date'] = pd.to_datetime(route_timetable_alighting.arrival_date)\n",
    "    route_timetable_alighting['Unnamed: 0'] = pd.to_datetime(route_timetable_alighting['Unnamed: 0'])\n",
    "    route_timetable_alighting= route_timetable_alighting.set_index('Unnamed: 0')\n",
    "    route_timetable_alighting['StopID'] = route_timetable_alighting['StopID'].astype('str')\n",
    "    print(\"Loading successful. \\n Preparing stops and routes data...\")\n",
    "    # create stop routes\n",
    "    stop_routes = route_timetable_alighting.copy(deep = True)\n",
    "    stop_routes = stop_routes[['route_id','StopID']]\n",
    "    stop_routes = stop_routes.drop_duplicates(keep='first')  # drops duplicate rows leaving behind all possible combinations\n",
    "    tempstops = full_stops.copy(deep = True)\n",
    "    tempstops = tempstops[['StopID','Latitude','Longitude','StopReportLabel','UniqueStopInternalID']]\n",
    "    # display(stop_routes.dtypes)\n",
    "    # display(tempstops.dtypes)\n",
    "    tempstops.StopID =  tempstops.StopID.astype('str')\n",
    "    stop_routes = stop_routes.merge(tempstops, on = 'StopID',how='inner')\n",
    "    route_timetable_alighting_with_coords = route_timetable_alighting.merge(tempstops, on='StopID', how='inner')\n",
    "####################################################################################################################################\n",
    "\n",
    "\n",
    "\n",
    "    return full_bytemark,full_stops, route_timetable_, route_timetable_alighting_with_coords, stop_routes,route_timetable\n",
    "\n",
    "\n",
    "full_bytemark , full_stops, route_timetable_, route_timetable_with_coords, stop_routes,route_timetable = load_all_data(full_bytemark_path, cleaned_stops_path, period, )\n",
    "# route_timetable_with_coords is for alighiting inference\n",
    "\n",
    "bytemark_sample_used = used_bytemark(full_bytemark)\n",
    "\n",
    "print('Done!')"
   ]
  },
  {
   "cell_type": "code",
   "execution_count": 28,
   "outputs": [
    {
     "data": {
      "text/plain": "             Latitude     Longitude  UniqueStopInternalID  Num_of_stops\nroute_id                                                               \n30        1695.191527  -2900.499864                316803            40\n31        2077.720328  -3554.284462                383258            49\n33        2077.236815  -3553.692225                391941            49\n34        1144.511626  -1958.168452                213404            27\n35        1144.507672  -1958.165163                220497            27\n36        1313.470504  -2248.136039                251190            31\n38        1904.649789  -3264.102185                351196            45\n45        2583.480775  -4420.996716                486090            61\n46         848.741318  -1451.211608                165297            20\n902        168.529275   -290.209647                 27060             4\n920         84.275168   -145.235705                  9016             2\n921       1433.302780  -2468.595592                 85977            34\n943        677.528432  -1161.349056                118689            16\nB12        126.513193   -217.613848                 11565             3\nB17       4253.743855  -7326.522889                234474           101\nB23       2193.671814  -3778.180265                169500            52\nB4        1642.495584  -2831.812187                 96066            39\nB43       2117.765906  -3628.278718                266726            50\nB48        465.023403   -798.832254                 19677            11\nB6        4845.682937  -8341.332632                359724           115\nB7        3706.643944  -6384.033511                236187            88\nG1        6864.147204 -11829.177164                440721           163\nG2        6231.724659 -10739.677882                422765           148\nG3        3748.027513  -6459.356972                259331            89\nG5        3828.945504  -6604.121251                260951            91\nP20       4173.153055  -7189.685425                273138            99\nP21       5017.195914  -8640.420922                351550           119\nR10       4253.061602  -7339.519824                300669           101\nR14       3493.205962  -6028.521582                235524            83\nR24       2320.857410  -3994.242313                164783            55\nR29       3760.953440  -6459.256357                458979            89\nR41       1351.812031  -2324.901809                 56885            32\nR42        889.135915  -1526.004847                 43434            21\nR44       2539.722058  -4359.168662                139226            60\nX90       7670.073067 -13209.474176                555225           182\nX92       3242.130208  -5587.333747                275039            77",
      "text/html": "<div>\n<style scoped>\n    .dataframe tbody tr th:only-of-type {\n        vertical-align: middle;\n    }\n\n    .dataframe tbody tr th {\n        vertical-align: top;\n    }\n\n    .dataframe thead th {\n        text-align: right;\n    }\n</style>\n<table border=\"1\" class=\"dataframe\">\n  <thead>\n    <tr style=\"text-align: right;\">\n      <th></th>\n      <th>Latitude</th>\n      <th>Longitude</th>\n      <th>UniqueStopInternalID</th>\n      <th>Num_of_stops</th>\n    </tr>\n    <tr>\n      <th>route_id</th>\n      <th></th>\n      <th></th>\n      <th></th>\n      <th></th>\n    </tr>\n  </thead>\n  <tbody>\n    <tr>\n      <th>30</th>\n      <td>1695.191527</td>\n      <td>-2900.499864</td>\n      <td>316803</td>\n      <td>40</td>\n    </tr>\n    <tr>\n      <th>31</th>\n      <td>2077.720328</td>\n      <td>-3554.284462</td>\n      <td>383258</td>\n      <td>49</td>\n    </tr>\n    <tr>\n      <th>33</th>\n      <td>2077.236815</td>\n      <td>-3553.692225</td>\n      <td>391941</td>\n      <td>49</td>\n    </tr>\n    <tr>\n      <th>34</th>\n      <td>1144.511626</td>\n      <td>-1958.168452</td>\n      <td>213404</td>\n      <td>27</td>\n    </tr>\n    <tr>\n      <th>35</th>\n      <td>1144.507672</td>\n      <td>-1958.165163</td>\n      <td>220497</td>\n      <td>27</td>\n    </tr>\n    <tr>\n      <th>36</th>\n      <td>1313.470504</td>\n      <td>-2248.136039</td>\n      <td>251190</td>\n      <td>31</td>\n    </tr>\n    <tr>\n      <th>38</th>\n      <td>1904.649789</td>\n      <td>-3264.102185</td>\n      <td>351196</td>\n      <td>45</td>\n    </tr>\n    <tr>\n      <th>45</th>\n      <td>2583.480775</td>\n      <td>-4420.996716</td>\n      <td>486090</td>\n      <td>61</td>\n    </tr>\n    <tr>\n      <th>46</th>\n      <td>848.741318</td>\n      <td>-1451.211608</td>\n      <td>165297</td>\n      <td>20</td>\n    </tr>\n    <tr>\n      <th>902</th>\n      <td>168.529275</td>\n      <td>-290.209647</td>\n      <td>27060</td>\n      <td>4</td>\n    </tr>\n    <tr>\n      <th>920</th>\n      <td>84.275168</td>\n      <td>-145.235705</td>\n      <td>9016</td>\n      <td>2</td>\n    </tr>\n    <tr>\n      <th>921</th>\n      <td>1433.302780</td>\n      <td>-2468.595592</td>\n      <td>85977</td>\n      <td>34</td>\n    </tr>\n    <tr>\n      <th>943</th>\n      <td>677.528432</td>\n      <td>-1161.349056</td>\n      <td>118689</td>\n      <td>16</td>\n    </tr>\n    <tr>\n      <th>B12</th>\n      <td>126.513193</td>\n      <td>-217.613848</td>\n      <td>11565</td>\n      <td>3</td>\n    </tr>\n    <tr>\n      <th>B17</th>\n      <td>4253.743855</td>\n      <td>-7326.522889</td>\n      <td>234474</td>\n      <td>101</td>\n    </tr>\n    <tr>\n      <th>B23</th>\n      <td>2193.671814</td>\n      <td>-3778.180265</td>\n      <td>169500</td>\n      <td>52</td>\n    </tr>\n    <tr>\n      <th>B4</th>\n      <td>1642.495584</td>\n      <td>-2831.812187</td>\n      <td>96066</td>\n      <td>39</td>\n    </tr>\n    <tr>\n      <th>B43</th>\n      <td>2117.765906</td>\n      <td>-3628.278718</td>\n      <td>266726</td>\n      <td>50</td>\n    </tr>\n    <tr>\n      <th>B48</th>\n      <td>465.023403</td>\n      <td>-798.832254</td>\n      <td>19677</td>\n      <td>11</td>\n    </tr>\n    <tr>\n      <th>B6</th>\n      <td>4845.682937</td>\n      <td>-8341.332632</td>\n      <td>359724</td>\n      <td>115</td>\n    </tr>\n    <tr>\n      <th>B7</th>\n      <td>3706.643944</td>\n      <td>-6384.033511</td>\n      <td>236187</td>\n      <td>88</td>\n    </tr>\n    <tr>\n      <th>G1</th>\n      <td>6864.147204</td>\n      <td>-11829.177164</td>\n      <td>440721</td>\n      <td>163</td>\n    </tr>\n    <tr>\n      <th>G2</th>\n      <td>6231.724659</td>\n      <td>-10739.677882</td>\n      <td>422765</td>\n      <td>148</td>\n    </tr>\n    <tr>\n      <th>G3</th>\n      <td>3748.027513</td>\n      <td>-6459.356972</td>\n      <td>259331</td>\n      <td>89</td>\n    </tr>\n    <tr>\n      <th>G5</th>\n      <td>3828.945504</td>\n      <td>-6604.121251</td>\n      <td>260951</td>\n      <td>91</td>\n    </tr>\n    <tr>\n      <th>P20</th>\n      <td>4173.153055</td>\n      <td>-7189.685425</td>\n      <td>273138</td>\n      <td>99</td>\n    </tr>\n    <tr>\n      <th>P21</th>\n      <td>5017.195914</td>\n      <td>-8640.420922</td>\n      <td>351550</td>\n      <td>119</td>\n    </tr>\n    <tr>\n      <th>R10</th>\n      <td>4253.061602</td>\n      <td>-7339.519824</td>\n      <td>300669</td>\n      <td>101</td>\n    </tr>\n    <tr>\n      <th>R14</th>\n      <td>3493.205962</td>\n      <td>-6028.521582</td>\n      <td>235524</td>\n      <td>83</td>\n    </tr>\n    <tr>\n      <th>R24</th>\n      <td>2320.857410</td>\n      <td>-3994.242313</td>\n      <td>164783</td>\n      <td>55</td>\n    </tr>\n    <tr>\n      <th>R29</th>\n      <td>3760.953440</td>\n      <td>-6459.256357</td>\n      <td>458979</td>\n      <td>89</td>\n    </tr>\n    <tr>\n      <th>R41</th>\n      <td>1351.812031</td>\n      <td>-2324.901809</td>\n      <td>56885</td>\n      <td>32</td>\n    </tr>\n    <tr>\n      <th>R42</th>\n      <td>889.135915</td>\n      <td>-1526.004847</td>\n      <td>43434</td>\n      <td>21</td>\n    </tr>\n    <tr>\n      <th>R44</th>\n      <td>2539.722058</td>\n      <td>-4359.168662</td>\n      <td>139226</td>\n      <td>60</td>\n    </tr>\n    <tr>\n      <th>X90</th>\n      <td>7670.073067</td>\n      <td>-13209.474176</td>\n      <td>555225</td>\n      <td>182</td>\n    </tr>\n    <tr>\n      <th>X92</th>\n      <td>3242.130208</td>\n      <td>-5587.333747</td>\n      <td>275039</td>\n      <td>77</td>\n    </tr>\n  </tbody>\n</table>\n</div>"
     },
     "execution_count": 28,
     "metadata": {},
     "output_type": "execute_result"
    }
   ],
   "source": [
    "routes = stop_routes.copy()\n",
    "routes['Num_of_stops']= 1\n",
    "routes.groupby(['route_id']).sum() # gives number of stops per route"
   ],
   "metadata": {
    "collapsed": false,
    "pycharm": {
     "name": "#%%\n"
    }
   }
  },
  {
   "cell_type": "code",
   "execution_count": 29,
   "outputs": [],
   "source": [
    "# route_stop = load_data(route_stop_path)\n",
    "# route_stop.set_index('Unnamed: 0', inplace=True)\n",
    "# route_stop.index.name = 'stop_id'\n",
    "# print(((len(full_stops) - len(full_stops.loc[full_stops['StopActiveDesc'] == 'Active']) )/ len(full_stops))*100, '% of the full_stops are inactive at the moment. The inference will only be done on the active full_stops which may reduce accuracy due the the stop being active at the time of activation')"
   ],
   "metadata": {
    "collapsed": false,
    "pycharm": {
     "name": "#%%\n"
    }
   }
  },
  {
   "cell_type": "markdown",
   "metadata": {
    "pycharm": {
     "name": "#%% md\n"
    }
   },
   "source": [
    "# use GTFS kit\n",
    "## use timetable for inference (has date, trip id, routes, stops, and arrival times)"
   ]
  },
  {
   "cell_type": "code",
   "execution_count": 30,
   "metadata": {
    "collapsed": false,
    "jupyter": {
     "outputs_hidden": false
    },
    "pycharm": {
     "name": "#%%\n"
    }
   },
   "outputs": [],
   "source": [
    "# get separate GTFS files\n",
    "# feed = gk.read_feed(path, dist_units='km')\n",
    "# stop_times = feed.stop_times\n",
    "# trips = feed.trips\n",
    "# routes = feed.routes\n",
    "# gtfs_stops = feed.stops\n",
    "# calendar = feed.calendar\n",
    "# calendar_dates = feed.calendar_dates\n",
    "# shapes = feed.shapes"
   ]
  },
  {
   "cell_type": "markdown",
   "metadata": {
    "pycharm": {
     "name": "#%% md\n"
    }
   },
   "source": [
    "# Boarding inference\n",
    "###### flow:\n",
    "###### for every activation in Bytemark:\n",
    "######     -filter stop_times file to get only the stops used around the activation time\n",
    "######     -take those stop names and filter the full stops file to get those stops lon lat\n",
    "######     -check the proximity of the activation to this list of stops\n",
    "######     -assign to the stop within threshold"
   ]
  },
  {
   "cell_type": "markdown",
   "metadata": {},
   "source": [
    "###### Prepare the data:\n",
    "###### Load GTFS stop_times file (old)\n",
    "###### use the route_timetable_ instead (has everything in stop_times file and more)\n",
    "###### prepare route_timetable_ file"
   ]
  },
  {
   "cell_type": "markdown",
   "metadata": {},
   "source": [
    "## Prepare the Bytemark sample that will be used\n",
    "#### Bytemark for the specified GTFS period\n",
    "##### Get dates from route timetable and subset the bytemark to the date range to have a valid inference.\n",
    "###### This is with the purpose of eventually inferring the alightings for every period so no need to get a perect month from 1 to 31"
   ]
  },
  {
   "cell_type": "markdown",
   "metadata": {},
   "source": [
    "# Use a week to get results for better assumptions faster\n",
    "## use full data for the spatial analysis"
   ]
  },
  {
   "cell_type": "markdown",
   "metadata": {},
   "source": [
    "###### Filter stops to only contain the stops which are in the GTFS stop times folder for that period(the GTFS period) (as passengers couldn't have used a stop which is not in the schedule for that period of time( avoids false inferences and also avoids an error later when we try to find the route ID for the inferred stop in the GTFS file and it's not there))\n",
    "###### Seems like some stops are missing in the GTFS. Leave these in for now"
   ]
  },
  {
   "cell_type": "code",
   "execution_count": 31,
   "metadata": {
    "collapsed": false,
    "jupyter": {
     "outputs_hidden": false
    },
    "pycharm": {
     "name": "#%%\n"
    }
   },
   "outputs": [],
   "source": [
    "# stop_times.stop_id = stop_times.stop_id.astype('str')\n",
    "# k = list (stop_times.stop_id)\n",
    "# full_stops.StopID = full_stops.StopID.astype('int')\n",
    "# full_stops.StopID = full_stops.StopID.astype('str')\n",
    "# full_stops = full_stops[full_stops['StopID'].isin(k)]\n",
    "# full_stops"
   ]
  },
  {
   "cell_type": "markdown",
   "metadata": {},
   "source": [
    "#### This next part will need to be removed later (removed)\n",
    "###### The \"route_stop_undummied\" file sent by PVTA (Am's email) does not contain all the stops. I will have to remove those stops from all the files to make this work. (fix)\n",
    "###### Does the route file contain stopID or unique IDs? ( use stop ID)\n",
    "###### So:\n",
    "###### \"route_stop_undummied\" (which is made in the next cell) will be used to infer boarding stops instead of the full stops file above so we don't infer a stop from \"full_stops\" that is not found when we try to find the possible routes from the \"route_stop_undummied \" file\n",
    "###### {\"route_stop_undummied\" contains the stops and their routes and merged with full stops to contain other info}"
   ]
  },
  {
   "cell_type": "markdown",
   "metadata": {},
   "source": [
    "###### First remove the duplicated stop ids in the boarding inference (due to multiple routes for each one). we only need one stop and its location in this first step (is this when we only used the first route as the correct one? If so, remove this line)\n",
    "\n",
    "###### The next functions will use the full data to include all possibilities of routes for each inferred stop here"
   ]
  },
  {
   "cell_type": "markdown",
   "metadata": {},
   "source": [
    "###### Useful idea to get the trip ID along with the stop id (no need to find all possible ids later)\n",
    "\n",
    "###### Code alternative to the joining method below (df = df.groupby(['stop id','info'])['trip id'].apply(', '.join).reset_index()) (grouping by all other columns and then applying the join function)\n",
    "\n",
    "### The code below infers the boarding stop id, unique stop id, and possible trip ids.\n",
    "\n",
    "Failed\n",
    "- tqdm was messing with the index value (fix by separating tqdm and the for loop)\n",
    "- the bytemark starts at the same date but not the same hour of the timetable (fixed by adding an hour to the above code that matches the dates)"
   ]
  },
  {
   "cell_type": "markdown",
   "metadata": {},
   "source": [
    "## A week from march 15th to 21st to test the thresholds, changes save file to a week temporarily. Change it back later"
   ]
  },
  {
   "cell_type": "markdown",
   "metadata": {},
   "source": [
    "## 1: get UUIDS and cluster labels from 11.7.2.1 and subset the current data by tyopology and make a table of the accuracy for each.\n",
    "## 2: concat them and save file\n",
    "\n",
    "    - Changed naming of saved files in jan march inside function. Turn back\n"
   ]
  },
  {
   "cell_type": "markdown",
   "source": [
    "Define the functions\n",
    "\n",
    "## Next set Global to False and set thresholds"
   ],
   "metadata": {
    "collapsed": false
   }
  },
  {
   "cell_type": "code",
   "execution_count": 32,
   "metadata": {
    "collapsed": false,
    "jupyter": {
     "outputs_hidden": false
    },
    "pycharm": {
     "name": "#%%\n"
    }
   },
   "outputs": [],
   "source": [
    "def merge_data_and_clusterlabels(bytemark = bytemark_sample_used):\n",
    "    \"\"\"\n",
    "\n",
    "    :param bytemark: The bytemark intended to be comlemented with cluster labels\n",
    "    :return: bytemark with labels\n",
    "    \"\"\"\n",
    "    bytemark.UUID = bytemark.UUID.astype('str')\n",
    "    uuid_and_labels = pd.read_parquet('dataframes/uuid-cluster-labels-from-st-analysis.parquet')\n",
    "    bytemark_clustered = pd.merge(bytemark,uuid_and_labels,on='UUID')\n",
    "    return bytemark_clustered\n",
    "\n",
    "def closest_point(point, points, threshold):\n",
    "    \"\"\"\n",
    "    Calculates the distance between the activation location and all stops in the system. Returns the closest stop location and the index of that stop to be used to bring other information from the temp folder used in the calculation.\n",
    "\n",
    "    :param point: The activation coordinates in a tuple form.\n",
    "    :param points: All stop coordinates in a list of tuples. The stops are filterd first by schedule.\n",
    "    :param threshold: The distance within which we want to find stops around the activation location. It is a euclidean distance and in this area 0.01 is approximately equal to 1 km.\n",
    "    :return: The closest stop location and the index of that stop.\n",
    "    \"\"\"\n",
    "    if points:\n",
    "        # Find closest point from a list of points.\n",
    "        # filter to not take anything more that a certain euclidean distance (0.001 roughly equals 100 meters)\n",
    "        euclidean = cdist([point], points)\n",
    "\n",
    "        euclidean_s = euclidean[np.where(euclidean < threshold)] # test different combinations of these thresholds and document # 0.01 is 1 km\n",
    "        if euclidean_s.size:\n",
    "        # if True:\n",
    "            #slight caveat. if you dont use euclidean_s as it is used above, it takes the index from the shortened list and compares it the the full list of the full_stops (fixed by using euclidean_s as a separate stipulation for making the inference)\n",
    "            ind = euclidean.argmin() #index of smallest value\n",
    "\n",
    "            return points[ind],ind # uses index of minimum distance in the list between a 'point' and 'points' to get the lon lat from 'points' list\n",
    "        else:\n",
    "            return 9999999,9999999 # 9999999 in the assigned stop location column means it does not meat the distance threshold requirement\n",
    "    else:\n",
    "        return 9999999,9999999\n",
    "\n",
    "def determine_thresholds(Global_threshold,i):\n",
    "    \"\"\"\n",
    "    Set a global or a more specific thresholds\n",
    "\n",
    "    Set a time buffer (will it change based on typology too?)\n",
    "\n",
    "    :return: threshold, buffer\n",
    "    \"\"\"\n",
    "\n",
    "    if Global_threshold == True:\n",
    "        threshold = 0.01 # global distance threshold\n",
    "    elif i == 0:\n",
    "        threshold = 0.0031 # 0.01 is 1 km\n",
    "    elif i == 1:\n",
    "        threshold =  0.00268\n",
    "    elif i == 2:\n",
    "        threshold = 0.0025\n",
    "    elif i == 3:\n",
    "        threshold = 0.0025\n",
    "    buffer = 10 # minutes\n",
    "\n",
    "    return threshold, buffer\n",
    "\n",
    "def filter_timetable(route_timetable_,mini,maxi,Stops,):\n",
    "                    \"\"\"\n",
    "                    Filters the timetable (schedule) dataframe to obtain only the stops used around the activation time and their route and trip IDs\n",
    "\n",
    "                    The returned dataframe will be used as the stops data. The closest stop to the activation with the time threshold used here will be considered the boarding location.\n",
    "\n",
    "                    issues:\n",
    "                        if the stop closest to the activation location (e.g. across the street) has been used within the 40 minutes. It will be inferred. No way to fix.\n",
    "                        This assigns Timestamp when grouping by stop ID to get possible routes and assumes that the multiple trips are on the same time. This is not true but wont affect the results (fix)\n",
    "\n",
    "                    :param route_timetable_: Bus schedule.\n",
    "                    :param mini: Lower bus arrival threshold. This accounts for the bas being late.\n",
    "                    :param maxi: Higher bus arrival threshold. This accounts for the bus being early (such as buses arriving at end of line and waiting for 10 minutes to move while allowing passengers on).\n",
    "                    :param Stops: All stops in the system. Used to add stop information such as location to the bus schedule data.\n",
    "                    :return: temp: the possible stops and routes within the time threshold (has the stop, route, and trip IDs associated with each stop)\n",
    "                             new: a dataframe with columns for each possible route\n",
    "                    \"\"\"\n",
    "\n",
    "                    temp = route_timetable_.copy()\n",
    "                    temp = temp[temp.Timestamp.between(mini, maxi)] # timetable of stops only used around the time of activation\n",
    "                    temp = pd.merge(Stops, temp, how ='inner', on = 'StopID')# merged with the full stops file to get stops information in the filtered schedule\n",
    "                    # The above merging results in identical rows with different route IDs for stops that have multiple possible trips with multiple or the same route\n",
    "                    # The following code groups all identical columns and puts each possible trip id for the same stop in different columns with incremental values (trip 0, trip 1, etc.)\n",
    "                    temp = temp.groupby('StopID').agg({'StopReportLabel':'first','UniqueStopInternalID':'first','Latitude':'first','Longitude':'first', 'StopLocation':'first','route_id': ', '.join, 'trip_id': ', '.join, 'Timestamp': 'first'}).reset_index() # 'trip_id': ', '.join,\n",
    "                    # return temp,0\n",
    "                    new = temp[\"route_id\"].str.split(\", \", n = 0, expand = True) # split possible route IDs for each station # gives a dataframe with columns for each possible route\n",
    "                    # Add each of them to a different column\n",
    "                    index_, no_of_route_columns= 0,0\n",
    "                    for column in new:\n",
    "                        suffix = '_No_' + str(index_)\n",
    "                        col_name=\"route_id\" + suffix\n",
    "                        temp[col_name] = new[index_]\n",
    "                        # del new\n",
    "                        index_ += 1\n",
    "                        no_of_route_columns += 1\n",
    "\n",
    "                    # Drop the column with all of the IDs joined\n",
    "                    temp.drop(columns =[\"route_id\"], inplace = True)\n",
    "\n",
    "                    # split possible trip IDs for each station # same thing as with routes\n",
    "                    new_ = temp[\"trip_id\"].str.split(\", \", n = 0, expand = True)\n",
    "                    # Add each of them to a different column\n",
    "                    index_ = 0\n",
    "                    for column in new_:\n",
    "                        suffix = '_No_' + str(index_)\n",
    "                        col_name=\"trip_id\" + suffix\n",
    "                        temp[col_name] = new_[index_]\n",
    "                        # del new_\n",
    "                        index_ += 1\n",
    "                    # Drop the column with all of the IDs joined\n",
    "                    temp.drop(columns =[\"trip_id\"], inplace = True)\n",
    "\n",
    "                    return temp, new\n",
    "\n",
    "def assign_points_to_closest_stop_with_gtfs(full_stops,bytemark,route_timetable_, Global_threshold = True):\n",
    "    \"\"\"\n",
    "    Infers the boarding stop id, unique stop id, and possible trip ids for each activation. Then returns a data frame with the inferred boarding stop, based on location and bus schedule, and all possible route IDs based on the bus schedule.\n",
    "\n",
    "    :param full_stops: Dataframe of all stops in the network containing all information related to them including locations, labels, IDs, etc. Will be used to find closest stops to each activation.\n",
    "    :param bytemark: Bytemark data frame that contains activation information such as location and timestamp.\n",
    "    :param route_timetable_: Dataframe created from GTFS using GTFS_kit. It contains all bus schedules in the network including the trip IDs, route IDs, etc. Will be used to link activation times to bus arrival times at the closest stops to the activation.\n",
    "    :return: 1. accuracy: List of accuracies of inference for each typology.\n",
    "             2. dataframes: List of inferred data frames for each typology to be combined later.\n",
    "    \"\"\"\n",
    "\n",
    "    accuracy = [] # record all typology accuracies here\n",
    "    dataframes = [] # record all processed typologies here\n",
    "\n",
    "    bytemark = merge_data_and_clusterlabels(bytemark = bytemark) # add typology labels (currently stop at March 2021)\n",
    "    full_stops = full_stops.drop_duplicates(subset=['StopID'],keep='first') # REMOVE DUPLICATE STOPS. WE ONLY NEED THEM ONCE\n",
    "    df1 = full_stops.copy()\n",
    "    df1['StopLocation'] = [(x, y) for x,y in zip(df1['Latitude'], df1['Longitude'])]\n",
    "\n",
    "    for i in range(bytemark.Typology.nunique()): # subset bytemark by typology\n",
    "        Typology_num = i + 1\n",
    "        print(f'FOR TYPOLOGY {Typology_num}')\n",
    "        temp_bytemark = bytemark[bytemark.Typology == Typology_num]\n",
    "\n",
    "        df2 = temp_bytemark.copy()\n",
    "        df2['ActivationLocation'] = [(x, y) for x,y in zip(df2['Latitude'], df2['Longitude'])]\n",
    "        # Create new column for inference\n",
    "        df2['AssignedStopLonLat'] = np.nan\n",
    "        df2['assigned_boarding_time'] = np.nan\n",
    "        df2['UniqueStopInternalID'] = np.nan\n",
    "        df2['StopID'] = np.nan\n",
    "        df2.AssignedStopLonLat = [(9999999,9999999)] * len(df2) # Pandas wont set a tuple over any other value and returns an error. It does, however, set tuples over other tuples. That's why I made the new column a list of tuples (9999999,9999999).\n",
    "\n",
    "        ## Set global or a more specific thresholds\n",
    "        threshold,buffer = determine_thresholds(Global_threshold,i)\n",
    "        print(f'the distance threshold is set to be {threshold * 100000} m and the time is {buffer} minutes')\n",
    "\n",
    "        # use double return as in the alighting function to infer the location and the stop ID and maybe more all at once. yOU WONT NEED THE NEXT (match_value) FUNCTION. ? investigate what this means later. the closest_point function was directly below this text and  has been moved outside this function.\n",
    "\n",
    "        with tqdm(total=len(df2)) as pbar: # explicit use of tqdm since using it in the for loop seems to change the index value unexpectedly\n",
    "            for index, row in df2.iterrows(): # iterate through the bytemark rows\n",
    "                pbar.update(1)\n",
    "                # get the lower and upper time thresholds thresholds for each activation\n",
    "                mini = pd.to_datetime([df2.loc[index,'Time_Scanned'] - pd.Timedelta(minutes = buffer)])\n",
    "                mini = mini.astype('str')[0]\n",
    "                maxi = pd.to_datetime([df2.loc[index,'Time_Scanned'] + pd.Timedelta(minutes = buffer)])\n",
    "                maxi = maxi.astype('str')[0]\n",
    "\n",
    "                temp,new = filter_timetable(route_timetable_,mini,maxi,Stops = df1,) # temp is the possible stops and routes within the time threshold (has the stop, route, and trip IDs associated with each stop) # new is a dataframe with columns for each possible route\n",
    "\n",
    "                if temp.empty:  # if temp is empty (meaning no stop has been used around the time off activation, assign the stop to 9999999\n",
    "                    df2['AssignedStopLonLat'][index] = 9999999 # assign the stop as 9999999 instead of (9999999,9999999) to signal it has been processed but no close stops exist\n",
    "\n",
    "                else:  # In case stops have been used, check the proximity of the activation to this list of stops and assign to the closest stop within threshold\n",
    "                    closest_point_, index_in_temp = closest_point(row['ActivationLocation'], list(temp['StopLocation']), threshold)\n",
    "                    df2['AssignedStopLonLat'][index] = closest_point_  # assign the stop as the closest found in the filtered schedule data. If no stops have been found around the activation. assign stop as 9999999\n",
    "\n",
    "                    if index_in_temp != 9999999: # If stops around the activation exist. Assign additional stop features other than the coordinates, such as the ID\n",
    "                        df2['UniqueStopInternalID'][index], df2['StopID'][index]= temp['UniqueStopInternalID'][index_in_temp], temp['StopID'][index_in_temp] # puts the value in the bytemark in the current activation row as the value in the schedule data in the inferred stop row\n",
    "                        df2['assigned_boarding_time'][index] = temp['Timestamp'][index_in_temp] #inaccurate (see the filter_timetable function description)\n",
    "                        # add possible route and trip ids to the bytemark data this time\n",
    "                        index_ = 0\n",
    "                        for column in new: # new instead of temp since new has the index numbers we need (0,1,2,3,...) and same number of rows (could be because we dont want to reset temp index)\n",
    "                            suffix = '_No_' + str(index_)\n",
    "                            col_name=\"route_id\" + suffix\n",
    "                            if col_name not in df2: # add the column to the bytemark as a nan value if it does not exist. So, this assures columns are not duplicated with each new row processed.\n",
    "                                df2[col_name] = np.nan\n",
    "                            df2[col_name][index] = temp[col_name][index_in_temp] #After making sure the appropriate column exists, take possible route and trip ID from the schedule data and put them in the bytemark data\n",
    "                            # Add trip IDs # Go back and split trip IDs (should be already done...?)\n",
    "                            col_name_ = \"trip_id\" + suffix\n",
    "                            if col_name_ not in df2:\n",
    "                                df2[col_name_] = np.nan\n",
    "                            # if the column exists, this step should work just fine\n",
    "                            df2[col_name_][index] = temp[col_name_][index_in_temp]\n",
    "                            index_ += 1\n",
    "                del temp # save memory and run faster (should)\n",
    "                del new\n",
    "                del mini\n",
    "                del maxi\n",
    "                # del\n",
    "        Number_of_points = len(df2) # for accuracy measures\n",
    "        df2[\"AssignedStopLonLat\"].replace({9999999: np.nan}, inplace=True) #Replace processed activations without results to nan leaving the tuples for later processing.\n",
    "        df2.drop(columns =[\"Serial\",'Price','Program','Weekday','Minute','Purchased','First_Activation','Expiration'], inplace = True)\n",
    "        df2 = df2[df2['StopID'].notna()] # remove all uninferred activations\n",
    "\n",
    "        ### clean data and rename dataframe?\n",
    "        ########### get infeasible stops\n",
    "        # df2.to_csv(r\"../../data/tidy/Byte-April-inferred-uninferred-boarding.csv\", index=True,)\n",
    "        # temp__ = df2.copy()\n",
    "        # full_bytemark = temp__[temp__['StopID'].isna()]\n",
    "        # full_bytemark.to_csv(r\"../../data/tidy/Byte-April-uninferred-boarding.csv\", index=True,) (when you need uninferred)\n",
    "        ###########\n",
    "\n",
    "        # df2.dropna(subset = [\"AssignedStopLonLat\"], inplace=True) # Don't think this is necessary since we dropped the nan STOP IDs\n",
    "        # print('Percentage of preliminary (before cleaning) matched boardings:',(len(df2)/Number_of_points)*100,'%') # calculate the matching rate for the typology\n",
    "\n",
    "        # if period == '1':\n",
    "        #     print('You chose March-May')\n",
    "        #     df2.to_csv(f\"../../data/tidy/Byte-April-inferred-boarding.csv\", # turn to April\n",
    "        #                           index=True,)\n",
    "        # elif period == '2':\n",
    "        #     print('You chose June-August')\n",
    "        #     df2.to_csv(f\"../../data/tidy/Byte-July-inferred-boarding.csv\", # turn to April\n",
    "        #                           index=True,)\n",
    "        # elif period == '3':\n",
    "        #     df2.to_csv(f\"../../data/tidy/Byte-jan-march-2021-boarding-t{i+1}.csv\", # turn to April\n",
    "        #                           index=True,) # save to a week temporarily\n",
    "        #\n",
    "        #     # df2.to_csv(r\"../../data/tidy/Byte-jan-march-2021-boarding.csv\", # turn to April\n",
    "        #                           # index=True,)\n",
    "        # elif period == '4':\n",
    "        #     df2.to_csv(f\"../../data/tidy/Byte-jan-2022-inferred-boarding.csv\", # turn to April\n",
    "        #                           index=True,)\n",
    "        # elif period == '5':\n",
    "        #     df2.to_csv(f\"../../data/tidy/Byte-dec-22-2022-inferred-boarding.csv\", # turn to April\n",
    "        #                           index=True,)\n",
    "        # elif period == '6':\n",
    "        #     df2.to_csv(f\"../../data/tidy/Byte-dec-14-2022-inferred-boarding.csv\",index=True)\n",
    "\n",
    "        dataframes.append(df2) #each inferred T\n",
    "        accuracy.append((len(df2)/Number_of_points)*100) #accuracies for each T\n",
    "        del df2 # remove the data with this typology and start the next one in the for loop\n",
    "\n",
    "    return accuracy,dataframes #, full_bytemark\n"
   ]
  },
  {
   "cell_type": "markdown",
   "source": [
    "## Use the function to process data with a very high distance threshold by setting Global = True below and then False when you reach the values\n",
    " - Keep in mind the accuracy wil be 5% higher than when you choose the p95 later"
   ],
   "metadata": {
    "collapsed": false
   }
  },
  {
   "cell_type": "code",
   "execution_count": 33,
   "metadata": {
    "collapsed": false,
    "jupyter": {
     "outputs_hidden": false
    },
    "pycharm": {
     "name": "#%%\n"
    }
   },
   "outputs": [
    {
     "name": "stdout",
     "output_type": "stream",
     "text": [
      "FOR TYPOLOGY 1\n",
      "the distance threshold is set to be 1000.0 m and the time is 10 minutes\n"
     ]
    },
    {
     "name": "stderr",
     "output_type": "stream",
     "text": [
      "100%|██████████| 459/459 [01:15<00:00,  6.12it/s]\n"
     ]
    },
    {
     "name": "stdout",
     "output_type": "stream",
     "text": [
      "FOR TYPOLOGY 2\n",
      "the distance threshold is set to be 1000.0 m and the time is 10 minutes\n"
     ]
    },
    {
     "name": "stderr",
     "output_type": "stream",
     "text": [
      "100%|██████████| 696/696 [01:53<00:00,  6.12it/s]\n"
     ]
    },
    {
     "name": "stdout",
     "output_type": "stream",
     "text": [
      "FOR TYPOLOGY 3\n",
      "the distance threshold is set to be 1000.0 m and the time is 10 minutes\n"
     ]
    },
    {
     "name": "stderr",
     "output_type": "stream",
     "text": [
      "100%|██████████| 282/282 [00:45<00:00,  6.14it/s]\n"
     ]
    },
    {
     "name": "stdout",
     "output_type": "stream",
     "text": [
      "FOR TYPOLOGY 4\n",
      "the distance threshold is set to be 1000.0 m and the time is 10 minutes\n"
     ]
    },
    {
     "name": "stderr",
     "output_type": "stream",
     "text": [
      "100%|██████████| 113/113 [00:18<00:00,  6.09it/s]"
     ]
    },
    {
     "name": "stdout",
     "output_type": "stream",
     "text": [
      "Time = 253.37192153930664,\n",
      " The result has an accuracy of 85% \n",
      " \n"
     ]
    },
    {
     "name": "stderr",
     "output_type": "stream",
     "text": [
      "\n"
     ]
    },
    {
     "data": {
      "text/plain": "              Datetime  UUID        Faretype        Time_Scanned   Latitude  \\\n6  2021-03-15 04:55:43   679      7 Day Pass 2021-03-15 04:55:43  42.106557   \n7  2021-03-15 05:07:57   679      7 Day Pass 2021-03-15 05:07:57  42.106497   \n8  2021-03-15 10:29:27   679      7 Day Pass 2021-03-15 10:29:27  42.142034   \n14 2021-03-15 05:11:28  2326  31 Day Regular 2021-03-15 05:11:28  42.091452   \n15 2021-03-15 15:19:32  2326  31 Day Regular 2021-03-15 15:19:32  42.142448   \n\n    Longitude       Date  Calendar_Month  Hour Status.x  ...  route_id_No_6  \\\n6  -72.597563  3/15/2021               3     4  EXPIRED  ...            NaN   \n7  -72.594146  3/15/2021               3     5  EXPIRED  ...            NaN   \n8  -72.491949  3/15/2021               3    10  EXPIRED  ...            NaN   \n14 -72.580245  3/15/2021               3     5  EXPIRED  ...            NaN   \n15 -72.543351  3/15/2021               3    15  EXPIRED  ...            NaN   \n\n    trip_id_No_6 route_id_No_7 trip_id_No_7 route_id_No_8  trip_id_No_8  \\\n6            NaN           NaN          NaN           NaN           NaN   \n7            NaN           NaN          NaN           NaN           NaN   \n8            NaN           NaN          NaN           NaN           NaN   \n14           NaN           NaN          NaN           NaN           NaN   \n15           NaN           NaN          NaN           NaN           NaN   \n\n   route_id_No_9 trip_id_No_9 route_id_No_10 trip_id_No_10  \n6            NaN          NaN            NaN           NaN  \n7            NaN          NaN            NaN           NaN  \n8            NaN          NaN            NaN           NaN  \n14           NaN          NaN            NaN           NaN  \n15           NaN          NaN            NaN           NaN  \n\n[5 rows x 39 columns]",
      "text/html": "<div>\n<style scoped>\n    .dataframe tbody tr th:only-of-type {\n        vertical-align: middle;\n    }\n\n    .dataframe tbody tr th {\n        vertical-align: top;\n    }\n\n    .dataframe thead th {\n        text-align: right;\n    }\n</style>\n<table border=\"1\" class=\"dataframe\">\n  <thead>\n    <tr style=\"text-align: right;\">\n      <th></th>\n      <th>Datetime</th>\n      <th>UUID</th>\n      <th>Faretype</th>\n      <th>Time_Scanned</th>\n      <th>Latitude</th>\n      <th>Longitude</th>\n      <th>Date</th>\n      <th>Calendar_Month</th>\n      <th>Hour</th>\n      <th>Status.x</th>\n      <th>...</th>\n      <th>route_id_No_6</th>\n      <th>trip_id_No_6</th>\n      <th>route_id_No_7</th>\n      <th>trip_id_No_7</th>\n      <th>route_id_No_8</th>\n      <th>trip_id_No_8</th>\n      <th>route_id_No_9</th>\n      <th>trip_id_No_9</th>\n      <th>route_id_No_10</th>\n      <th>trip_id_No_10</th>\n    </tr>\n  </thead>\n  <tbody>\n    <tr>\n      <th>6</th>\n      <td>2021-03-15 04:55:43</td>\n      <td>679</td>\n      <td>7 Day Pass</td>\n      <td>2021-03-15 04:55:43</td>\n      <td>42.106557</td>\n      <td>-72.597563</td>\n      <td>3/15/2021</td>\n      <td>3</td>\n      <td>4</td>\n      <td>EXPIRED</td>\n      <td>...</td>\n      <td>NaN</td>\n      <td>NaN</td>\n      <td>NaN</td>\n      <td>NaN</td>\n      <td>NaN</td>\n      <td>NaN</td>\n      <td>NaN</td>\n      <td>NaN</td>\n      <td>NaN</td>\n      <td>NaN</td>\n    </tr>\n    <tr>\n      <th>7</th>\n      <td>2021-03-15 05:07:57</td>\n      <td>679</td>\n      <td>7 Day Pass</td>\n      <td>2021-03-15 05:07:57</td>\n      <td>42.106497</td>\n      <td>-72.594146</td>\n      <td>3/15/2021</td>\n      <td>3</td>\n      <td>5</td>\n      <td>EXPIRED</td>\n      <td>...</td>\n      <td>NaN</td>\n      <td>NaN</td>\n      <td>NaN</td>\n      <td>NaN</td>\n      <td>NaN</td>\n      <td>NaN</td>\n      <td>NaN</td>\n      <td>NaN</td>\n      <td>NaN</td>\n      <td>NaN</td>\n    </tr>\n    <tr>\n      <th>8</th>\n      <td>2021-03-15 10:29:27</td>\n      <td>679</td>\n      <td>7 Day Pass</td>\n      <td>2021-03-15 10:29:27</td>\n      <td>42.142034</td>\n      <td>-72.491949</td>\n      <td>3/15/2021</td>\n      <td>3</td>\n      <td>10</td>\n      <td>EXPIRED</td>\n      <td>...</td>\n      <td>NaN</td>\n      <td>NaN</td>\n      <td>NaN</td>\n      <td>NaN</td>\n      <td>NaN</td>\n      <td>NaN</td>\n      <td>NaN</td>\n      <td>NaN</td>\n      <td>NaN</td>\n      <td>NaN</td>\n    </tr>\n    <tr>\n      <th>14</th>\n      <td>2021-03-15 05:11:28</td>\n      <td>2326</td>\n      <td>31 Day Regular</td>\n      <td>2021-03-15 05:11:28</td>\n      <td>42.091452</td>\n      <td>-72.580245</td>\n      <td>3/15/2021</td>\n      <td>3</td>\n      <td>5</td>\n      <td>EXPIRED</td>\n      <td>...</td>\n      <td>NaN</td>\n      <td>NaN</td>\n      <td>NaN</td>\n      <td>NaN</td>\n      <td>NaN</td>\n      <td>NaN</td>\n      <td>NaN</td>\n      <td>NaN</td>\n      <td>NaN</td>\n      <td>NaN</td>\n    </tr>\n    <tr>\n      <th>15</th>\n      <td>2021-03-15 15:19:32</td>\n      <td>2326</td>\n      <td>31 Day Regular</td>\n      <td>2021-03-15 15:19:32</td>\n      <td>42.142448</td>\n      <td>-72.543351</td>\n      <td>3/15/2021</td>\n      <td>3</td>\n      <td>15</td>\n      <td>EXPIRED</td>\n      <td>...</td>\n      <td>NaN</td>\n      <td>NaN</td>\n      <td>NaN</td>\n      <td>NaN</td>\n      <td>NaN</td>\n      <td>NaN</td>\n      <td>NaN</td>\n      <td>NaN</td>\n      <td>NaN</td>\n      <td>NaN</td>\n    </tr>\n  </tbody>\n</table>\n<p>5 rows × 39 columns</p>\n</div>"
     },
     "metadata": {},
     "output_type": "display_data"
    }
   ],
   "source": [
    "# choice = input(f'Would you like to start with global thresholds or obtimized ones?\\n'\n",
    "#                f'Global = 1\\n'\n",
    "#                f'Optimized = 0')\n",
    "# Global = True if choice == 1 else False # test this code first\n",
    "Global = True\n",
    "\n",
    "start = time.time()\n",
    "accuracy,dataframes = assign_points_to_closest_stop_with_gtfs(full_stops,bytemark_sample_used,route_timetable_, Global_threshold = Global) # ONLY RUN THIS FOR NEXT GTFS USAGE. Took 8011 seconds (2.225 hours) to run for March 11 - May 8 (50,000 rows)\n",
    "end = time.time()\n",
    "\n",
    "# Create the completed inferred file and save it then calculate the accuracy\n",
    "full_assigned = pd.concat(dataframes)\n",
    "Accuracy = (len(full_assigned)/len(bytemark_sample_used)) * 100\n",
    "full_assigned.to_csv(f\"../../data/tidy/Byte-15-march-2021-inferred-boarding.csv\", index=False)\n",
    "print(f'Time = {end - start},\\n The result has an accuracy of {round(Accuracy)}% \\n ')\n",
    "display(full_assigned.head())"
   ]
  },
  {
   "cell_type": "markdown",
   "source": [
    "Global:  Time = 2292.4\n",
    "         Accuracy = 86%\n",
    "Special: Time = 1960\n",
    "         Accuracy = 80%\n",
    "\n",
    "highest accuracy is in T1  96% and lowest in T4 66% with the global thresholds\n",
    "highest accuracy is in T1  90% and lowest in T4 62% with the special thresholds"
   ],
   "metadata": {
    "collapsed": false
   }
  },
  {
   "cell_type": "markdown",
   "source": [],
   "metadata": {
    "collapsed": false
   }
  },
  {
   "cell_type": "code",
   "execution_count": 34,
   "metadata": {
    "collapsed": false,
    "jupyter": {
     "outputs_hidden": false
    },
    "pycharm": {
     "name": "#%%\n"
    }
   },
   "outputs": [
    {
     "name": "stdout",
     "output_type": "stream",
     "text": [
      "[94.11764705882352, 92.95977011494253, 84.04255319148936, 78.76106194690266]\n"
     ]
    }
   ],
   "source": [
    "print(accuracy) # highest in T1  94% and lowest T4 79% with the global thresholds"
   ]
  },
  {
   "cell_type": "markdown",
   "metadata": {},
   "source": [
    "## Optimized code (only run this when you need optimized speed with better thresholds\n",
    "# Use this code later when you confirm the best numbers to adjust the above code"
   ]
  },
  {
   "cell_type": "markdown",
   "metadata": {},
   "source": []
  },
  {
   "cell_type": "markdown",
   "metadata": {},
   "source": [
    "--------------------------------------------------------------------\n",
    "# Can now run time analysis since we can use the Time of boarding as the bus schedule and time of activations as the bus arrival\n",
    "# To do analysis on results without going through runnung the code. load any data file that you already used the global threshold (> 1000 m) on."
   ]
  },
  {
   "cell_type": "markdown",
   "metadata": {},
   "source": [
    "# Distribution of distances from all assigned activation locations to their assigned (the thresholds are 1 km and 20 minuutes)"
   ]
  },
  {
   "cell_type": "code",
   "execution_count": 35,
   "metadata": {
    "collapsed": false,
    "jupyter": {
     "outputs_hidden": false
    },
    "pycharm": {
     "name": "#%%\n"
    }
   },
   "outputs": [
    {
     "data": {
      "text/plain": "              Datetime  UUID        Faretype         Time_Scanned   Latitude  \\\n0  2021-03-15 04:55:43   679      7 Day Pass  2021-03-15 04:55:43  42.106557   \n1  2021-03-15 05:07:57   679      7 Day Pass  2021-03-15 05:07:57  42.106497   \n2  2021-03-15 10:29:27   679      7 Day Pass  2021-03-15 10:29:27  42.142034   \n3  2021-03-15 05:11:28  2326  31 Day Regular  2021-03-15 05:11:28  42.091452   \n4  2021-03-15 15:19:32  2326  31 Day Regular  2021-03-15 15:19:32  42.142448   \n\n   Longitude       Date  Calendar_Month  Hour Status.x  ...  trip_id_No_6  \\\n0 -72.597563  3/15/2021               3     4  EXPIRED  ...           NaN   \n1 -72.594146  3/15/2021               3     5  EXPIRED  ...           NaN   \n2 -72.491949  3/15/2021               3    10  EXPIRED  ...           NaN   \n3 -72.580245  3/15/2021               3     5  EXPIRED  ...           NaN   \n4 -72.543351  3/15/2021               3    15  EXPIRED  ...           NaN   \n\n   route_id_No_7 trip_id_No_7 route_id_No_8 trip_id_No_8  route_id_No_9  \\\n0            NaN          NaN           NaN          NaN            NaN   \n1            NaN          NaN           NaN          NaN            NaN   \n2            NaN          NaN           NaN          NaN            NaN   \n3            NaN          NaN           NaN          NaN            NaN   \n4            NaN          NaN           NaN          NaN            NaN   \n\n   trip_id_No_9 route_id_No_10 trip_id_No_10        dist  \n0           NaN            NaN           NaN  824.472497  \n1           NaN            NaN           NaN  131.684523  \n2           NaN            NaN           NaN   26.729083  \n3           NaN            NaN           NaN  165.569903  \n4           NaN            NaN           NaN  342.626080  \n\n[5 rows x 40 columns]",
      "text/html": "<div>\n<style scoped>\n    .dataframe tbody tr th:only-of-type {\n        vertical-align: middle;\n    }\n\n    .dataframe tbody tr th {\n        vertical-align: top;\n    }\n\n    .dataframe thead th {\n        text-align: right;\n    }\n</style>\n<table border=\"1\" class=\"dataframe\">\n  <thead>\n    <tr style=\"text-align: right;\">\n      <th></th>\n      <th>Datetime</th>\n      <th>UUID</th>\n      <th>Faretype</th>\n      <th>Time_Scanned</th>\n      <th>Latitude</th>\n      <th>Longitude</th>\n      <th>Date</th>\n      <th>Calendar_Month</th>\n      <th>Hour</th>\n      <th>Status.x</th>\n      <th>...</th>\n      <th>trip_id_No_6</th>\n      <th>route_id_No_7</th>\n      <th>trip_id_No_7</th>\n      <th>route_id_No_8</th>\n      <th>trip_id_No_8</th>\n      <th>route_id_No_9</th>\n      <th>trip_id_No_9</th>\n      <th>route_id_No_10</th>\n      <th>trip_id_No_10</th>\n      <th>dist</th>\n    </tr>\n  </thead>\n  <tbody>\n    <tr>\n      <th>0</th>\n      <td>2021-03-15 04:55:43</td>\n      <td>679</td>\n      <td>7 Day Pass</td>\n      <td>2021-03-15 04:55:43</td>\n      <td>42.106557</td>\n      <td>-72.597563</td>\n      <td>3/15/2021</td>\n      <td>3</td>\n      <td>4</td>\n      <td>EXPIRED</td>\n      <td>...</td>\n      <td>NaN</td>\n      <td>NaN</td>\n      <td>NaN</td>\n      <td>NaN</td>\n      <td>NaN</td>\n      <td>NaN</td>\n      <td>NaN</td>\n      <td>NaN</td>\n      <td>NaN</td>\n      <td>824.472497</td>\n    </tr>\n    <tr>\n      <th>1</th>\n      <td>2021-03-15 05:07:57</td>\n      <td>679</td>\n      <td>7 Day Pass</td>\n      <td>2021-03-15 05:07:57</td>\n      <td>42.106497</td>\n      <td>-72.594146</td>\n      <td>3/15/2021</td>\n      <td>3</td>\n      <td>5</td>\n      <td>EXPIRED</td>\n      <td>...</td>\n      <td>NaN</td>\n      <td>NaN</td>\n      <td>NaN</td>\n      <td>NaN</td>\n      <td>NaN</td>\n      <td>NaN</td>\n      <td>NaN</td>\n      <td>NaN</td>\n      <td>NaN</td>\n      <td>131.684523</td>\n    </tr>\n    <tr>\n      <th>2</th>\n      <td>2021-03-15 10:29:27</td>\n      <td>679</td>\n      <td>7 Day Pass</td>\n      <td>2021-03-15 10:29:27</td>\n      <td>42.142034</td>\n      <td>-72.491949</td>\n      <td>3/15/2021</td>\n      <td>3</td>\n      <td>10</td>\n      <td>EXPIRED</td>\n      <td>...</td>\n      <td>NaN</td>\n      <td>NaN</td>\n      <td>NaN</td>\n      <td>NaN</td>\n      <td>NaN</td>\n      <td>NaN</td>\n      <td>NaN</td>\n      <td>NaN</td>\n      <td>NaN</td>\n      <td>26.729083</td>\n    </tr>\n    <tr>\n      <th>3</th>\n      <td>2021-03-15 05:11:28</td>\n      <td>2326</td>\n      <td>31 Day Regular</td>\n      <td>2021-03-15 05:11:28</td>\n      <td>42.091452</td>\n      <td>-72.580245</td>\n      <td>3/15/2021</td>\n      <td>3</td>\n      <td>5</td>\n      <td>EXPIRED</td>\n      <td>...</td>\n      <td>NaN</td>\n      <td>NaN</td>\n      <td>NaN</td>\n      <td>NaN</td>\n      <td>NaN</td>\n      <td>NaN</td>\n      <td>NaN</td>\n      <td>NaN</td>\n      <td>NaN</td>\n      <td>165.569903</td>\n    </tr>\n    <tr>\n      <th>4</th>\n      <td>2021-03-15 15:19:32</td>\n      <td>2326</td>\n      <td>31 Day Regular</td>\n      <td>2021-03-15 15:19:32</td>\n      <td>42.142448</td>\n      <td>-72.543351</td>\n      <td>3/15/2021</td>\n      <td>3</td>\n      <td>15</td>\n      <td>EXPIRED</td>\n      <td>...</td>\n      <td>NaN</td>\n      <td>NaN</td>\n      <td>NaN</td>\n      <td>NaN</td>\n      <td>NaN</td>\n      <td>NaN</td>\n      <td>NaN</td>\n      <td>NaN</td>\n      <td>NaN</td>\n      <td>342.626080</td>\n    </tr>\n  </tbody>\n</table>\n<p>5 rows × 40 columns</p>\n</div>"
     },
     "execution_count": 35,
     "metadata": {},
     "output_type": "execute_result"
    }
   ],
   "source": [
    "from math import sqrt\n",
    "full_assigned = pd.read_csv(f\"../../data/tidy/Byte-15-march-2021-inferred-boarding.csv\") # Accuracy = 85 in the latest run.\n",
    "\n",
    "def calc_distance(p1, p2): # simple function to find euclidean distance between two coordinate tuples\n",
    "  return sqrt((p1[0]-p2[0])**2+(p1[1]-p2[1])**2) # Pythagorean theorem\n",
    "# calc_distance((42.10634936, -72.59711681),(42.106392, -72.594678))*100000/1.15 # gives meters. If you want miles use: (0.000621371 * (100000/1.15))\n",
    "\n",
    "full_assigned['dist'] = np.nan\n",
    "for index, row in full_assigned.iterrows():\n",
    "    closest_point_ = calc_distance(eval(row['ActivationLocation']), eval(row['AssignedStopLonLat'])) # use eval when you load the data because tuples become strings. eval reverts it\n",
    "    full_assigned['dist'][index] = closest_point_ * (5280 * 0.000621371 * (100000/1.15)) # only works for this local area since were using euclidean distance. Change to greater circle.\n",
    "full_assigned.head()"
   ]
  },
  {
   "cell_type": "markdown",
   "source": [
    "##### full_assigned.to_csv(f\"../../data/tidy/Byte-week-march-2021-inferred-boarding_for_analysis.csv\", index=False) # use to analyze the data for a week"
   ],
   "metadata": {
    "collapsed": false
   }
  },
  {
   "cell_type": "code",
   "execution_count": 36,
   "metadata": {
    "collapsed": false,
    "jupyter": {
     "outputs_hidden": false
    },
    "pycharm": {
     "name": "#%%\n"
    }
   },
   "outputs": [
    {
     "name": "stdout",
     "output_type": "stream",
     "text": [
      "FOR TYPOLOGY 1\n",
      "mean 269.5450433343701\n",
      "95th percentile: 1026.2420748819418\n",
      "median 133.13710717500555\n",
      "mode 0    103.019621\n",
      "Name: dist, dtype: float64\n",
      "FOR TYPOLOGY 2\n",
      "mean 246.78311904423367\n",
      "95th percentile: 1132.5538126034091\n",
      "median 117.22330357975439\n",
      "mode 0    120.606105\n",
      "Name: dist, dtype: float64\n",
      "FOR TYPOLOGY 3\n",
      "mean 269.466694131874\n",
      "95th percentile: 1193.5735477108183\n",
      "median 130.5810812791302\n",
      "mode 0    28.123264\n",
      "1    70.320365\n",
      "Name: dist, dtype: float64\n",
      "FOR TYPOLOGY 4\n",
      "mean 136.9740553698728\n",
      "95th percentile: 497.93919900975453\n",
      "median 80.79110060818256\n",
      "mode 0    16.890585\n",
      "Name: dist, dtype: float64\n"
     ]
    },
    {
     "data": {
      "text/plain": "<Figure size 1440x720 with 4 Axes>",
      "image/png": "[encoded data removed]"
     },
     "metadata": {},
     "output_type": "display_data"
    }
   ],
   "source": [
    "# full_assigned.to_csv(f\"../../data/tidy/Byte-week-march-2021-inferred-boarding_for_analysis.csv\", index=False) # use to analyze the data for a week\n",
    "# full_assigned = pd.read_csv(f\"../../data/tidy/Byte-week-march-2021-inferred-boarding_for_analysis.csv\")\n",
    "fig, ax = plt.subplots(nrows=2, ncols=2, figsize=(20, 10), sharey=False)\n",
    "\n",
    "j = 0\n",
    "x = 0\n",
    "# color = ['#f0e594','#57b884','#ffab8d','#ff6a9e'] # SNS color palette\n",
    "color = ['#b7ded2','#f6a6b2','#f7c297','#90d2d8'] # carnival vintage Color Palette\n",
    "for i in range(4):\n",
    "    print(f'FOR TYPOLOGY {i+1}')\n",
    "    typology = full_assigned[full_assigned.Typology == i + 1]\n",
    "    print(f'mean {typology.dist.mean()}')\n",
    "    print(f'95th percentile: {np.percentile(typology.dist, 95)}')\n",
    "    print(f'median {typology.dist.median()}')\n",
    "    print(f'mode {typology.dist.mode()}')\n",
    "    if i == 1:\n",
    "        x = 1\n",
    "        j = 0\n",
    "    if i == 2:\n",
    "        x = 0\n",
    "        j = 1\n",
    "    if i == 3:\n",
    "        x = 1\n",
    "        j = 1\n",
    "    g = sns.histplot(data = typology\n",
    "                ,x = 'dist'\n",
    "                # ,color = 'navy'\n",
    "                ,alpha = 0.8\n",
    "                     ,stat='percent'\n",
    "                # ,bins = 50\n",
    "                 ,binwidth = 50\n",
    "                 ,kde = True\n",
    "                     ,element = 'step'\n",
    "                 # ,hue = 'Typology'\n",
    "                 # , palette= 'tab10'\n",
    "                 , color=color[i],\n",
    "                 ax=ax[x][j]\n",
    "                )#.set_xlim(0, 0.25)\n",
    "    g.set_xlabel(\"Distance between activation location and closest stop(feet)\", fontsize = 20)\n"
   ]
  },
  {
   "cell_type": "markdown",
   "source": [
    "# Time analysis\n",
    "- change time threshold as well and calculate efficieny increase\n",
    "- Next go streamline the alighting inference"
   ],
   "metadata": {
    "collapsed": false
   }
  },
  {
   "cell_type": "code",
   "execution_count": 37,
   "metadata": {
    "collapsed": false,
    "jupyter": {
     "outputs_hidden": false
    },
    "pycharm": {
     "name": "#%%\n"
    }
   },
   "outputs": [
    {
     "data": {
      "text/plain": "Datetime                          object\nUUID                               int64\nFaretype                          object\nTime_Scanned              datetime64[ns]\nLatitude                         float64\nLongitude                        float64\nDate                              object\nCalendar_Month                     int64\nHour                               int64\nStatus.x                          object\nED                                  bool\nTypology                           int64\nActivationLocation                object\nAssignedStopLonLat                object\nassigned_boarding_time    datetime64[ns]\nUniqueStopInternalID             float64\nStopID                             int64\nroute_id_No_0                     object\ntrip_id_No_0                      object\nroute_id_No_1                     object\ntrip_id_No_1                      object\nroute_id_No_2                     object\ntrip_id_No_2                      object\nroute_id_No_3                     object\ntrip_id_No_3                      object\nroute_id_No_4                     object\ntrip_id_No_4                      object\nroute_id_No_5                     object\ntrip_id_No_5                      object\nroute_id_No_6                     object\ntrip_id_No_6                      object\nroute_id_No_7                     object\ntrip_id_No_7                      object\nroute_id_No_8                     object\ntrip_id_No_8                      object\nroute_id_No_9                     object\ntrip_id_No_9                      object\nroute_id_No_10                   float64\ntrip_id_No_10                    float64\ndist                             float64\ndiff                             float64\ndtype: object"
     },
     "execution_count": 37,
     "metadata": {},
     "output_type": "execute_result"
    }
   ],
   "source": [
    "# Convert to datetime first\n",
    "full_assigned[['Time_Scanned','assigned_boarding_time']] = full_assigned[['Time_Scanned','assigned_boarding_time']] .apply(pd.to_datetime)\n",
    "# make time difference column between activation and scheduled bus arrival\n",
    "full_assigned['diff'] = (full_assigned.Time_Scanned - full_assigned.assigned_boarding_time).astype('timedelta64[m]') # m = minutes\n",
    "full_assigned.dtypes"
   ]
  },
  {
   "cell_type": "markdown",
   "source": [
    "# Find percentile above and below zero separately\n",
    "\n",
    "All usage will be within the chosen threshold which is arguably more accurate the lower the threshold. and the 95th percentile will always be near the max because the algorithm chooses the closest stop used. not the closest in time. Fix this by considering time closeness as well as distance in the main algorithm."
   ],
   "metadata": {
    "collapsed": false
   }
  },
  {
   "cell_type": "code",
   "execution_count": 38,
   "metadata": {
    "collapsed": false,
    "jupyter": {
     "outputs_hidden": false
    },
    "pycharm": {
     "name": "#%%\n"
    }
   },
   "outputs": [
    {
     "name": "stdout",
     "output_type": "stream",
     "text": [
      "FOR TYPOLOGY 1\n",
      "mean 0.2708333333333333\n",
      " + 95th percentile: 9.0\n",
      " - 95th percentile: 10.0\n",
      "median 1.0\n",
      "mode 0    1.0\n",
      "Name: diff, dtype: float64\n",
      "FOR TYPOLOGY 2\n",
      "mean 0.973724884080371\n",
      " + 95th percentile: 9.0\n",
      " - 95th percentile: 9.0\n",
      "median 1.0\n",
      "mode 0   -1.0\n",
      "1    0.0\n",
      "Name: diff, dtype: float64\n",
      "FOR TYPOLOGY 3\n",
      "mean 1.3924050632911393\n",
      " + 95th percentile: 9.0\n",
      " - 95th percentile: 9.0\n",
      "median 2.0\n",
      "mode 0    3.0\n",
      "Name: diff, dtype: float64\n",
      "FOR TYPOLOGY 4\n",
      "mean 1.4157303370786516\n",
      " + 95th percentile: 9.0\n",
      " - 95th percentile: 8.7\n",
      "median 1.0\n",
      "mode 0    4.0\n",
      "Name: diff, dtype: float64\n"
     ]
    },
    {
     "data": {
      "text/plain": "<Figure size 1440x720 with 4 Axes>",
      "image/png": "[encoded data removed]"
     },
     "metadata": {},
     "output_type": "display_data"
    }
   ],
   "source": [
    "fig, ax = plt.subplots(nrows=2, ncols=2, figsize=(20, 10), sharey=False) #sharey and sharex for sharing same axis\n",
    "\n",
    "j = 0\n",
    "x = 0\n",
    "# color = ['#f0e594','#57b884','#ffab8d','#ff6a9e'] # SNS color palette\n",
    "color = ['#b7ded2','#f6a6b2','#f7c297','#90d2d8'] # carnival vintage Color Palette\n",
    "for i in range(4):\n",
    "    print(f'FOR TYPOLOGY {i+1}')\n",
    "    typology = full_assigned[full_assigned.Typology == i + 1]\n",
    "    print(f'mean {typology[\"diff\"].mean()}')\n",
    "    print(f' + 95th percentile: {np.percentile(typology[typology[\"diff\"] > 0][\"diff\"], 95)}')\n",
    "    print(f' - 95th percentile: {np.percentile(-1 * typology[typology[\"diff\"] < 0][\"diff\"], 95)}')\n",
    "    print(f'median {typology[\"diff\"].median()}')\n",
    "    print(f'mode {typology[\"diff\"].mode()}')\n",
    "    if i == 1:\n",
    "        x = 1\n",
    "        j = 0\n",
    "    elif i == 2:\n",
    "        x = 0\n",
    "        j = 1\n",
    "    elif i == 3:\n",
    "        x = 1\n",
    "        j = 1\n",
    "    g = sns.histplot(data = typology\n",
    "                ,x = 'diff'\n",
    "                # ,color = 'navy'\n",
    "                ,alpha = 0.8\n",
    "                     ,stat='percent'\n",
    "                # ,bins = 50\n",
    "                 ,binwidth = 1\n",
    "                 ,kde = True\n",
    "                  ,element = 'step'\n",
    "                 # ,hue = 'Typology'\n",
    "                 # , palette= 'tab10'\n",
    "                 , color=color[i],\n",
    "                 ax=ax[x][j]\n",
    "                )#.set_xlim(0, 0.25)\n",
    "    g.set_xlabel(\"Time (mins)\", fontsize = 20)"
   ]
  },
  {
   "cell_type": "markdown",
   "source": [
    "Go back and adjust thresholds. Then start the ...\n",
    "\n",
    "--------------------------------------------------------------\n",
    "# Alighting inference"
   ],
   "metadata": {
    "collapsed": false
   }
  },
  {
   "cell_type": "code",
   "execution_count": 39,
   "outputs": [
    {
     "data": {
      "text/plain": "                 Datetime  UUID        Faretype        Time_Scanned  \\\n0     2021-03-15 04:55:43   679      7 Day Pass 2021-03-15 04:55:43   \n1     2021-03-15 05:07:57   679      7 Day Pass 2021-03-15 05:07:57   \n2     2021-03-15 10:29:27   679      7 Day Pass 2021-03-15 10:29:27   \n3     2021-03-15 05:11:28  2326  31 Day Regular 2021-03-15 05:11:28   \n4     2021-03-15 15:19:32  2326  31 Day Regular 2021-03-15 15:19:32   \n...                   ...   ...             ...                 ...   \n1400  2021-03-15 19:31:45  6523        One Ride 2021-03-15 19:31:45   \n1401  2021-03-15 19:32:15  6523        One Ride 2021-03-15 19:32:15   \n1402  2021-03-15 19:32:28  6523        One Ride 2021-03-15 19:32:28   \n1403  2021-03-15 20:29:29  3802        One Ride 2021-03-15 20:29:29   \n1404  2021-03-15 20:31:10  3802        One Ride 2021-03-15 20:31:10   \n\n       Latitude  Longitude       Date  Calendar_Month  Hour Status.x  ...  \\\n0     42.106557 -72.597563  3/15/2021               3     4  EXPIRED  ...   \n1     42.106497 -72.594146  3/15/2021               3     5  EXPIRED  ...   \n2     42.142034 -72.491949  3/15/2021               3    10  EXPIRED  ...   \n3     42.091452 -72.580245  3/15/2021               3     5  EXPIRED  ...   \n4     42.142448 -72.543351  3/15/2021               3    15  EXPIRED  ...   \n...         ...        ...        ...             ...   ...      ...  ...   \n1400  42.088028 -72.568598  3/15/2021               3    19  EXPIRED  ...   \n1401  42.088028 -72.568598  3/15/2021               3    19  EXPIRED  ...   \n1402  42.088028 -72.568598  3/15/2021               3    19  EXPIRED  ...   \n1403  42.169242 -72.640587  3/15/2021               3    20  EXPIRED  ...   \n1404  42.169242 -72.640587  3/15/2021               3    20  EXPIRED  ...   \n\n      route_id_No_7  trip_id_No_7 route_id_No_8 trip_id_No_8 route_id_No_9  \\\n0               NaN           NaN           NaN          NaN           NaN   \n1               NaN           NaN           NaN          NaN           NaN   \n2               NaN           NaN           NaN          NaN           NaN   \n3               NaN           NaN           NaN          NaN           NaN   \n4               NaN           NaN           NaN          NaN           NaN   \n...             ...           ...           ...          ...           ...   \n1400            NaN           NaN           NaN          NaN           NaN   \n1401            NaN           NaN           NaN          NaN           NaN   \n1402            NaN           NaN           NaN          NaN           NaN   \n1403            NaN           NaN           NaN          NaN           NaN   \n1404            NaN           NaN           NaN          NaN           NaN   \n\n      trip_id_No_9  route_id_No_10 trip_id_No_10        dist diff  \n0              NaN             NaN           NaN  824.472497 -5.0  \n1              NaN             NaN           NaN  131.684523  7.0  \n2              NaN             NaN           NaN   26.729083 -3.0  \n3              NaN             NaN           NaN  165.569903 -7.0  \n4              NaN             NaN           NaN  342.626080 -6.0  \n...            ...             ...           ...         ...  ...  \n1400           NaN             NaN           NaN   16.890585  8.0  \n1401           NaN             NaN           NaN   16.890585  9.0  \n1402           NaN             NaN           NaN   16.890585  9.0  \n1403           NaN             NaN           NaN    1.470560 -6.0  \n1404           NaN             NaN           NaN    1.470560 -4.0  \n\n[1405 rows x 41 columns]",
      "text/html": "<div>\n<style scoped>\n    .dataframe tbody tr th:only-of-type {\n        vertical-align: middle;\n    }\n\n    .dataframe tbody tr th {\n        vertical-align: top;\n    }\n\n    .dataframe thead th {\n        text-align: right;\n    }\n</style>\n<table border=\"1\" class=\"dataframe\">\n  <thead>\n    <tr style=\"text-align: right;\">\n      <th></th>\n      <th>Datetime</th>\n      <th>UUID</th>\n      <th>Faretype</th>\n      <th>Time_Scanned</th>\n      <th>Latitude</th>\n      <th>Longitude</th>\n      <th>Date</th>\n      <th>Calendar_Month</th>\n      <th>Hour</th>\n      <th>Status.x</th>\n      <th>...</th>\n      <th>route_id_No_7</th>\n      <th>trip_id_No_7</th>\n      <th>route_id_No_8</th>\n      <th>trip_id_No_8</th>\n      <th>route_id_No_9</th>\n      <th>trip_id_No_9</th>\n      <th>route_id_No_10</th>\n      <th>trip_id_No_10</th>\n      <th>dist</th>\n      <th>diff</th>\n    </tr>\n  </thead>\n  <tbody>\n    <tr>\n      <th>0</th>\n      <td>2021-03-15 04:55:43</td>\n      <td>679</td>\n      <td>7 Day Pass</td>\n      <td>2021-03-15 04:55:43</td>\n      <td>42.106557</td>\n      <td>-72.597563</td>\n      <td>3/15/2021</td>\n      <td>3</td>\n      <td>4</td>\n      <td>EXPIRED</td>\n      <td>...</td>\n      <td>NaN</td>\n      <td>NaN</td>\n      <td>NaN</td>\n      <td>NaN</td>\n      <td>NaN</td>\n      <td>NaN</td>\n      <td>NaN</td>\n      <td>NaN</td>\n      <td>824.472497</td>\n      <td>-5.0</td>\n    </tr>\n    <tr>\n      <th>1</th>\n      <td>2021-03-15 05:07:57</td>\n      <td>679</td>\n      <td>7 Day Pass</td>\n      <td>2021-03-15 05:07:57</td>\n      <td>42.106497</td>\n      <td>-72.594146</td>\n      <td>3/15/2021</td>\n      <td>3</td>\n      <td>5</td>\n      <td>EXPIRED</td>\n      <td>...</td>\n      <td>NaN</td>\n      <td>NaN</td>\n      <td>NaN</td>\n      <td>NaN</td>\n      <td>NaN</td>\n      <td>NaN</td>\n      <td>NaN</td>\n      <td>NaN</td>\n      <td>131.684523</td>\n      <td>7.0</td>\n    </tr>\n    <tr>\n      <th>2</th>\n      <td>2021-03-15 10:29:27</td>\n      <td>679</td>\n      <td>7 Day Pass</td>\n      <td>2021-03-15 10:29:27</td>\n      <td>42.142034</td>\n      <td>-72.491949</td>\n      <td>3/15/2021</td>\n      <td>3</td>\n      <td>10</td>\n      <td>EXPIRED</td>\n      <td>...</td>\n      <td>NaN</td>\n      <td>NaN</td>\n      <td>NaN</td>\n      <td>NaN</td>\n      <td>NaN</td>\n      <td>NaN</td>\n      <td>NaN</td>\n      <td>NaN</td>\n      <td>26.729083</td>\n      <td>-3.0</td>\n    </tr>\n    <tr>\n      <th>3</th>\n      <td>2021-03-15 05:11:28</td>\n      <td>2326</td>\n      <td>31 Day Regular</td>\n      <td>2021-03-15 05:11:28</td>\n      <td>42.091452</td>\n      <td>-72.580245</td>\n      <td>3/15/2021</td>\n      <td>3</td>\n      <td>5</td>\n      <td>EXPIRED</td>\n      <td>...</td>\n      <td>NaN</td>\n      <td>NaN</td>\n      <td>NaN</td>\n      <td>NaN</td>\n      <td>NaN</td>\n      <td>NaN</td>\n      <td>NaN</td>\n      <td>NaN</td>\n      <td>165.569903</td>\n      <td>-7.0</td>\n    </tr>\n    <tr>\n      <th>4</th>\n      <td>2021-03-15 15:19:32</td>\n      <td>2326</td>\n      <td>31 Day Regular</td>\n      <td>2021-03-15 15:19:32</td>\n      <td>42.142448</td>\n      <td>-72.543351</td>\n      <td>3/15/2021</td>\n      <td>3</td>\n      <td>15</td>\n      <td>EXPIRED</td>\n      <td>...</td>\n      <td>NaN</td>\n      <td>NaN</td>\n      <td>NaN</td>\n      <td>NaN</td>\n      <td>NaN</td>\n      <td>NaN</td>\n      <td>NaN</td>\n      <td>NaN</td>\n      <td>342.626080</td>\n      <td>-6.0</td>\n    </tr>\n    <tr>\n      <th>...</th>\n      <td>...</td>\n      <td>...</td>\n      <td>...</td>\n      <td>...</td>\n      <td>...</td>\n      <td>...</td>\n      <td>...</td>\n      <td>...</td>\n      <td>...</td>\n      <td>...</td>\n      <td>...</td>\n      <td>...</td>\n      <td>...</td>\n      <td>...</td>\n      <td>...</td>\n      <td>...</td>\n      <td>...</td>\n      <td>...</td>\n      <td>...</td>\n      <td>...</td>\n      <td>...</td>\n    </tr>\n    <tr>\n      <th>1400</th>\n      <td>2021-03-15 19:31:45</td>\n      <td>6523</td>\n      <td>One Ride</td>\n      <td>2021-03-15 19:31:45</td>\n      <td>42.088028</td>\n      <td>-72.568598</td>\n      <td>3/15/2021</td>\n      <td>3</td>\n      <td>19</td>\n      <td>EXPIRED</td>\n      <td>...</td>\n      <td>NaN</td>\n      <td>NaN</td>\n      <td>NaN</td>\n      <td>NaN</td>\n      <td>NaN</td>\n      <td>NaN</td>\n      <td>NaN</td>\n      <td>NaN</td>\n      <td>16.890585</td>\n      <td>8.0</td>\n    </tr>\n    <tr>\n      <th>1401</th>\n      <td>2021-03-15 19:32:15</td>\n      <td>6523</td>\n      <td>One Ride</td>\n      <td>2021-03-15 19:32:15</td>\n      <td>42.088028</td>\n      <td>-72.568598</td>\n      <td>3/15/2021</td>\n      <td>3</td>\n      <td>19</td>\n      <td>EXPIRED</td>\n      <td>...</td>\n      <td>NaN</td>\n      <td>NaN</td>\n      <td>NaN</td>\n      <td>NaN</td>\n      <td>NaN</td>\n      <td>NaN</td>\n      <td>NaN</td>\n      <td>NaN</td>\n      <td>16.890585</td>\n      <td>9.0</td>\n    </tr>\n    <tr>\n      <th>1402</th>\n      <td>2021-03-15 19:32:28</td>\n      <td>6523</td>\n      <td>One Ride</td>\n      <td>2021-03-15 19:32:28</td>\n      <td>42.088028</td>\n      <td>-72.568598</td>\n      <td>3/15/2021</td>\n      <td>3</td>\n      <td>19</td>\n      <td>EXPIRED</td>\n      <td>...</td>\n      <td>NaN</td>\n      <td>NaN</td>\n      <td>NaN</td>\n      <td>NaN</td>\n      <td>NaN</td>\n      <td>NaN</td>\n      <td>NaN</td>\n      <td>NaN</td>\n      <td>16.890585</td>\n      <td>9.0</td>\n    </tr>\n    <tr>\n      <th>1403</th>\n      <td>2021-03-15 20:29:29</td>\n      <td>3802</td>\n      <td>One Ride</td>\n      <td>2021-03-15 20:29:29</td>\n      <td>42.169242</td>\n      <td>-72.640587</td>\n      <td>3/15/2021</td>\n      <td>3</td>\n      <td>20</td>\n      <td>EXPIRED</td>\n      <td>...</td>\n      <td>NaN</td>\n      <td>NaN</td>\n      <td>NaN</td>\n      <td>NaN</td>\n      <td>NaN</td>\n      <td>NaN</td>\n      <td>NaN</td>\n      <td>NaN</td>\n      <td>1.470560</td>\n      <td>-6.0</td>\n    </tr>\n    <tr>\n      <th>1404</th>\n      <td>2021-03-15 20:31:10</td>\n      <td>3802</td>\n      <td>One Ride</td>\n      <td>2021-03-15 20:31:10</td>\n      <td>42.169242</td>\n      <td>-72.640587</td>\n      <td>3/15/2021</td>\n      <td>3</td>\n      <td>20</td>\n      <td>EXPIRED</td>\n      <td>...</td>\n      <td>NaN</td>\n      <td>NaN</td>\n      <td>NaN</td>\n      <td>NaN</td>\n      <td>NaN</td>\n      <td>NaN</td>\n      <td>NaN</td>\n      <td>NaN</td>\n      <td>1.470560</td>\n      <td>-4.0</td>\n    </tr>\n  </tbody>\n</table>\n<p>1405 rows × 41 columns</p>\n</div>"
     },
     "execution_count": 39,
     "metadata": {},
     "output_type": "execute_result"
    }
   ],
   "source": [
    "Boardings_data = full_assigned.copy()\n",
    "boarding_sample = Boardings_data.drop(columns = ['Faretype','UniqueStopInternalID']).copy()\n",
    "num = len(boarding_sample)\n",
    "Boardings_data"
   ],
   "metadata": {
    "collapsed": false,
    "pycharm": {
     "name": "#%%\n"
    }
   }
  },
  {
   "cell_type": "markdown",
   "source": [
    "# Clean boarding data from false activations and single activations (unfinished)\n",
    "- says 36% are single activations\n",
    "    - Activations showing up once\n",
    "    - Repeated activations at the same stop\n",
    "    - Last activations at the first activations stops (assuming last destination is the same as first origin, these must be removed)"
   ],
   "metadata": {
    "collapsed": false
   }
  },
  {
   "cell_type": "code",
   "execution_count": 40,
   "outputs": [
    {
     "name": "stdout",
     "output_type": "stream",
     "text": [
      "3/15/2021\n",
      "Day 1 of 1\n"
     ]
    },
    {
     "name": "stderr",
     "output_type": "stream",
     "text": [
      "100%|██████████| 436/436 [00:00<00:00, 707.35it/s]\n"
     ]
    },
    {
     "name": "stdout",
     "output_type": "stream",
     "text": [
      "36% are single activations and have been removed\n"
     ]
    }
   ],
   "source": [
    "byte_with_no_single_acts = []\n",
    "day = 0\n",
    "num = 0\n",
    "total = 0\n",
    "days = boarding_sample.Date.nunique()\n",
    "for date in boarding_sample.Date.unique():\n",
    "    print(date)\n",
    "    day += 1\n",
    "    print('Day', day,'of',days)\n",
    "    temp_ = boarding_sample[(boarding_sample['Date'] == date)] # subset by days\n",
    "\n",
    "    for uuid in tqdm(temp_.UUID.unique()): # Subset by user\n",
    "        # pbar.update(1)\n",
    "        temp = temp_[(temp_['UUID'] == uuid)]\n",
    "        if len(temp)> 1: # Check if more than one activation in a day\n",
    "            #shift to get next activations\n",
    "            x = len(temp)\n",
    "            temp = temp.loc[temp.StopID.shift(-1) != temp.StopID] # this solves the issue of boarding from a stop to the same stop being inferred in case the there are not only two trips in the day which are inferred to the same stop\n",
    "            y = len(temp)\n",
    "            num+= (x-y) #Repeated activations at the same stop\n",
    "            temp[\"NextBoardingStop\"]= temp[\"StopID\"].shift(-1)\n",
    "            temp['NextBoardingStop'].iloc[-1] = np.array(temp.StopID.head(1))[0] # Assign last destination as first origin\n",
    "            temp[\"NextBoardingTimeScanned\"]= temp[\"Time_Scanned\"].shift(-1)\n",
    "            temp['NextBoardingTimeScanned'].iloc[-1] = pd.NaT # assign as a 'NOT A TIME' value for last destination of the day (not even a needed value since this is only treated as the last destination, not an actual next boarding stop)\n",
    "            # display(temp[['StopID','NextBoardingStop','NextBoardingTimeScanned']])\n",
    "            if len(temp) < 2:\n",
    "                temp.NextBoardingStop = np.nan\n",
    "                temp.NextBoardingTimeScanned = pd.NaT # if only one trip assigned that day. delete next boarding and timestamp\n",
    "                # display(temp)\n",
    "                # indices_to_delete.append(temp.first_valid_index())\n",
    "                num += len(temp)\n",
    "                # display(len(temp))\n",
    "                # print('Deleted')\n",
    "                continue\n",
    "\n",
    "            # display(temp.StopID.iloc[0])\n",
    "            if temp.StopID.iloc[0] == temp.StopID.iloc[-1]:\n",
    "                # display(temp[['StopID','NextBoardingStop','NextBoardingTimeScanned']])\n",
    "                temp.drop(temp.tail(1).index,inplace=True) # drop last row in case last activation is the same as the first (assumption: the last destination is actually the first one. But an accidental activation has been done around the time of getting to the last destination) in this case, we get the last destination arrival time although not needed.\n",
    "                num +=1 # Last activations at the first activations stops\n",
    "                # display(temp[['StopID','NextBoardingStop','NextBoardingTimeScanned']])\n",
    "                # break\n",
    "            if len(temp) < 2:\n",
    "                num += len(temp)\n",
    "                continue\n",
    "            # temp['NextBoardingTimeScanned'].iloc[-1] = pd.NaT # again because some values changes in the last if statements: assign the last destination time as a 'NOT A TIME' value for last destination of the day (not even a needed value since this is only treated as the last destination, not an actual next boarding stop)\n",
    "            total += len(temp)\n",
    "            byte_with_no_single_acts.append(temp)\n",
    "        elif len(temp) < 2:\n",
    "            num += len(temp) # Activations showing up once\n",
    "            continue\n",
    "\n",
    "byte_with_no_single_acts = pd.concat(byte_with_no_single_acts)\n",
    "print(f'{round(((len(boarding_sample) - len(byte_with_no_single_acts))/len(boarding_sample))*100)}% are single activations and have been removed')"
   ],
   "metadata": {
    "collapsed": false,
    "pycharm": {
     "name": "#%%\n"
    }
   }
  },
  {
   "cell_type": "markdown",
   "source": [
    "# if any function does not work. Go to 1.5 to retrieve original\n",
    "###### euclidean_s = euclidean[np.where((euclidean > 0) & (euclidean < threshold))]\n",
    "Sometimes the alighting location is assigned as the boarding locations (closest stop to the next boarding location) which could be because the next boarding is pretty remote location\n",
    "It also means that sometimes the alighting location is the same as next boarding location. This algorithm actively avoids that assignment since the next boarding location is always going to be the closest stop to itself which should not be assigned because most people get on a bus going the other direction if they are going back)\n",
    "but, if they are transferring on the same bus stop, this assignment is wrong. Seems like we will need to add options to the boarding stop instead of just assigning the closest."
   ],
   "metadata": {
    "collapsed": false
   }
  },
  {
   "cell_type": "code",
   "execution_count": 41,
   "outputs": [],
   "source": [
    "\n",
    "# this assumes that the alighting location cannot be the same as the next boarding location (euclidean[np.where((euclidean > 0) & (euclidean < threshold))]) (find fix)\n",
    "def closest_point(point, points, threshold):\n",
    "    \"\"\"\n",
    "    Calculates the distance between the activation location and all stops in the system. Returns the closest stop location and the index of that stop to be used to bring other information from the temp folder used in the calculation.\n",
    "\n",
    "    :param point: The activation coordinates in a tuple form.\n",
    "    :param points: All stop coordinates in a list of tuples. The stops are filterd first by schedule.\n",
    "    :param threshold: The distance within which we want to find stops around the activation location. It is a euclidean distance and in this area 0.01 is approximately equal to 1 km.\n",
    "    :return: The closest stop location and the index of that stop.\n",
    "    \"\"\"\n",
    "    if points:\n",
    "        # Find closest point from a list of points.\n",
    "        # filter to not take anything more that a certain euclidean distance (0.001 roughly equals 100 meters)\n",
    "\n",
    "        euclidean = cdist([point], points)\n",
    "        euclidean_s = euclidean[np.where((euclidean > 0) & (euclidean < threshold))]  # 0.02 = 2000 m? #\n",
    "        if euclidean_s.size:\n",
    "                # slight caveat. if you dont use euclidean_s as it is used above, it takes the index from the shortened list and compares it the the full list of the full_stops (fixed by using euclidean_s as a separate stipulation for making the inference)\n",
    "                #### we dont need the next code because the point being compared is the next boarding stop which might be the alighting stop no problem\n",
    "                # # we need the second smallest value because the point being compared is one of the stops. It will always return the same stop as the closest point as the distance is always zero\",\n",
    "                # euclidean = euclidean[0]\n",
    "                # IndexOfSecondSmallestVlues = euclidean.argsort()[:2] # argsort return the indices of the smallest or biggest values\",\n",
    "                # ind = IndexOfSecondSmallestVlues[1] # is the second smallest index\",\n",
    "                # if points[euclidean.argmin()] == point: # this if statement is because some times the stop we are comparing is part of the stops we compare it with, which results in the same stop being inferred due to distance being 0 so we assign the second stop in line. And sometimes it's not part of them so we need to assign the stop with the minimum distance instead.\n",
    "                #     return points[ind],ind # uses index of minimum distance >0 in the list between a 'point' and 'points' to get the lon lat from 'points' list\n",
    "                # else:\n",
    "                #     return points[euclidean.argmin()], euclidean.argmin()\n",
    "                ####\n",
    "                ## return two elements: the stop location, and the index of the stop location to get other stop information from the beginning (you have to reset the index of the dataframe from which these stops came from)\n",
    "                ### doing this will abolish the need for the (match_value) function completely (try to apply this everywhere).\n",
    "            return points[euclidean.argmin()], euclidean.argmin()  # old\n",
    "\n",
    "        else:\n",
    "            return 9999999,9999999 # 9999999 in the assigned stop location column means it does not meat the distance threshold requirement\n",
    "    else:\n",
    "        return 9999999\n",
    "\n",
    "# def merge_data_and_clusterlabels(bytemark = bytemark_sample_used):\n",
    "#     \"\"\"\n",
    "#\n",
    "#     :param bytemark: The bytemark intended to be comlemented with cluster labels\n",
    "#     :return: bytemark with labels\n",
    "#     \"\"\"\n",
    "#     bytemark.UUID = bytemark.UUID.astype('str')\n",
    "#     uuid_and_labels = pd.read_parquet('dataframes/uuid-cluster-labels-from-st-analysis.parquet')\n",
    "#     bytemark_clustered = pd.merge(bytemark,uuid_and_labels,on='UUID')\n",
    "#     return bytemark_clustered\n",
    "\n",
    "def determine_thresholds(Global_threshold,i):\n",
    "    \"\"\"\n",
    "    Set a global or a more specific thresholds\n",
    "\n",
    "    Set a time buffer (will it change based on typology too?)\n",
    "\n",
    "    :return: threshold, buffer\n",
    "    \"\"\"\n",
    "\n",
    "    if Global_threshold == True:\n",
    "        threshold = 0.1 # global distance threshold\n",
    "    elif i == 0:\n",
    "        threshold = 0.069 # 0.01 is 1 km\n",
    "    elif i == 1:\n",
    "        threshold =  0.069\n",
    "    elif i == 2:\n",
    "        threshold = 0.069\n",
    "    elif i == 3:\n",
    "        threshold = 0.054\n",
    "    # buffer = 20 # minutes\n",
    "\n",
    "    return threshold#, buffer"
   ],
   "metadata": {
    "collapsed": false,
    "pycharm": {
     "name": "#%%\n"
    }
   }
  },
  {
   "cell_type": "code",
   "execution_count": 42,
   "outputs": [
    {
     "name": "stdout",
     "output_type": "stream",
     "text": [
      "Threshold = 0.069\n",
      "FOR TYPOLOGY 1\n",
      "Day 1 of 1\n"
     ]
    },
    {
     "name": "stderr",
     "output_type": "stream",
     "text": [
      "100%|██████████| 88/88 [01:22<00:00,  1.07it/s]\n"
     ]
    },
    {
     "name": "stdout",
     "output_type": "stream",
     "text": [
      "Threshold = 0.069\n",
      "FOR TYPOLOGY 2\n",
      "Day 1 of 1\n"
     ]
    },
    {
     "name": "stderr",
     "output_type": "stream",
     "text": [
      "100%|██████████| 140/140 [01:56<00:00,  1.20it/s]\n"
     ]
    },
    {
     "name": "stdout",
     "output_type": "stream",
     "text": [
      "Threshold = 0.069\n",
      "FOR TYPOLOGY 3\n",
      "Day 1 of 1\n"
     ]
    },
    {
     "name": "stderr",
     "output_type": "stream",
     "text": [
      "100%|██████████| 51/51 [00:38<00:00,  1.33it/s]\n"
     ]
    },
    {
     "name": "stdout",
     "output_type": "stream",
     "text": [
      "Threshold = 0.054\n",
      "FOR TYPOLOGY 4\n",
      "Day 1 of 1\n"
     ]
    },
    {
     "name": "stderr",
     "output_type": "stream",
     "text": [
      "100%|██████████| 14/14 [00:11<00:00,  1.21it/s]"
     ]
    },
    {
     "name": "stdout",
     "output_type": "stream",
     "text": [
      "Time:  250.19326996803284\n"
     ]
    },
    {
     "name": "stderr",
     "output_type": "stream",
     "text": [
      "\n"
     ]
    }
   ],
   "source": [
    "from datetime import datetime, timedelta\n",
    "\n",
    "Global = False\n",
    "\n",
    "# 1000+ iterations, and for some reason we get a Setting With Copy Warning for each one of the iterations (makes the process too slow. Also, don't want to see 1000+ warnings on every run):\\n\",\n",
    "## So, turn off the warning for now with:\\n\",\n",
    "pd.set_option('mode.chained_assignment', None)\n",
    "\n",
    "def infer_alightings(Bytemark_,stop,route_timetable_,Global):\n",
    "    \"\"\"\n",
    "    Infers alighing stops using the bytemark data and the bus schedule data\n",
    "\n",
    "\n",
    "    :param Bytemark_: Bytemark data with boarding stop as well as possible trip and route IDs and typology labels\n",
    "    :param stops: All stops in the system with all features in a dataframe\n",
    "    :param route_timetable_: Bust schedule data obtained from GTFS\n",
    "    :return: Accuracy of alighting inference for each typology and a list of dataframes with inferred alighting stops to be combined later\n",
    "    \"\"\"\n",
    "\n",
    "    # df2 = Bytemark_.copy()\n",
    "\n",
    "    # create a stops and route files and create zipped locations\n",
    "    # full_stops = full_stops.drop_duplicates(subset=['StopID'],keep='first') # REMOVE DUPLICATE STOPS. WE ONLY NEED THEM ONCE\n",
    "    stop_routes = stop.copy()\n",
    "    stops = stop.copy()\n",
    "    stops = stops.drop_duplicates(subset=['StopID'],keep='first') # Gives a full stops file, The original is a routes with their stops file (use both with different names when needed) # is this needed like this or can we use it as is\n",
    "    stops['StopLocation'] = [(x, y) for x,y in zip(stops['Latitude'], stops['Longitude'])]\n",
    "\n",
    "    route_timetable_with_coords['StopLocation'] = [(x, y) for x,y in zip(route_timetable_with_coords['Latitude'], route_timetable_with_coords['Longitude'])]\n",
    "\n",
    "    tempstops__ = stops.copy() # Copy full stops\n",
    "\n",
    "    # used to get next stop locations later\n",
    "    tempstops__ = tempstops__ [['StopID','StopLocation']]\n",
    "    tempstops__.columns = ['NextBoardingStop','NextStopLocation'] # change name of StopID column to merge and get location of the next stop\n",
    "\n",
    "\n",
    "    accuracy = [] # record all accuracies here\n",
    "    dataframes = []\n",
    "\n",
    "    for i in range(Bytemark_.Typology.nunique()):\n",
    "        threshold = determine_thresholds(Global,i)\n",
    "        print(f'Threshold = {threshold}')\n",
    "        typology_num = i+1\n",
    "        print(f'FOR TYPOLOGY {typology_num}')\n",
    "        temp_bytemark = Bytemark_[Bytemark_.Typology == typology_num]\n",
    "        Bytemark = temp_bytemark.copy()\n",
    "        Bytemark['date'] = pd.to_datetime(Bytemark['Time_Scanned']).dt.date.astype('str')  # create a date column as string with the correct format 'm-d-y'? to filter with it later\n",
    "\n",
    "        number = len(Bytemark)\n",
    "        # Create new column for inference\n",
    "        Bytemark['AlightingStopLonLat'] = np.nan\n",
    "        Bytemark['Alighting_StopID'] = np.nan\n",
    "        Bytemark['Alighting_time'] = np.nan\n",
    "        Bytemark['route_id'] = np.nan\n",
    "        Bytemark['trip_id'] = np.nan\n",
    "        # Pandas wont set a tuple over any other value and returns an error. It does, however, set tuples over other tuples. That's why I made the new column a list of tuples.\n",
    "        Bytemark.AlightingStopLonLat = [(9999999,9999999)] * len(Bytemark)\n",
    "        ###***\n",
    "        Bytemark = Bytemark.loc[:,~Bytemark.columns.str.startswith('route_id_')] # remove all columns that start with route id. If needed later, make two temp data frames with routes/trips to use in the different cases. also if you need trip ID change trip_id_No_0 to route_id_No_0 in the Begin_ind assignment\n",
    "        ###***\n",
    "\n",
    "        # hj = 0\n",
    "        day = 0\n",
    "        days = Bytemark.Date.nunique()\n",
    "        for date in Bytemark.Date.unique():\n",
    "            # print(date)\n",
    "            day += 1\n",
    "            print('Day', day,'of',days)\n",
    "            temp_ = Bytemark[(Bytemark['Date'] == date)] # subset by days\n",
    "            for uuid in tqdm(temp_.UUID.unique()): # Subset by activation\n",
    "                temp = temp_[(temp_['UUID'] == uuid)]\n",
    "\n",
    "                # if len(temp)> 1: # Check if more than one activation in a day\n",
    "                   ################### this =has already been done and no need to duplicate\n",
    "                # # PassengerFullTripID += 1\n",
    "                # ## if two consecutive stops are the same, remove the first one (validate this later (maybe its not a good choice))\n",
    "                # temp = temp.loc[temp.StopID.shift(-1) != temp.StopID] # this solves the issue of boarding from a stop to the same stop being inferred in case the there are not only two trips in the day which are inferred to the same stop\n",
    "                #\n",
    "                # # So the above uses boolean critieria, we compare the dataframe against the dataframe shifted by -1 rows to create the mask\n",
    "                # # This returns the second consecutive value and deletes the first it encounters\n",
    "                # # Using shift(1) will return the first instead.\n",
    "                # ### (Untested) Here is an update that will make it work with multiple columns if needed. Use \".any(axis=1)\" to combine the results from each column:\n",
    "                # # cols = [\"col1\",\"col2\",\"col3\"]\n",
    "                # # de_dup = a[cols].loc[(a[cols].shift(1) != a[cols]).any(axis=1)]\n",
    "                #\n",
    "                # ## create a column of next boarding stops. shift all the values upwards. and then assign the last next boarding as the first boarding because each value in this column will be compared with the locations of stops on the same route later. so this one will be considered the last destination\n",
    "                # ## StopID here is the boarding stop\n",
    "                # temp[\"NextBoardingStop\"]= temp[\"StopID\"].shift(-1)\n",
    "                # temp['NextBoardingStop'].iloc[-1] = np.array(temp.StopID.head(1))[0]\n",
    "                # temp[\"NextBoardingTimeScanned\"]= temp[\"Time_Scanned\"].shift(-1)\n",
    "                # temp['NextBoardingTimeScanned'].iloc[-1] = pd.NaT # assign as a 'NOT A TIME' value for last destination of the day (not even a needed value since this is only treated as the last destination, not an actual next boarding stop)\n",
    "\n",
    "                # if len(temp) < 2:\n",
    "                #     temp.NextBoardingStop = np.nan\n",
    "                #     temp.NextBoardingTimeScanned = pd.NaT # if only one trip assigned that day. delete next boarding and timestamp\n",
    "                #     # display(temp)\n",
    "                #     continue\n",
    "                # display(temp.StopID.iloc[0])\n",
    "                # if temp.NextBoardingStop.iloc[-1] == temp.StopID.iloc[-1]: # is this line accurate?. see the cleaning code above\n",
    "                #     # display(temp)\n",
    "                #     temp.drop(temp.tail(1).index,inplace=True) # drop last row in case last activation is the same as the first (assumption: the last destination is actually the first one. But an accidental activation has been done around the time of getting to the last destination)\n",
    "                #     # display(temp)\n",
    "\n",
    "                # temp = temp.loc[temp.NextBoardingStop.shift(-1) != temp.NextBoardingStop]\n",
    "                # if len(temp) < 2:\n",
    "                #     # display(temp)\n",
    "                #     continue\n",
    "                # temp['NextBoardingTimeScanned'].iloc[-1] = pd.NaT # again because some values changes in the last if statements: assign the last destination time as a 'NOT A TIME' value for last destination of the day (not even a needed value since this is only treated as the last destination, not an actual next boarding stop)\n",
    "\n",
    "\n",
    "\n",
    "                # add stop location of each next stop location for greedy inference later\n",
    "                ## this next part used to be part of the if statement but not needed since we already cleaned singe and false activations before coming to this alighting inference\n",
    "\n",
    "                ##########################################\n",
    "                # get next stop locations\n",
    "                temp.NextBoardingStop = temp.NextBoardingStop.astype('int')\n",
    "                temp.NextBoardingStop = temp.NextBoardingStop.astype('str')\n",
    "                temp = temp.reset_index()\n",
    "                temp = temp.merge(tempstops__, on = 'NextBoardingStop') # get next stop location\n",
    "                temp = temp.set_index('index')\n",
    "                temp.index.name = None\n",
    "                ##########################################\n",
    "\n",
    "                for index, row in temp.iterrows(): # Select next activation\n",
    "                    ## do we need a custom passenger trip ID and passenger full trip ID?\n",
    "                    # Take the route id inferred for this trip and subset the route stop undummied to obtain a list of stops in the same route\n",
    "                    ## what should happen: obtain a list of all possible routes and subset by them (possibly by changing the above assign routes function to give routes for each stop seperately and avoid the multiplication of routes.)\\\n",
    "                    ### then see which stop in which of these routes is closer to the next boarding\n",
    "\n",
    "                    # stops_ = pd.DataFrame() # contains all possible stops within the routes\n",
    "                    stops_2 = pd.DataFrame() # contains all possible stops used on the possible trips\n",
    "\n",
    "                    ##########################################\n",
    "                    # Get dataframes with all possible trip ids and route ids\n",
    "                    Begin_ind = Bytemark.columns.get_loc('trip_id_No_0') # first index with route id possibility\n",
    "                    End_ind = Bytemark.columns.get_loc('dist') # first index after. the iteration will stop behind this one\n",
    "                    Date_ind = Bytemark.columns.get_loc('date') #index of the date column\n",
    "\n",
    "                    for i in range (Begin_ind,End_ind): # iterate through columns of possible trips and routes\n",
    "                        if row[Bytemark.iloc[:, i].name] != row[Bytemark.iloc[:, i].name]: # nan != nan. If the value in that row is nan, this will skip that column\n",
    "                            continue\n",
    "                        date = row[Bytemark.iloc[:,Date_ind].name]\n",
    "                        if date in route_timetable_.date.values: # If the activation date is in the schedule, the stops 2 file will be filtered. If no, it will remain the same (unless other days are inaccurate\n",
    "                            ## check each column route id value and get the corresponding stops from the stops file\n",
    "                            ### append that row to the empty temp dataframe. Repeat until all columns are checked and we have a table of all possible stops\n",
    "                            ##### the stops_ file is not needed (if you need it go back to bytemark and unremove the route ID columns\n",
    "                            # stops_ = stops_.append(stop_routes.loc[stop_routes['route_id'] == row[Bytemark.iloc[:,i].name]]) ## This used to be \"Bytemark_\" but i think it should be Bytemark # this also used to be \"stops\" which i removed duplicates from the stopID column. meaning it didnt contain all possible route stops. Now replaced it with stop_routes which should be more accurate. # Add all possible stops within the specific route to stops_\n",
    "\n",
    "                            # now the stops need to be filtered with possible trip IDs as well\n",
    "                            stops_2 = stops_2.append(route_timetable_.loc[route_timetable_['trip_id'] == row[Bytemark.iloc[:,i].name]]) # contains all possible stops used on the possible trips . this same trip id is repeated every day. only get the data for that day. ## This used to be \"Bytemark_\" but i think it should be Bytemark\n",
    "\n",
    "                        else:\n",
    "                            # continue\n",
    "                            raise Exception(f\"The activation date {date} was not found in the schedule data with this route or trip ID {row[Bytemark.iloc[:,i].name]}. Check to see if the schedule data is loaded for this bytemark sample dates \")\n",
    "\n",
    "                        # if date in route_timetable_.date.values:\n",
    "                        stops_2 = stops_2[stops_2.date == date] # Does this need the if above it? # not needed at all since we filter by time below?\n",
    "\n",
    "                    ##########################################\n",
    "\n",
    "                    # filter stops_2 to get stops with arrival time between 1st and 2nd activations\n",
    "                    # Is using stops_2 enough? # explore later\n",
    "                    ## set 1st and 2nd activations times for that row\n",
    "                    start_date = row[temp['Time_Scanned'].name]\n",
    "                    end_date = row[temp['NextBoardingTimeScanned'].name]\n",
    "\n",
    "                    # What about the NAT next-ride-timestamp value at the end of every single day for each rider\n",
    "                    # Would setting the possible stops equal to the stops file generated using the route IDs not the Trip IDs be sufficient? ( since we dont have an alighting time at the end of the day to get a meaningful result, go back to the default route based assignment) (changed to the below code)\n",
    "                    if pd.isnull(end_date): # if its the last activation\n",
    "                        end_date = start_date + timedelta(hours=6) # add 6 hours to the activations time to account for all stops in the trip occurring after the activation # is 6 hours good?\n",
    "                        # stops_2 = stops_ # used to be this\n",
    "                    # else:\n",
    "                        # filter\n",
    "                    mask = (stops_2['arrival_date'] > start_date) & (stops_2['arrival_date'] <= end_date) # filter to get stops between activation time and next activation time\n",
    "                    stops_2 = stops_2.loc[mask] # stops_2 file now contains the possible trip IDs, and the stops and routes associated with them between the first and next boarding activation\n",
    "                    # Now we have the possible trips and stops used between the two activations.\n",
    "                    # Just find the closest stop to the next activation location within 2 km, assign it and its arrival time as the alighting and alighting time. (It can't be the same as first activation (you cant board and alight at the same stop, which is one of the options due to it being in the trip ID schedule)\n",
    "                        ### stops file from now on is expected to be named stops_2 (fix below). It is also expected to have a stop coords field (fixed)\n",
    "                    ##########################################\n",
    "                    ##########################################\n",
    "                    if stops_2.empty: # an empty stops file will be attmpted below. Check the file to avoid an error before that happens.\n",
    "                        continue\n",
    "                    else:\n",
    "                        # set the station closest to the next stop in this trip ID\n",
    "                        stops_2 = stops_2.reset_index()\n",
    "                        ####### (Forget this line) This is where the code must check the trip ids of GTFS FILES and then choose the stop of that trip ID (wont work because we dont have a single trip ID since we dont have the alighting location)\n",
    "                        ### This is where the code must check the arrival times of these stops between the first and second boarding times\n",
    "                        ### How to assign the actual trip and not any trip between boardings?\n",
    "                            # GO back to the boarding inference and assign trip IDs in addition to the route IDs\n",
    "                                # this would give two alternating columns (Route#, trip#). find a way to iterate through each column type without interference from the other (if statement: e.g. if the column contains a route no, continue) (fixed by removing route id and not needing it for inference)\n",
    "                                # continue from the boarding inference code.\n",
    "                        stoplocation, index__ = closest_point(row['NextStopLocation'], list(stops_2['StopLocation']), threshold)\n",
    "\n",
    "                        # Now use the index__ to assign the selected stop values from stops_2\n",
    "                        if index__ != 9999999:\n",
    "                            Bytemark['AlightingStopLonLat'][index] = stoplocation\n",
    "                            Bytemark['Alighting_StopID'][index] = stops_2.StopID[index__]\n",
    "                            Bytemark['Alighting_time'][index] = stops_2.arrival_date[index__] # assign boarding time of first activation # checked route timetable and it has trip ids and arrival time. but i need the arrival time of that same trip in the boarding location. There is a stopID field.\n",
    "\n",
    "                            Bytemark['route_id'][index] = stops_2.route_id[index__]\n",
    "                            Bytemark['trip_id'][index] = stops_2.trip_id[index__]\n",
    "                            # assign arrival date for all alighting locations except last arrival of the day (This can be done too (we have the last destination of the day and the possible trips of the last activation, just find the closest stop and assign the time of alighting) no need to the code below\n",
    "                            # if 'arrival_date' in stops_2.columns:\n",
    "                            #     # display(stops_2.arrival_date[index__])\n",
    "                            #     Bytemark['Alighting_arrival_date'][index] = stops_2.arrival_date[index__]\n",
    "                            # else:\n",
    "                            #     Bytemark['Alighting_arrival_date'][index] = pd.NaT\n",
    "                        else:\n",
    "                            continue # if there was no inference, The value of the cell stays the same (a tuple of nines)\n",
    "\n",
    "\n",
    "            # pbar.update(1)\n",
    "\n",
    "        dataframes.append(Bytemark)\n",
    "        # accuracy.append(len(Bytemark)/len(temp_bytemark)) # not cleaned from the uninferred\n",
    "\n",
    "    return dataframes,accuracy\n",
    "\n",
    "start = time.time()\n",
    "dataframes_a,accuracy = infer_alightings(byte_with_no_single_acts,stop_routes,route_timetable_with_coords, Global)\n",
    "end = time.time()\n",
    "print('Time: ',end - start)"
   ],
   "metadata": {
    "collapsed": false,
    "pycharm": {
     "name": "#%%\n"
    }
   }
  },
  {
   "cell_type": "code",
   "execution_count": 43,
   "outputs": [
    {
     "name": "stdout",
     "output_type": "stream",
     "text": [
      "Time = 250.19326996803284,\n",
      " The result has an accuracy of 86%\n"
     ]
    },
    {
     "data": {
      "text/plain": "              Datetime  UUID        Time_Scanned   Latitude  Longitude  \\\n0  2021-03-15 04:55:43   679 2021-03-15 04:55:43  42.106557 -72.597563   \n2  2021-03-15 10:29:27   679 2021-03-15 10:29:27  42.142034 -72.491949   \n3  2021-03-15 05:11:28  2326 2021-03-15 05:11:28  42.091452 -72.580245   \n4  2021-03-15 15:19:32  2326 2021-03-15 15:19:32  42.142448 -72.543351   \n5  2021-03-15 15:28:02  2326 2021-03-15 15:28:02  42.137887 -72.545425   \n\n        Date  Calendar_Month  Hour Status.x     ED  ...        dist diff  \\\n0  3/15/2021               3     4  EXPIRED  False  ...  824.472497 -5.0   \n2  3/15/2021               3    10  EXPIRED  False  ...   26.729083 -3.0   \n3  3/15/2021               3     5  EXPIRED  False  ...  165.569903 -7.0   \n4  3/15/2021               3    15  EXPIRED  False  ...  342.626080 -6.0   \n5  3/15/2021               3    15  EXPIRED  False  ...   53.254248 -2.0   \n\n  NextBoardingStop NextBoardingTimeScanned        date  \\\n0           5112.0     2021-03-15 05:07:57  2021-03-15   \n2           5117.0                     NaT  2021-03-15   \n3            778.0     2021-03-15 15:19:32  2021-03-15   \n4            850.0     2021-03-15 15:28:02  2021-03-15   \n5           5113.0     2021-03-15 15:56:46  2021-03-15   \n\n       AlightingStopLonLat Alighting_StopID       Alighting_time route_id  \\\n0  (42.106392, -72.594678)             5117  2021-03-15 05:00:00      P21   \n2  (42.106164, -72.594501)             5107  2021-03-15 11:23:00       B7   \n3  (42.098583, -72.583592)             1530  2021-03-15 05:22:14       G2   \n4  (42.143618, -72.543622)              778  2021-03-15 15:25:00      902   \n5  (42.105993, -72.594711)             5105  2021-03-15 15:50:00      902   \n\n                        trip_id  \n0  3421976-S2012-AMD-Weekday-51  \n2  3421933-S2012-AMD-Weekday-51  \n3  3422398-S2012-AMD-Weekday-51  \n4  3422393-S2012-AMD-Weekday-51  \n5  3422395-S2012-AMD-Weekday-51  \n\n[5 rows x 36 columns]",
      "text/html": "<div>\n<style scoped>\n    .dataframe tbody tr th:only-of-type {\n        vertical-align: middle;\n    }\n\n    .dataframe tbody tr th {\n        vertical-align: top;\n    }\n\n    .dataframe thead th {\n        text-align: right;\n    }\n</style>\n<table border=\"1\" class=\"dataframe\">\n  <thead>\n    <tr style=\"text-align: right;\">\n      <th></th>\n      <th>Datetime</th>\n      <th>UUID</th>\n      <th>Time_Scanned</th>\n      <th>Latitude</th>\n      <th>Longitude</th>\n      <th>Date</th>\n      <th>Calendar_Month</th>\n      <th>Hour</th>\n      <th>Status.x</th>\n      <th>ED</th>\n      <th>...</th>\n      <th>dist</th>\n      <th>diff</th>\n      <th>NextBoardingStop</th>\n      <th>NextBoardingTimeScanned</th>\n      <th>date</th>\n      <th>AlightingStopLonLat</th>\n      <th>Alighting_StopID</th>\n      <th>Alighting_time</th>\n      <th>route_id</th>\n      <th>trip_id</th>\n    </tr>\n  </thead>\n  <tbody>\n    <tr>\n      <th>0</th>\n      <td>2021-03-15 04:55:43</td>\n      <td>679</td>\n      <td>2021-03-15 04:55:43</td>\n      <td>42.106557</td>\n      <td>-72.597563</td>\n      <td>3/15/2021</td>\n      <td>3</td>\n      <td>4</td>\n      <td>EXPIRED</td>\n      <td>False</td>\n      <td>...</td>\n      <td>824.472497</td>\n      <td>-5.0</td>\n      <td>5112.0</td>\n      <td>2021-03-15 05:07:57</td>\n      <td>2021-03-15</td>\n      <td>(42.106392, -72.594678)</td>\n      <td>5117</td>\n      <td>2021-03-15 05:00:00</td>\n      <td>P21</td>\n      <td>3421976-S2012-AMD-Weekday-51</td>\n    </tr>\n    <tr>\n      <th>2</th>\n      <td>2021-03-15 10:29:27</td>\n      <td>679</td>\n      <td>2021-03-15 10:29:27</td>\n      <td>42.142034</td>\n      <td>-72.491949</td>\n      <td>3/15/2021</td>\n      <td>3</td>\n      <td>10</td>\n      <td>EXPIRED</td>\n      <td>False</td>\n      <td>...</td>\n      <td>26.729083</td>\n      <td>-3.0</td>\n      <td>5117.0</td>\n      <td>NaT</td>\n      <td>2021-03-15</td>\n      <td>(42.106164, -72.594501)</td>\n      <td>5107</td>\n      <td>2021-03-15 11:23:00</td>\n      <td>B7</td>\n      <td>3421933-S2012-AMD-Weekday-51</td>\n    </tr>\n    <tr>\n      <th>3</th>\n      <td>2021-03-15 05:11:28</td>\n      <td>2326</td>\n      <td>2021-03-15 05:11:28</td>\n      <td>42.091452</td>\n      <td>-72.580245</td>\n      <td>3/15/2021</td>\n      <td>3</td>\n      <td>5</td>\n      <td>EXPIRED</td>\n      <td>False</td>\n      <td>...</td>\n      <td>165.569903</td>\n      <td>-7.0</td>\n      <td>778.0</td>\n      <td>2021-03-15 15:19:32</td>\n      <td>2021-03-15</td>\n      <td>(42.098583, -72.583592)</td>\n      <td>1530</td>\n      <td>2021-03-15 05:22:14</td>\n      <td>G2</td>\n      <td>3422398-S2012-AMD-Weekday-51</td>\n    </tr>\n    <tr>\n      <th>4</th>\n      <td>2021-03-15 15:19:32</td>\n      <td>2326</td>\n      <td>2021-03-15 15:19:32</td>\n      <td>42.142448</td>\n      <td>-72.543351</td>\n      <td>3/15/2021</td>\n      <td>3</td>\n      <td>15</td>\n      <td>EXPIRED</td>\n      <td>False</td>\n      <td>...</td>\n      <td>342.626080</td>\n      <td>-6.0</td>\n      <td>850.0</td>\n      <td>2021-03-15 15:28:02</td>\n      <td>2021-03-15</td>\n      <td>(42.143618, -72.543622)</td>\n      <td>778</td>\n      <td>2021-03-15 15:25:00</td>\n      <td>902</td>\n      <td>3422393-S2012-AMD-Weekday-51</td>\n    </tr>\n    <tr>\n      <th>5</th>\n      <td>2021-03-15 15:28:02</td>\n      <td>2326</td>\n      <td>2021-03-15 15:28:02</td>\n      <td>42.137887</td>\n      <td>-72.545425</td>\n      <td>3/15/2021</td>\n      <td>3</td>\n      <td>15</td>\n      <td>EXPIRED</td>\n      <td>False</td>\n      <td>...</td>\n      <td>53.254248</td>\n      <td>-2.0</td>\n      <td>5113.0</td>\n      <td>2021-03-15 15:56:46</td>\n      <td>2021-03-15</td>\n      <td>(42.105993, -72.594711)</td>\n      <td>5105</td>\n      <td>2021-03-15 15:50:00</td>\n      <td>902</td>\n      <td>3422395-S2012-AMD-Weekday-51</td>\n    </tr>\n  </tbody>\n</table>\n<p>5 rows × 36 columns</p>\n</div>"
     },
     "metadata": {},
     "output_type": "display_data"
    }
   ],
   "source": [
    "\n",
    "# Create the completed inferred file and Clean it and calculate accuracy\n",
    "full_assigned_alightings = pd.concat(dataframes_a)\n",
    "full_assigned_alightings = full_assigned_alightings[full_assigned_alightings.AlightingStopLonLat!=(9999999, 9999999)] # see if these tuples exist in the current data\n",
    "full_assigned_alightings.to_csv(f\"../../data/tidy/Byte-15-march-2021-inferred-boarding_alighting.csv\", index=False)\n",
    "Accuracy = (len(full_assigned_alightings)/len(byte_with_no_single_acts)) * 100\n",
    "print(f'Time = {end - start},\\n The result has an accuracy of {round(Accuracy)}%')\n",
    "display(full_assigned_alightings.head())"
   ],
   "metadata": {
    "collapsed": false,
    "pycharm": {
     "name": "#%%\n"
    }
   }
  },
  {
   "cell_type": "markdown",
   "source": [
    "# record time and accuracy\n",
    "\n",
    "Global:  Time = 1835.76\n",
    "         Accuracy = 93%\n",
    "Special: Time = 2003\n",
    "         Accuracy = 84%\n",
    "\n",
    "highest accuracy is in T  % and lowest in T % with the global thresholds"
   ],
   "metadata": {
    "collapsed": false
   }
  },
  {
   "cell_type": "markdown",
   "source": [
    "# Perform distance and time analysis\n",
    "### 1.# distance between boarding and alighting stops (miles)"
   ],
   "metadata": {
    "collapsed": false
   }
  },
  {
   "cell_type": "code",
   "execution_count": 44,
   "outputs": [
    {
     "data": {
      "text/plain": "              ActivationLocation       AssignedStopLonLat  \\\n0    (42.10655731, -72.59756321)  (42.106392, -72.594678)   \n1    (42.14203439, -72.49194869)  (42.142034, -72.491855)   \n2    (42.09145179, -72.58024523)  (42.091707, -72.579724)   \n3    (42.14244793, -72.54335131)  (42.143618, -72.543622)   \n4    (42.13788739, -72.54542514)  (42.137918, -72.545241)   \n..                           ...                      ...   \n766  (42.08406182, -72.55468424)  (42.083751, -72.555177)   \n767   (42.10646703, -72.5945417)   (42.10657, -72.594602)   \n768  (42.09526453, -72.60505403)   (42.09548, -72.605077)   \n769     (42.3036482, -72.623718)  (42.302877, -72.622024)   \n770     (42.3036482, -72.623718)   (42.30327, -72.623702)   \n\n            Time_Scanned assigned_boarding_time NextBoardingStop  \\\n0    2021-03-15 04:55:43    2021-03-15 05:00:00             5112   \n1    2021-03-15 10:29:27    2021-03-15 10:32:07             5117   \n2    2021-03-15 05:11:28    2021-03-15 05:17:36              778   \n3    2021-03-15 15:19:32    2021-03-15 15:25:00              850   \n4    2021-03-15 15:28:02    2021-03-15 15:30:00             5113   \n..                   ...                    ...              ...   \n766  2021-03-15 15:50:10    2021-03-15 15:49:44             5112   \n767  2021-03-15 16:08:08    2021-03-15 16:13:00             1571   \n768  2021-03-15 19:14:06    2021-03-15 19:15:00             1773   \n769  2021-03-15 17:02:43    2021-03-15 17:03:00             7481   \n770  2021-03-15 17:04:05    2021-03-15 17:13:00             6262   \n\n    NextBoardingTimeScanned      AlightingStopLonLat       Alighting_time  \\\n0       2021-03-15 05:07:57  (42.106392, -72.594678)  2021-03-15 05:00:00   \n1                       NaN  (42.106164, -72.594501)  2021-03-15 11:23:00   \n2       2021-03-15 15:19:32  (42.098583, -72.583592)  2021-03-15 05:22:14   \n3       2021-03-15 15:28:02  (42.143618, -72.543622)  2021-03-15 15:25:00   \n4       2021-03-15 15:56:46  (42.105993, -72.594711)  2021-03-15 15:50:00   \n..                      ...                      ...                  ...   \n766     2021-03-15 16:08:08   (42.10367, -72.586847)  2021-03-15 16:06:46   \n767     2021-03-15 19:14:06  (42.098406, -72.602754)  2021-03-15 16:20:09   \n768                     NaN  (42.103264, -72.591799)  2021-03-15 19:21:04   \n769     2021-03-15 17:04:05  (42.302877, -72.622024)  2021-03-15 17:03:00   \n770                     NaN  (42.304182, -72.622173)  2021-03-15 17:14:25   \n\n    route_id  Typology         NextStopLocation  \n0        P21         1   (42.10657, -72.594602)  \n1         B7         1  (42.106392, -72.594678)  \n2         G2         1  (42.143618, -72.543622)  \n3        902         1  (42.137918, -72.545241)  \n4        902         1  (42.106703, -72.594788)  \n..       ...       ...                      ...  \n766       G5         4   (42.10657, -72.594602)  \n767      R10         4   (42.09548, -72.605077)  \n768      R14         4  (42.083751, -72.555177)  \n769      B48         4   (42.30327, -72.623702)  \n770      B48         4  (42.302877, -72.622024)  \n\n[771 rows x 11 columns]",
      "text/html": "<div>\n<style scoped>\n    .dataframe tbody tr th:only-of-type {\n        vertical-align: middle;\n    }\n\n    .dataframe tbody tr th {\n        vertical-align: top;\n    }\n\n    .dataframe thead th {\n        text-align: right;\n    }\n</style>\n<table border=\"1\" class=\"dataframe\">\n  <thead>\n    <tr style=\"text-align: right;\">\n      <th></th>\n      <th>ActivationLocation</th>\n      <th>AssignedStopLonLat</th>\n      <th>Time_Scanned</th>\n      <th>assigned_boarding_time</th>\n      <th>NextBoardingStop</th>\n      <th>NextBoardingTimeScanned</th>\n      <th>AlightingStopLonLat</th>\n      <th>Alighting_time</th>\n      <th>route_id</th>\n      <th>Typology</th>\n      <th>NextStopLocation</th>\n    </tr>\n  </thead>\n  <tbody>\n    <tr>\n      <th>0</th>\n      <td>(42.10655731, -72.59756321)</td>\n      <td>(42.106392, -72.594678)</td>\n      <td>2021-03-15 04:55:43</td>\n      <td>2021-03-15 05:00:00</td>\n      <td>5112</td>\n      <td>2021-03-15 05:07:57</td>\n      <td>(42.106392, -72.594678)</td>\n      <td>2021-03-15 05:00:00</td>\n      <td>P21</td>\n      <td>1</td>\n      <td>(42.10657, -72.594602)</td>\n    </tr>\n    <tr>\n      <th>1</th>\n      <td>(42.14203439, -72.49194869)</td>\n      <td>(42.142034, -72.491855)</td>\n      <td>2021-03-15 10:29:27</td>\n      <td>2021-03-15 10:32:07</td>\n      <td>5117</td>\n      <td>NaN</td>\n      <td>(42.106164, -72.594501)</td>\n      <td>2021-03-15 11:23:00</td>\n      <td>B7</td>\n      <td>1</td>\n      <td>(42.106392, -72.594678)</td>\n    </tr>\n    <tr>\n      <th>2</th>\n      <td>(42.09145179, -72.58024523)</td>\n      <td>(42.091707, -72.579724)</td>\n      <td>2021-03-15 05:11:28</td>\n      <td>2021-03-15 05:17:36</td>\n      <td>778</td>\n      <td>2021-03-15 15:19:32</td>\n      <td>(42.098583, -72.583592)</td>\n      <td>2021-03-15 05:22:14</td>\n      <td>G2</td>\n      <td>1</td>\n      <td>(42.143618, -72.543622)</td>\n    </tr>\n    <tr>\n      <th>3</th>\n      <td>(42.14244793, -72.54335131)</td>\n      <td>(42.143618, -72.543622)</td>\n      <td>2021-03-15 15:19:32</td>\n      <td>2021-03-15 15:25:00</td>\n      <td>850</td>\n      <td>2021-03-15 15:28:02</td>\n      <td>(42.143618, -72.543622)</td>\n      <td>2021-03-15 15:25:00</td>\n      <td>902</td>\n      <td>1</td>\n      <td>(42.137918, -72.545241)</td>\n    </tr>\n    <tr>\n      <th>4</th>\n      <td>(42.13788739, -72.54542514)</td>\n      <td>(42.137918, -72.545241)</td>\n      <td>2021-03-15 15:28:02</td>\n      <td>2021-03-15 15:30:00</td>\n      <td>5113</td>\n      <td>2021-03-15 15:56:46</td>\n      <td>(42.105993, -72.594711)</td>\n      <td>2021-03-15 15:50:00</td>\n      <td>902</td>\n      <td>1</td>\n      <td>(42.106703, -72.594788)</td>\n    </tr>\n    <tr>\n      <th>...</th>\n      <td>...</td>\n      <td>...</td>\n      <td>...</td>\n      <td>...</td>\n      <td>...</td>\n      <td>...</td>\n      <td>...</td>\n      <td>...</td>\n      <td>...</td>\n      <td>...</td>\n      <td>...</td>\n    </tr>\n    <tr>\n      <th>766</th>\n      <td>(42.08406182, -72.55468424)</td>\n      <td>(42.083751, -72.555177)</td>\n      <td>2021-03-15 15:50:10</td>\n      <td>2021-03-15 15:49:44</td>\n      <td>5112</td>\n      <td>2021-03-15 16:08:08</td>\n      <td>(42.10367, -72.586847)</td>\n      <td>2021-03-15 16:06:46</td>\n      <td>G5</td>\n      <td>4</td>\n      <td>(42.10657, -72.594602)</td>\n    </tr>\n    <tr>\n      <th>767</th>\n      <td>(42.10646703, -72.5945417)</td>\n      <td>(42.10657, -72.594602)</td>\n      <td>2021-03-15 16:08:08</td>\n      <td>2021-03-15 16:13:00</td>\n      <td>1571</td>\n      <td>2021-03-15 19:14:06</td>\n      <td>(42.098406, -72.602754)</td>\n      <td>2021-03-15 16:20:09</td>\n      <td>R10</td>\n      <td>4</td>\n      <td>(42.09548, -72.605077)</td>\n    </tr>\n    <tr>\n      <th>768</th>\n      <td>(42.09526453, -72.60505403)</td>\n      <td>(42.09548, -72.605077)</td>\n      <td>2021-03-15 19:14:06</td>\n      <td>2021-03-15 19:15:00</td>\n      <td>1773</td>\n      <td>NaN</td>\n      <td>(42.103264, -72.591799)</td>\n      <td>2021-03-15 19:21:04</td>\n      <td>R14</td>\n      <td>4</td>\n      <td>(42.083751, -72.555177)</td>\n    </tr>\n    <tr>\n      <th>769</th>\n      <td>(42.3036482, -72.623718)</td>\n      <td>(42.302877, -72.622024)</td>\n      <td>2021-03-15 17:02:43</td>\n      <td>2021-03-15 17:03:00</td>\n      <td>7481</td>\n      <td>2021-03-15 17:04:05</td>\n      <td>(42.302877, -72.622024)</td>\n      <td>2021-03-15 17:03:00</td>\n      <td>B48</td>\n      <td>4</td>\n      <td>(42.30327, -72.623702)</td>\n    </tr>\n    <tr>\n      <th>770</th>\n      <td>(42.3036482, -72.623718)</td>\n      <td>(42.30327, -72.623702)</td>\n      <td>2021-03-15 17:04:05</td>\n      <td>2021-03-15 17:13:00</td>\n      <td>6262</td>\n      <td>NaN</td>\n      <td>(42.304182, -72.622173)</td>\n      <td>2021-03-15 17:14:25</td>\n      <td>B48</td>\n      <td>4</td>\n      <td>(42.302877, -72.622024)</td>\n    </tr>\n  </tbody>\n</table>\n<p>771 rows × 11 columns</p>\n</div>"
     },
     "execution_count": 44,
     "metadata": {},
     "output_type": "execute_result"
    }
   ],
   "source": [
    "full_assigned_alightings = pd.read_csv(f\"../../data/tidy/Byte-15-march-2021-inferred-boarding_alighting.csv\")[['ActivationLocation','AssignedStopLonLat','Time_Scanned','assigned_boarding_time','NextBoardingStop','NextBoardingTimeScanned','AlightingStopLonLat','Alighting_time','route_id','Typology']].reset_index(drop = True)\n",
    "full_assigned_alightings.NextBoardingStop = full_assigned_alightings.NextBoardingStop.astype('int').astype('str')\n",
    "full_assigned_alightings['StopID'] = full_assigned_alightings['NextBoardingStop']\n",
    "full_stops['NextStopLocation'] = [(x, y) for x,y in zip(full_stops['Latitude'], full_stops['Longitude'])]\n",
    "temp_stop = full_stops[['NextStopLocation', 'StopID']].reset_index(drop = True)\n",
    "\n",
    "full_assigned_alightings = full_assigned_alightings.merge(temp_stop, on = 'StopID',how='left')\n",
    "full_assigned_alightings = full_assigned_alightings.drop(columns=['StopID'])\n",
    "full_assigned_alightings"
   ],
   "metadata": {
    "collapsed": false,
    "pycharm": {
     "name": "#%%\n"
    }
   }
  },
  {
   "cell_type": "code",
   "execution_count": 45,
   "outputs": [
    {
     "data": {
      "text/plain": "              ActivationLocation       AssignedStopLonLat        Time_Scanned  \\\n0    (42.10655731, -72.59756321)  (42.106392, -72.594678) 2021-03-15 04:55:43   \n1    (42.14203439, -72.49194869)  (42.142034, -72.491855) 2021-03-15 10:29:27   \n2    (42.09145179, -72.58024523)  (42.091707, -72.579724) 2021-03-15 05:11:28   \n3    (42.14244793, -72.54335131)  (42.143618, -72.543622) 2021-03-15 15:19:32   \n4    (42.13788739, -72.54542514)  (42.137918, -72.545241) 2021-03-15 15:28:02   \n..                           ...                      ...                 ...   \n766  (42.08406182, -72.55468424)  (42.083751, -72.555177) 2021-03-15 15:50:10   \n767   (42.10646703, -72.5945417)   (42.10657, -72.594602) 2021-03-15 16:08:08   \n768  (42.09526453, -72.60505403)   (42.09548, -72.605077) 2021-03-15 19:14:06   \n769     (42.3036482, -72.623718)  (42.302877, -72.622024) 2021-03-15 17:02:43   \n770     (42.3036482, -72.623718)   (42.30327, -72.623702) 2021-03-15 17:04:05   \n\n    assigned_boarding_time NextBoardingStop NextBoardingTimeScanned  \\\n0      2021-03-15 05:00:00             5112     2021-03-15 05:07:57   \n1      2021-03-15 10:32:07             5117                     NaT   \n2      2021-03-15 05:17:36              778     2021-03-15 15:19:32   \n3      2021-03-15 15:25:00              850     2021-03-15 15:28:02   \n4      2021-03-15 15:30:00             5113     2021-03-15 15:56:46   \n..                     ...              ...                     ...   \n766    2021-03-15 15:49:44             5112     2021-03-15 16:08:08   \n767    2021-03-15 16:13:00             1571     2021-03-15 19:14:06   \n768    2021-03-15 19:15:00             1773                     NaT   \n769    2021-03-15 17:03:00             7481     2021-03-15 17:04:05   \n770    2021-03-15 17:13:00             6262                     NaT   \n\n         AlightingStopLonLat      Alighting_time route_id  Typology  \\\n0    (42.106392, -72.594678) 2021-03-15 05:00:00      P21         1   \n1    (42.106164, -72.594501) 2021-03-15 11:23:00       B7         1   \n2    (42.098583, -72.583592) 2021-03-15 05:22:14       G2         1   \n3    (42.143618, -72.543622) 2021-03-15 15:25:00      902         1   \n4    (42.105993, -72.594711) 2021-03-15 15:50:00      902         1   \n..                       ...                 ...      ...       ...   \n766   (42.10367, -72.586847) 2021-03-15 16:06:46       G5         4   \n767  (42.098406, -72.602754) 2021-03-15 16:20:09      R10         4   \n768  (42.103264, -72.591799) 2021-03-15 19:21:04      R14         4   \n769  (42.302877, -72.622024) 2021-03-15 17:03:00      B48         4   \n770  (42.304182, -72.622173) 2021-03-15 17:14:25      B48         4   \n\n            NextStopLocation  dist_boarding_alighting  \\\n0     (42.10657, -72.594602)                 0.156150   \n1    (42.106392, -72.594678)                 5.870316   \n2    (42.143618, -72.543622)                 0.425639   \n3    (42.137918, -72.545241)                 0.064891   \n4    (42.106703, -72.594788)                 3.171997   \n..                       ...                      ...   \n766   (42.10657, -72.594602)                 2.035320   \n767   (42.09548, -72.605077)                 0.621775   \n768  (42.083751, -72.555177)                 0.836519   \n769   (42.30327, -72.623702)                 0.100569   \n770  (42.302877, -72.622024)                 0.088322   \n\n     dist_alighting_next_boarding  diff_activation_boarding  diff_trip_length  \\\n0                        0.010458                      -5.0               0.0   \n1                        0.015596                      -3.0              50.0   \n2                        3.253510                      -7.0               4.0   \n3                        0.320166                      -6.0               0.0   \n4                        0.038588                      -2.0              20.0   \n..                            ...                       ...               ...   \n766                      0.447360                       0.0              17.0   \n767                      0.201865                      -5.0               7.0   \n768                      2.242129                      -1.0               6.0   \n769                      0.093120                      -1.0               0.0   \n770                      0.070970                      -9.0               1.0   \n\n     diff_alighting_next_boarding  \n0                             7.0  \n1                             NaN  \n2                           597.0  \n3                             3.0  \n4                             6.0  \n..                            ...  \n766                           1.0  \n767                         173.0  \n768                           NaN  \n769                           1.0  \n770                           NaN  \n\n[771 rows x 16 columns]",
      "text/html": "<div>\n<style scoped>\n    .dataframe tbody tr th:only-of-type {\n        vertical-align: middle;\n    }\n\n    .dataframe tbody tr th {\n        vertical-align: top;\n    }\n\n    .dataframe thead th {\n        text-align: right;\n    }\n</style>\n<table border=\"1\" class=\"dataframe\">\n  <thead>\n    <tr style=\"text-align: right;\">\n      <th></th>\n      <th>ActivationLocation</th>\n      <th>AssignedStopLonLat</th>\n      <th>Time_Scanned</th>\n      <th>assigned_boarding_time</th>\n      <th>NextBoardingStop</th>\n      <th>NextBoardingTimeScanned</th>\n      <th>AlightingStopLonLat</th>\n      <th>Alighting_time</th>\n      <th>route_id</th>\n      <th>Typology</th>\n      <th>NextStopLocation</th>\n      <th>dist_boarding_alighting</th>\n      <th>dist_alighting_next_boarding</th>\n      <th>diff_activation_boarding</th>\n      <th>diff_trip_length</th>\n      <th>diff_alighting_next_boarding</th>\n    </tr>\n  </thead>\n  <tbody>\n    <tr>\n      <th>0</th>\n      <td>(42.10655731, -72.59756321)</td>\n      <td>(42.106392, -72.594678)</td>\n      <td>2021-03-15 04:55:43</td>\n      <td>2021-03-15 05:00:00</td>\n      <td>5112</td>\n      <td>2021-03-15 05:07:57</td>\n      <td>(42.106392, -72.594678)</td>\n      <td>2021-03-15 05:00:00</td>\n      <td>P21</td>\n      <td>1</td>\n      <td>(42.10657, -72.594602)</td>\n      <td>0.156150</td>\n      <td>0.010458</td>\n      <td>-5.0</td>\n      <td>0.0</td>\n      <td>7.0</td>\n    </tr>\n    <tr>\n      <th>1</th>\n      <td>(42.14203439, -72.49194869)</td>\n      <td>(42.142034, -72.491855)</td>\n      <td>2021-03-15 10:29:27</td>\n      <td>2021-03-15 10:32:07</td>\n      <td>5117</td>\n      <td>NaT</td>\n      <td>(42.106164, -72.594501)</td>\n      <td>2021-03-15 11:23:00</td>\n      <td>B7</td>\n      <td>1</td>\n      <td>(42.106392, -72.594678)</td>\n      <td>5.870316</td>\n      <td>0.015596</td>\n      <td>-3.0</td>\n      <td>50.0</td>\n      <td>NaN</td>\n    </tr>\n    <tr>\n      <th>2</th>\n      <td>(42.09145179, -72.58024523)</td>\n      <td>(42.091707, -72.579724)</td>\n      <td>2021-03-15 05:11:28</td>\n      <td>2021-03-15 05:17:36</td>\n      <td>778</td>\n      <td>2021-03-15 15:19:32</td>\n      <td>(42.098583, -72.583592)</td>\n      <td>2021-03-15 05:22:14</td>\n      <td>G2</td>\n      <td>1</td>\n      <td>(42.143618, -72.543622)</td>\n      <td>0.425639</td>\n      <td>3.253510</td>\n      <td>-7.0</td>\n      <td>4.0</td>\n      <td>597.0</td>\n    </tr>\n    <tr>\n      <th>3</th>\n      <td>(42.14244793, -72.54335131)</td>\n      <td>(42.143618, -72.543622)</td>\n      <td>2021-03-15 15:19:32</td>\n      <td>2021-03-15 15:25:00</td>\n      <td>850</td>\n      <td>2021-03-15 15:28:02</td>\n      <td>(42.143618, -72.543622)</td>\n      <td>2021-03-15 15:25:00</td>\n      <td>902</td>\n      <td>1</td>\n      <td>(42.137918, -72.545241)</td>\n      <td>0.064891</td>\n      <td>0.320166</td>\n      <td>-6.0</td>\n      <td>0.0</td>\n      <td>3.0</td>\n    </tr>\n    <tr>\n      <th>4</th>\n      <td>(42.13788739, -72.54542514)</td>\n      <td>(42.137918, -72.545241)</td>\n      <td>2021-03-15 15:28:02</td>\n      <td>2021-03-15 15:30:00</td>\n      <td>5113</td>\n      <td>2021-03-15 15:56:46</td>\n      <td>(42.105993, -72.594711)</td>\n      <td>2021-03-15 15:50:00</td>\n      <td>902</td>\n      <td>1</td>\n      <td>(42.106703, -72.594788)</td>\n      <td>3.171997</td>\n      <td>0.038588</td>\n      <td>-2.0</td>\n      <td>20.0</td>\n      <td>6.0</td>\n    </tr>\n    <tr>\n      <th>...</th>\n      <td>...</td>\n      <td>...</td>\n      <td>...</td>\n      <td>...</td>\n      <td>...</td>\n      <td>...</td>\n      <td>...</td>\n      <td>...</td>\n      <td>...</td>\n      <td>...</td>\n      <td>...</td>\n      <td>...</td>\n      <td>...</td>\n      <td>...</td>\n      <td>...</td>\n      <td>...</td>\n    </tr>\n    <tr>\n      <th>766</th>\n      <td>(42.08406182, -72.55468424)</td>\n      <td>(42.083751, -72.555177)</td>\n      <td>2021-03-15 15:50:10</td>\n      <td>2021-03-15 15:49:44</td>\n      <td>5112</td>\n      <td>2021-03-15 16:08:08</td>\n      <td>(42.10367, -72.586847)</td>\n      <td>2021-03-15 16:06:46</td>\n      <td>G5</td>\n      <td>4</td>\n      <td>(42.10657, -72.594602)</td>\n      <td>2.035320</td>\n      <td>0.447360</td>\n      <td>0.0</td>\n      <td>17.0</td>\n      <td>1.0</td>\n    </tr>\n    <tr>\n      <th>767</th>\n      <td>(42.10646703, -72.5945417)</td>\n      <td>(42.10657, -72.594602)</td>\n      <td>2021-03-15 16:08:08</td>\n      <td>2021-03-15 16:13:00</td>\n      <td>1571</td>\n      <td>2021-03-15 19:14:06</td>\n      <td>(42.098406, -72.602754)</td>\n      <td>2021-03-15 16:20:09</td>\n      <td>R10</td>\n      <td>4</td>\n      <td>(42.09548, -72.605077)</td>\n      <td>0.621775</td>\n      <td>0.201865</td>\n      <td>-5.0</td>\n      <td>7.0</td>\n      <td>173.0</td>\n    </tr>\n    <tr>\n      <th>768</th>\n      <td>(42.09526453, -72.60505403)</td>\n      <td>(42.09548, -72.605077)</td>\n      <td>2021-03-15 19:14:06</td>\n      <td>2021-03-15 19:15:00</td>\n      <td>1773</td>\n      <td>NaT</td>\n      <td>(42.103264, -72.591799)</td>\n      <td>2021-03-15 19:21:04</td>\n      <td>R14</td>\n      <td>4</td>\n      <td>(42.083751, -72.555177)</td>\n      <td>0.836519</td>\n      <td>2.242129</td>\n      <td>-1.0</td>\n      <td>6.0</td>\n      <td>NaN</td>\n    </tr>\n    <tr>\n      <th>769</th>\n      <td>(42.3036482, -72.623718)</td>\n      <td>(42.302877, -72.622024)</td>\n      <td>2021-03-15 17:02:43</td>\n      <td>2021-03-15 17:03:00</td>\n      <td>7481</td>\n      <td>2021-03-15 17:04:05</td>\n      <td>(42.302877, -72.622024)</td>\n      <td>2021-03-15 17:03:00</td>\n      <td>B48</td>\n      <td>4</td>\n      <td>(42.30327, -72.623702)</td>\n      <td>0.100569</td>\n      <td>0.093120</td>\n      <td>-1.0</td>\n      <td>0.0</td>\n      <td>1.0</td>\n    </tr>\n    <tr>\n      <th>770</th>\n      <td>(42.3036482, -72.623718)</td>\n      <td>(42.30327, -72.623702)</td>\n      <td>2021-03-15 17:04:05</td>\n      <td>2021-03-15 17:13:00</td>\n      <td>6262</td>\n      <td>NaT</td>\n      <td>(42.304182, -72.622173)</td>\n      <td>2021-03-15 17:14:25</td>\n      <td>B48</td>\n      <td>4</td>\n      <td>(42.302877, -72.622024)</td>\n      <td>0.088322</td>\n      <td>0.070970</td>\n      <td>-9.0</td>\n      <td>1.0</td>\n      <td>NaN</td>\n    </tr>\n  </tbody>\n</table>\n<p>771 rows × 16 columns</p>\n</div>"
     },
     "execution_count": 45,
     "metadata": {},
     "output_type": "execute_result"
    }
   ],
   "source": [
    "from math import sqrt\n",
    "def calc_distance(p1, p2): # simple function, I hope you are more comfortable\n",
    "  return sqrt((p1[0]-p2[0])**2+(p1[1]-p2[1])**2) # Pythagorean theorem\n",
    "## add distances\n",
    "full_assigned_alightings['dist_boarding_alighting'] = np.nan\n",
    "for index, row in full_assigned_alightings.iterrows():\n",
    "    closest_point_ = calc_distance(eval(row['AlightingStopLonLat']), eval(row['ActivationLocation'])) # some times the distance is really small (close to 0) because the alighting is assigned as the boarding locations\n",
    "    full_assigned_alightings['dist_boarding_alighting'][index] = closest_point_ * ( 0.000621371 * (100000/1.15)) # only works for this local area since we're using euclidean distance. Change to greater circle. feet?\n",
    "\n",
    "full_assigned_alightings['dist_alighting_next_boarding'] = np.nan\n",
    "for index, row in full_assigned_alightings.iterrows():\n",
    "    closest_point_ = calc_distance(eval(row['AlightingStopLonLat']), row['NextStopLocation']) # eval only works if you load the data from disk. If it is tuples already then don't use it\n",
    "    full_assigned_alightings['dist_alighting_next_boarding'][index] = closest_point_ * ( 0.000621371 * (100000/1.15)) # only works for this local area since we're using euclidean distance. Change to greater circle. feet?\n",
    "\n",
    "## add time differences\n",
    "# Convert to datetime first\n",
    "full_assigned_alightings[['Time_Scanned','assigned_boarding_time','Alighting_time','NextBoardingTimeScanned']] = full_assigned_alightings[['Time_Scanned','assigned_boarding_time','Alighting_time','NextBoardingTimeScanned']].apply(pd.to_datetime)\n",
    "# make time difference column between activation and scheduled bus arrival\n",
    "full_assigned_alightings['diff_activation_boarding'] = (full_assigned_alightings.Time_Scanned - full_assigned_alightings.assigned_boarding_time).astype('timedelta64[m]') # m = minutes\n",
    "full_assigned_alightings['diff_trip_length'] = (full_assigned_alightings.Alighting_time - full_assigned_alightings.assigned_boarding_time).astype('timedelta64[m]')\n",
    "full_assigned_alightings['diff_alighting_next_boarding'] = (full_assigned_alightings.NextBoardingTimeScanned - full_assigned_alightings.Alighting_time).astype('timedelta64[m]')\n",
    "full_assigned_alightings"
   ],
   "metadata": {
    "collapsed": false,
    "pycharm": {
     "name": "#%%\n"
    }
   }
  },
  {
   "cell_type": "code",
   "execution_count": 46,
   "outputs": [
    {
     "name": "stdout",
     "output_type": "stream",
     "text": [
      "\\\\\\\\\\\\\\\\\\\\\\\\\\\\\\\\\\\\\\\\\\\\\\\\\\\\\\\\\\\\\\\\\\\\\\\\\\\\\\\\\\\\\\\\\\\\\\\\\\\\\\\\\\\\\\\\\\\\\\\\\\\\\\\\\\\\\\\\\\\\\\\\\\\\\\\\\\\\\\\\\\\\\\\\\\\\\\\\\\\\\\\\\\\\\\\\\\\\\\\\\\\\\\\n",
      "Distance from boarding to alighting stop (Miles)\n",
      "********************\n",
      " FOR TYPOLOGY 1\n",
      "mean 1.8236151312802427\n",
      "95th percentile: 5.4098975675045065\n",
      "median 1.237804822182325\n",
      "mode 0    0.894358\n",
      "1    1.009433\n",
      "Name: dist_boarding_alighting, dtype: float64\n",
      "********************\n",
      " FOR TYPOLOGY 2\n",
      "mean 1.7572380688068316\n",
      "95th percentile: 5.4395968684121465\n",
      "median 1.1614526235669693\n",
      "mode 0       0.002894\n",
      "1       0.003940\n",
      "2       0.004515\n",
      "3       0.004854\n",
      "4       0.005555\n",
      "         ...    \n",
      "355     8.460798\n",
      "356     8.550568\n",
      "357     8.618700\n",
      "358    10.992980\n",
      "359    11.034618\n",
      "Name: dist_boarding_alighting, Length: 360, dtype: float64\n",
      "********************\n",
      " FOR TYPOLOGY 3\n",
      "mean 1.7619336892688873\n",
      "95th percentile: 5.265302584979711\n",
      "median 1.2686743872390984\n",
      "mode 0      0.003077\n",
      "1      0.009298\n",
      "2      0.012088\n",
      "3      0.012557\n",
      "4      0.028520\n",
      "         ...   \n",
      "125    5.828809\n",
      "126    6.196247\n",
      "127    6.234658\n",
      "128    7.222598\n",
      "129    8.066426\n",
      "Name: dist_boarding_alighting, Length: 130, dtype: float64\n",
      "********************\n",
      " FOR TYPOLOGY 4\n",
      "mean 2.1688494334809145\n",
      "95th percentile: 6.4658693465978985\n",
      "median 1.313539642005155\n",
      "mode 0     0.001071\n",
      "1     0.004045\n",
      "2     0.040373\n",
      "3     0.088322\n",
      "4     0.100569\n",
      "5     0.227509\n",
      "6     0.386806\n",
      "7     0.389556\n",
      "8     0.398936\n",
      "9     0.458149\n",
      "10    0.621775\n",
      "11    0.664439\n",
      "12    0.743011\n",
      "13    0.836519\n",
      "14    0.861218\n",
      "15    0.865335\n",
      "16    1.026110\n",
      "17    1.174363\n",
      "18    1.287362\n",
      "19    1.313540\n",
      "20    1.596209\n",
      "21    1.640138\n",
      "22    1.843628\n",
      "23    1.909179\n",
      "24    1.949361\n",
      "25    2.035320\n",
      "26    2.301710\n",
      "27    2.798571\n",
      "28    2.825707\n",
      "29    3.274710\n",
      "30    3.458789\n",
      "31    3.991448\n",
      "32    4.239919\n",
      "33    4.294518\n",
      "34    5.582485\n",
      "35    5.864601\n",
      "36    6.231082\n",
      "37    8.578956\n",
      "38    8.679787\n",
      "Name: dist_boarding_alighting, dtype: float64\n",
      "\\\\\\\\\\\\\\\\\\\\\\\\\\\\\\\\\\\\\\\\\\\\\\\\\\\\\\\\\\\\\\\\\\\\\\\\\\\\\\\\\\\\\\\\\\\\\\\\\\\\\\\\\\\\\\\\\\\\\\\\\\\\\\\\\\\\\\\\\\\\\\\\\\\\\\\\\\\\\\\\\\\\\\\\\\\\\\\\\\\\\\\\\\\\\\\\\\\\\\\\\\\\\\\n",
      "Distance from alighting to next boarding stop (Miles)\n",
      "********************\n",
      " FOR TYPOLOGY 1\n",
      "mean 0.8428344038281543\n",
      "95th percentile: 3.0829728119447943\n",
      "median 0.34878709911375533\n",
      "mode 0    0.0\n",
      "Name: dist_alighting_next_boarding, dtype: float64\n",
      "********************\n",
      " FOR TYPOLOGY 2\n",
      "mean 0.7618457877613014\n",
      "95th percentile: 2.789183737258464\n",
      "median 0.2911165199317778\n",
      "mode 0    0.0\n",
      "Name: dist_alighting_next_boarding, dtype: float64\n",
      "********************\n",
      " FOR TYPOLOGY 3\n",
      "mean 0.7374436992080288\n",
      "95th percentile: 2.9930428874384045\n",
      "median 0.10947960879792377\n",
      "mode 0    0.0\n",
      "Name: dist_alighting_next_boarding, dtype: float64\n",
      "********************\n",
      " FOR TYPOLOGY 4\n",
      "mean 0.6191096878625683\n",
      "95th percentile: 2.138869745027152\n",
      "median 0.20186531481812311\n",
      "mode 0    0.0\n",
      "Name: dist_alighting_next_boarding, dtype: float64\n",
      "\\\\\\\\\\\\\\\\\\\\\\\\\\\\\\\\\\\\\\\\\\\\\\\\\\\\\\\\\\\\\\\\\\\\\\\\\\\\\\\\\\\\\\\\\\\\\\\\\\\\\\\\\\\\\\\\\\\\\\\\\\\\\\\\\\\\\\\\\\\\\\\\\\\\\\\\\\\\\\\\\\\\\\\\\\\\\\\\\\\\\\\\\\\\\\\\\\\\\\\\\\\\\\\n",
      "Time between activation and bus schedule (min)\n",
      "********************\n",
      " FOR TYPOLOGY 1\n",
      "mean 0.5743801652892562\n",
      "95th percentile: 9.0\n",
      "median 1.0\n",
      "mode 0    1.0\n",
      "Name: diff_activation_boarding, dtype: float64\n",
      "********************\n",
      " FOR TYPOLOGY 2\n",
      "mean 0.8805555555555555\n",
      "95th percentile: 9.0\n",
      "median 1.0\n",
      "mode 0   -1.0\n",
      "Name: diff_activation_boarding, dtype: float64\n",
      "********************\n",
      " FOR TYPOLOGY 3\n",
      "mean 0.8076923076923077\n",
      "95th percentile: 8.549999999999997\n",
      "median 1.0\n",
      "mode 0    0.0\n",
      "1    1.0\n",
      "Name: diff_activation_boarding, dtype: float64\n",
      "********************\n",
      " FOR TYPOLOGY 4\n",
      "mean -0.02564102564102564\n",
      "95th percentile: 7.100000000000001\n",
      "median 0.0\n",
      "mode 0    0.0\n",
      "Name: diff_activation_boarding, dtype: float64\n",
      "\\\\\\\\\\\\\\\\\\\\\\\\\\\\\\\\\\\\\\\\\\\\\\\\\\\\\\\\\\\\\\\\\\\\\\\\\\\\\\\\\\\\\\\\\\\\\\\\\\\\\\\\\\\\\\\\\\\\\\\\\\\\\\\\\\\\\\\\\\\\\\\\\\\\\\\\\\\\\\\\\\\\\\\\\\\\\\\\\\\\\\\\\\\\\\\\\\\\\\\\\\\\\\\n",
      "Trip length (min)\n",
      "********************\n",
      " FOR TYPOLOGY 1\n",
      "mean 12.830578512396695\n",
      "95th percentile: 37.0\n",
      "median 10.0\n",
      "mode 0    0.0\n",
      "Name: diff_trip_length, dtype: float64\n",
      "********************\n",
      " FOR TYPOLOGY 2\n",
      "mean 13.155555555555555\n",
      "95th percentile: 38.0\n",
      "median 10.0\n",
      "mode 0    0.0\n",
      "Name: diff_trip_length, dtype: float64\n",
      "********************\n",
      " FOR TYPOLOGY 3\n",
      "mean 12.384615384615385\n",
      "95th percentile: 35.55\n",
      "median 10.0\n",
      "mode 0    0.0\n",
      "Name: diff_trip_length, dtype: float64\n",
      "********************\n",
      " FOR TYPOLOGY 4\n",
      "mean 14.794871794871796\n",
      "95th percentile: 50.60000000000001\n",
      "median 8.0\n",
      "mode 0    13.0\n",
      "Name: diff_trip_length, dtype: float64\n",
      "\\\\\\\\\\\\\\\\\\\\\\\\\\\\\\\\\\\\\\\\\\\\\\\\\\\\\\\\\\\\\\\\\\\\\\\\\\\\\\\\\\\\\\\\\\\\\\\\\\\\\\\\\\\\\\\\\\\\\\\\\\\\\\\\\\\\\\\\\\\\\\\\\\\\\\\\\\\\\\\\\\\\\\\\\\\\\\\\\\\\\\\\\\\\\\\\\\\\\\\\\\\\\\\n",
      "Interval between alighting and next boarding\n",
      "********************\n",
      " FOR TYPOLOGY 1\n",
      "mean 122.88439306358381\n",
      "95th percentile: nan\n",
      "median 16.0\n",
      "mode 0    0.0\n",
      "Name: diff_alighting_next_boarding, dtype: float64\n",
      "********************\n",
      " FOR TYPOLOGY 2\n",
      "mean 136.12017167381975\n",
      "95th percentile: nan\n",
      "median 34.0\n",
      "mode 0    0.0\n",
      "Name: diff_alighting_next_boarding, dtype: float64\n",
      "********************\n",
      " FOR TYPOLOGY 3\n",
      "mean 110.33707865168539\n",
      "95th percentile: nan\n",
      "median 19.0\n",
      "mode 0    0.0\n",
      "Name: diff_alighting_next_boarding, dtype: float64\n",
      "********************\n",
      " FOR TYPOLOGY 4\n",
      "mean 60.07692307692308\n",
      "95th percentile: nan\n",
      "median 17.5\n",
      "mode 0    1.0\n",
      "Name: diff_alighting_next_boarding, dtype: float64\n"
     ]
    },
    {
     "data": {
      "text/plain": "<Figure size 1440x720 with 4 Axes>",
      "image/png": "[encoded data removed]"
     },
     "metadata": {},
     "output_type": "display_data"
    },
    {
     "data": {
      "text/plain": "<Figure size 1440x720 with 4 Axes>",
      "image/png": "[encoded data removed]"
     },
     "metadata": {},
     "output_type": "display_data"
    },
    {
     "data": {
      "text/plain": "<Figure size 1440x720 with 4 Axes>",
      "image/png": "[encoded data removed]"
     },
     "metadata": {},
     "output_type": "display_data"
    },
    {
     "data": {
      "text/plain": "<Figure size 1440x720 with 4 Axes>",
      "image/png": "[encoded data removed]"
     },
     "metadata": {},
     "output_type": "display_data"
    },
    {
     "data": {
      "text/plain": "<Figure size 1440x720 with 4 Axes>",
      "image/png": "[encoded data removed]"
     },
     "metadata": {},
     "output_type": "display_data"
    }
   ],
   "source": [
    "\n",
    "# full_assigned_alightings.to_csv(f\"../../data/tidy/Byte-week-march-2021-inferred-boarding-alightings_for_analysis.csv\", index=False) # use to analyze the data for a week\n",
    "# full_assigned_alightings = pd.read_csv(f\"../../data/tidy/Byte-week-march-2021-inferred-boarding-alightings_for_analysis.csv\")\n",
    "\n",
    "SNS_palette = ['#f0e594','#57b884','#ffab8d','#ff6a9e'] # SNS color palette\n",
    "carnival_vintage = ['#b7ded2','#f6a6b2','#f7c297','#90d2d8'] # carnival vintage Color Palette\n",
    "\n",
    "def plot(column,data,x_label,color,binwidth,setlimit = True,xlimit =None ,ylimit = None, sharey=False,sharex = False):\n",
    "    fig, ax = plt.subplots(nrows=2, ncols=2, figsize=(20, 10), sharey=sharey,sharex = sharex)\n",
    "\n",
    "    j,x = 0,0\n",
    "\n",
    "    for i in range(4):\n",
    "        num = i+1\n",
    "        print(f'********************\\n FOR TYPOLOGY {num}')\n",
    "        typology = data[data.Typology == num]\n",
    "\n",
    "        print(f'mean {typology[column].mean()}')\n",
    "        print(f'95th percentile: {np.percentile(typology[column], 95)}')\n",
    "        print(f'median {typology[column].median()}')\n",
    "        print(f'mode {typology[column].mode()}')\n",
    "        if i == 1:\n",
    "            x = 1\n",
    "            j = 0\n",
    "        if i == 2:\n",
    "            x = 0\n",
    "            j = 1\n",
    "        if i == 3:\n",
    "            x = 1\n",
    "            j = 1\n",
    "\n",
    "        g = sns.histplot(data = typology\n",
    "                ,x = column\n",
    "                # ,color = 'navy'\n",
    "                ,alpha = 0.8\n",
    "                ,stat='percent'\n",
    "                # ,bins = 50\n",
    "                 ,binwidth = binwidth\n",
    "                 ,kde = True\n",
    "                     ,element = 'step'\n",
    "                 # ,hue = 'Typology'\n",
    "                 # , palette= 'tab10'\n",
    "                 , color=color[i],\n",
    "                 ax=ax[x][j]\n",
    "                )\n",
    "\n",
    "        if setlimit == True:\n",
    "            g.set_xlim(0, xlimit)\n",
    "            g.set_ylim(0, ylimit)\n",
    "\n",
    "        g.set_xlabel(x_label, fontsize = 20)\n",
    "        # g.set_title(title= , fontsize = 20)\n",
    "\n",
    "    return g\n",
    "\n",
    "print('\\\\\\\\\\\\\\\\\\\\\\\\\\\\\\\\\\\\\\\\\\\\\\\\\\\\\\\\\\\\\\\\\\\\\\\\\\\\\\\\\\\\\\\\\\\\\\\\\\\\\\\\\\\\\\\\\\\\\\\\\\\\\\\\\\\\\\\\\\\\\\\\\\\\\\\\\\\\\\\\\\\\\\\\\\\\\\\\\\\\\\\\\\\\\\\\\\\\\\\\\\\\\\\\\\\\\\\\\\\\\\\\\\\\\\\\\\\\\\\\\\\\\\\\\\\\\\\\\\\\\\\\\\\\\\\\\\\\\\\\\\\\\\\\\\\\\\\\\\\\\\\\\\\\\\\\\\\\\\\\\\\\\\\\\\\\\\\\\\\\\\\\\\\\\\\\\\\\\\\\\\\\\\\\\\\\\\\\\\\\\\\\\\\\\\\\\\\\\\\\\\\\\\\\\\\\\\n'\n",
    "      'Distance from boarding to alighting stop (Miles)')\n",
    "g = plot('dist_boarding_alighting',full_assigned_alightings,x_label = 'Distance from boarding to alighting stop (Miles)',color = carnival_vintage,binwidth = 0.5,setlimit = False,xlimit =0.5 ,ylimit = None)\n",
    "\n",
    "print('\\\\\\\\\\\\\\\\\\\\\\\\\\\\\\\\\\\\\\\\\\\\\\\\\\\\\\\\\\\\\\\\\\\\\\\\\\\\\\\\\\\\\\\\\\\\\\\\\\\\\\\\\\\\\\\\\\\\\\\\\\\\\\\\\\\\\\\\\\\\\\\\\\\\\\\\\\\\\\\\\\\\\\\\\\\\\\\\\\\\\\\\\\\\\\\\\\\\\\\\\\\\\\\\\\\\\\\\\\\\\\\\\\\\\\\\\\\\\\\\\\\\\\\\\\\\\\\\\\\\\\\\\\\\\\\\\\\\\\\\\\\\\\\\\\\\\\\\\\\\\\\\\\\\\\\\\\\\\\\\\\\\\\\\\\\\\\\\\\\\\\\\\\\\\\\\\\\\\\\\\\\\\\\\\\\\\\\\\\\\\\\\\\\\\\\\\\\\\\\\\\\\\\\\\\\\\\n'\n",
    "      'Distance from alighting to next boarding stop (Miles)')\n",
    "g = plot('dist_alighting_next_boarding',full_assigned_alightings,x_label = 'Distance from alighting to next boarding stop (Miles)',color = carnival_vintage,binwidth = 0.1,setlimit = False,xlimit =0.5 ,ylimit = None)\n",
    "\n",
    "print('\\\\\\\\\\\\\\\\\\\\\\\\\\\\\\\\\\\\\\\\\\\\\\\\\\\\\\\\\\\\\\\\\\\\\\\\\\\\\\\\\\\\\\\\\\\\\\\\\\\\\\\\\\\\\\\\\\\\\\\\\\\\\\\\\\\\\\\\\\\\\\\\\\\\\\\\\\\\\\\\\\\\\\\\\\\\\\\\\\\\\\\\\\\\\\\\\\\\\\\\\\\\\\\\\\\\\\\\\\\\\\\\\\\\\\\\\\\\\\\\\\\\\\\\\\\\\\\\\\\\\\\\\\\\\\\\\\\\\\\\\\\\\\\\\\\\\\\\\\\\\\\\\\\\\\\\\\\\\\\\\\\\\\\\\\\\\\\\\\\\\\\\\\\\\\\\\\\\\\\\\\\\\\\\\\\\\\\\\\\\\\\\\\\\\\\\\\\\\\\\\\\\\\\\\\\\\\n'\n",
    "      'Time between activation and bus schedule (min)')\n",
    "g = plot('diff_activation_boarding',full_assigned_alightings,x_label = 'Time between activation and bus schedule (min)',color = carnival_vintage,binwidth = 1,setlimit = False,xlimit =0.5 ,ylimit = None) # find the p95 for the negative time difference\n",
    "\n",
    "print('\\\\\\\\\\\\\\\\\\\\\\\\\\\\\\\\\\\\\\\\\\\\\\\\\\\\\\\\\\\\\\\\\\\\\\\\\\\\\\\\\\\\\\\\\\\\\\\\\\\\\\\\\\\\\\\\\\\\\\\\\\\\\\\\\\\\\\\\\\\\\\\\\\\\\\\\\\\\\\\\\\\\\\\\\\\\\\\\\\\\\\\\\\\\\\\\\\\\\\\\\\\\\\\\\\\\\\\\\\\\\\\\\\\\\\\\\\\\\\\\\\\\\\\\\\\\\\\\\\\\\\\\\\\\\\\\\\\\\\\\\\\\\\\\\\\\\\\\\\\\\\\\\\\\\\\\\\\\\\\\\\\\\\\\\\\\\\\\\\\\\\\\\\\\\\\\\\\\\\\\\\\\\\\\\\\\\\\\\\\\\\\\\\\\\\\\\\\\\\\\\\\\\\\\\\\\\\n'\n",
    "      'Trip length (min)')\n",
    "g = plot('diff_trip_length',full_assigned_alightings,x_label = 'Trip length (min)',color = carnival_vintage,binwidth = 10,setlimit = False,xlimit =0.5 ,ylimit = None)\n",
    "\n",
    "print('\\\\\\\\\\\\\\\\\\\\\\\\\\\\\\\\\\\\\\\\\\\\\\\\\\\\\\\\\\\\\\\\\\\\\\\\\\\\\\\\\\\\\\\\\\\\\\\\\\\\\\\\\\\\\\\\\\\\\\\\\\\\\\\\\\\\\\\\\\\\\\\\\\\\\\\\\\\\\\\\\\\\\\\\\\\\\\\\\\\\\\\\\\\\\\\\\\\\\\\\\\\\\\\\\\\\\\\\\\\\\\\\\\\\\\\\\\\\\\\\\\\\\\\\\\\\\\\\\\\\\\\\\\\\\\\\\\\\\\\\\\\\\\\\\\\\\\\\\\\\\\\\\\\\\\\\\\\\\\\\\\\\\\\\\\\\\\\\\\\\\\\\\\\\\\\\\\\\\\\\\\\\\\\\\\\\\\\\\\\\\\\\\\\\\\\\\\\\\\\\\\\\\\\\\\\\\\n'\n",
    "      'Interval between alighting and next boarding')\n",
    "g = plot('diff_alighting_next_boarding',full_assigned_alightings,x_label = 'Interval between alighting and next boarding',color = carnival_vintage,binwidth = 30,setlimit = False,xlimit =0.5 ,ylimit = None)"
   ],
   "metadata": {
    "collapsed": false,
    "pycharm": {
     "name": "#%%\n"
    }
   }
  },
  {
   "cell_type": "code",
   "execution_count": 46,
   "outputs": [],
   "source": [],
   "metadata": {
    "collapsed": false,
    "pycharm": {
     "name": "#%%\n"
    }
   }
  },
  {
   "cell_type": "code",
   "execution_count": 46,
   "outputs": [],
   "source": [],
   "metadata": {
    "collapsed": false,
    "pycharm": {
     "name": "#%%\n"
    }
   }
  },
  {
   "cell_type": "code",
   "execution_count": 47,
   "outputs": [
    {
     "ename": "NameError",
     "evalue": "name 'ddddssdfasf' is not defined",
     "output_type": "error",
     "traceback": [
      "\u001B[1;31m---------------------------------------------------------------------------\u001B[0m",
      "\u001B[1;31mNameError\u001B[0m                                 Traceback (most recent call last)",
      "Input \u001B[1;32mIn [47]\u001B[0m, in \u001B[0;36m<cell line: 1>\u001B[1;34m()\u001B[0m\n\u001B[1;32m----> 1\u001B[0m \u001B[43mddddssdfasf\u001B[49m\n",
      "\u001B[1;31mNameError\u001B[0m: name 'ddddssdfasf' is not defined"
     ]
    }
   ],
   "source": [
    "ddddssdfasf"
   ],
   "metadata": {
    "collapsed": false,
    "pycharm": {
     "name": "#%%\n"
    }
   }
  },
  {
   "cell_type": "markdown",
   "metadata": {
    "pycharm": {
     "name": "#%% md\n"
    }
   },
   "source": [
    "-----------------------------------------------------\n",
    "-------------------------------------------------------\n",
    "----------------------------------------------\n",
    "# End of document"
   ]
  },
  {
   "cell_type": "code",
   "execution_count": null,
   "metadata": {
    "collapsed": false,
    "jupyter": {
     "outputs_hidden": false
    },
    "pycharm": {
     "name": "#%%\n"
    }
   },
   "outputs": [],
   "source": [
    "\n",
    "#########################################################################################################"
   ]
  },
  {
   "cell_type": "markdown",
   "metadata": {
    "pycharm": {
     "name": "#%% md\n"
    }
   },
   "source": [
    "#############################################################################\n",
    "### Extract percentage of inferred boardings from those who have multiple activations in a day"
   ]
  },
  {
   "cell_type": "code",
   "execution_count": null,
   "metadata": {
    "collapsed": false,
    "jupyter": {
     "outputs_hidden": false
    },
    "pycharm": {
     "name": "#%%\n"
    }
   },
   "outputs": [],
   "source": [
    "bytemark_with_route_ids_path_boardings_routes_only = r\"../../data/tidy/Byte-March-inferred-boarding-greedy-algorithm-with-GTFS.csv\"\n",
    "bytemark_with_route_ids_path_boardings_routes_only_inferred_uninferred = r\"../../data/tidy/Byte-April-inferred-uninferred-boarding.csv\"\n",
    "def get_data(Path):\n",
    "    print('Acquiring the data')\n",
    "    # LOAD BOARDING DATA\n",
    "    Boardings_data = pd.read_csv(Path, index_col='Unnamed: 0', low_memory=False)\n",
    "    Boardings_data.Date = pd.to_datetime(Boardings_data.Date)\n",
    "    Boardings_data.Time_Scanned = pd.to_datetime(Boardings_data.Time_Scanned)\n",
    "    print('dataframe contains', len(Boardings_data),'rows')\n",
    "    return Boardings_data\n",
    "Boardings_data = get_data(bytemark_with_route_ids_path_boardings_routes_only)\n",
    "Boardings_data"
   ]
  },
  {
   "cell_type": "markdown",
   "metadata": {
    "pycharm": {
     "name": "#%% md\n"
    }
   },
   "source": [
    "### Temp\n",
    "##### Load in 11.6 to do spatial clustering on a Janury week with inferred stops in 2022"
   ]
  },
  {
   "cell_type": "code",
   "execution_count": null,
   "metadata": {
    "collapsed": false,
    "jupyter": {
     "outputs_hidden": false
    },
    "pycharm": {
     "name": "#%%\n"
    }
   },
   "outputs": [],
   "source": [
    "# extract percentage of inferred boardings from those who have multiple activations in a day\n",
    "\n",
    "def drop_one_time_activations():\n",
    "    temp_b_files = pd.DataFrame()\n",
    "    for date in bytemark_sample_used.Date.unique():\n",
    "        temp = bytemark_sample_used[bytemark_sample_used.Date == date]\n",
    "        temp = temp[temp.groupby('UUID').UUID.transform(len) > 1]\n",
    "        temp_b_files = temp_b_files.append(temp)\n",
    "    return temp_b_files\n",
    "Boardings_data_no_one_activation = drop_one_time_activations()\n",
    "Boardings_data_no_one_activation\n",
    "Boardings_data_no_one_activation.to_csv(r\"../../data/tidy/Byte-April-Boardings_data_no_one_activation.csv\", # this is for obtaining the matching rate after removing all one time data\n",
    "                                  index=True,)\n",
    "##\n",
    "#########################################################################################################"
   ]
  },
  {
   "cell_type": "markdown",
   "metadata": {
    "pycharm": {
     "name": "#%% md\n"
    }
   },
   "source": [
    "Run this data once to get the percentage (next week)\n",
    "#############################################################################"
   ]
  },
  {
   "cell_type": "markdown",
   "metadata": {
    "pycharm": {
     "name": "#%% md\n"
    }
   },
   "source": [
    "# for april\n",
    "Matching rate for boarding = 81.6% using 100 meters and 10 minutes\n",
    "93% using 200 meters and 15 minutes"
   ]
  },
  {
   "cell_type": "code",
   "execution_count": null,
   "metadata": {
    "collapsed": false,
    "jupyter": {
     "outputs_hidden": false
    },
    "pycharm": {
     "name": "#%%\n"
    }
   },
   "outputs": [],
   "source": [
    "# import plotly.express as px\n",
    "# df = px.data.gapminder().query(\"year==2007\")\n",
    "# fig = px.scatter_geo(df, locations=\"iso_alpha\", color=\"continent\",\n",
    "#                      hover_name=\"country\", size=\"pop\",\n",
    "#                      projection=\"natural earth\")\n",
    "# fig.show()"
   ]
  },
  {
   "cell_type": "code",
   "execution_count": null,
   "metadata": {
    "collapsed": false,
    "jupyter": {
     "outputs_hidden": false
    },
    "pycharm": {
     "name": "#%%\n"
    }
   },
   "outputs": [],
   "source": [
    "# df = px.data.gapminder()\n",
    "# fig = px.scatter_geo(df, locations=\"iso_alpha\", color=\"continent\",\n",
    "#                      hover_name=\"country\", size=\"pop\",\n",
    "#                      animation_frame=\"year\",\n",
    "#                      projection=\"natural earth\",\n",
    "#\n",
    "#                      width=1200,height=700)\n",
    "# fig.show()"
   ]
  },
  {
   "cell_type": "code",
   "execution_count": null,
   "metadata": {
    "collapsed": false,
    "jupyter": {
     "outputs_hidden": false
    },
    "pycharm": {
     "name": "#%%\n"
    }
   },
   "outputs": [],
   "source": [
    "# fig = px.scatter(bytemark_sample_used, x=\"Longitude\", y=\"Latitude\", color=\"Price\",width=1000,height=1000,animation_frame = 'Faretype')\n",
    "# fig.show()"
   ]
  },
  {
   "cell_type": "code",
   "execution_count": null,
   "metadata": {
    "collapsed": false,
    "jupyter": {
     "outputs_hidden": false
    },
    "pycharm": {
     "name": "#%%\n"
    }
   },
   "outputs": [],
   "source": [
    "# bytemark_sample_used\n",
    "# # get the uninferred\n",
    "# temp = BytemarkWithClosestStopAndRoutes_[BytemarkWithClosestStopAndRoutes_.StopID.isna()]\n",
    "# temp = temp[['Date','UUID','Serial','Faretype','Time_Scanned','Latitude', 'Longitude','Program']]\n",
    "# temp"
   ]
  },
  {
   "cell_type": "code",
   "execution_count": null,
   "metadata": {
    "collapsed": false,
    "jupyter": {
     "outputs_hidden": false
    },
    "pycharm": {
     "name": "#%%\n"
    }
   },
   "outputs": [],
   "source": [
    "# temp.to_csv(r\"../../data/tidy/Byte-March-May-infeasible-activations.csv\",index=True)\n",
    "# temp"
   ]
  },
  {
   "cell_type": "markdown",
   "metadata": {
    "pycharm": {
     "name": "#%% md\n"
    }
   },
   "source": [
    "# Boarding stops and their possible route IDs"
   ]
  },
  {
   "cell_type": "code",
   "execution_count": null,
   "metadata": {
    "collapsed": false,
    "jupyter": {
     "outputs_hidden": false
    },
    "pycharm": {
     "name": "#%%\n"
    }
   },
   "outputs": [],
   "source": [
    "# BytemarkWithClosestStopAndRoutes_ = load_data(r\"../../data/tidy/Byte-March-inferred-boarding-greedy-algorithm-with-GTFS.csv\")\n",
    "# BytemarkWithClosestStopAndRoutes_"
   ]
  },
  {
   "cell_type": "markdown",
   "metadata": {},
   "source": [
    "## 82% of the original file was inferred for 100 m and 10 minutes"
   ]
  },
  {
   "cell_type": "markdown",
   "metadata": {},
   "source": [
    "## Clean the data from duplicate activations within 10 minutes in the same stop (NO NEED ANYMORE?)\n",
    "\n",
    "# Boarding stops and their possible trip IDs (cleaned)"
   ]
  },
  {
   "cell_type": "code",
   "execution_count": null,
   "metadata": {
    "collapsed": false,
    "jupyter": {
     "outputs_hidden": false
    },
    "pycharm": {
     "name": "#%%\n"
    }
   },
   "outputs": [],
   "source": [
    "# def Clean_data(bytemark_sample):\n",
    "#\n",
    "#     # 1000+ iterations, and for some reason we get a Setting With Copy Warning for each one of the iterations (makes the process too slow. Also, don't want to see 1000+ warnings on every run):\n",
    "#     ## So, turn off the warning for now with:\n",
    "#     pd.set_option('mode.chained_assignment', None)\n",
    "#     ##\n",
    "#\n",
    "#     # set time buffer\n",
    "#     buffer = 10\n",
    "#\n",
    "#     # create an empty data frame to append the time differences to it\n",
    "#     df_uuid = pd.DataFrame(columns = ['time_diff'])\n",
    "#     df_uuid_stopid = pd.DataFrame(columns = ['time_diff'])\n",
    "#     # create an empty list to append the indices that will be removed later from the main data frame\n",
    "#     i = 0\n",
    "#     indices_to_remove=[]\n",
    "#     # return indices_to_remove\n",
    "#     for uuid in bytemark_sample.UUID.unique():\n",
    "#         temp = bytemark_sample[(bytemark_sample['UUID'] == uuid)]\n",
    "#         # calculate the time differences that people wait between their activations and append it\n",
    "#         temp['time_diff_uuid'] = temp.Time_Scanned.diff() # used Time_Scanned_TrueDate here because of the above code (not using the date in to infer boarding. fix later\n",
    "#         df_uuid = df_uuid.append(temp, ignore_index = True) #\n",
    "#         # return df_uuid\n",
    "#         # print('UUID:',uuid)\n",
    "#\n",
    "#         for stopid in temp.StopID.unique(): # using StopID instead of the unique ID because the whole issue with GTFS not containing the unique ones\n",
    "#             temp2 = temp[(temp['StopID'] == stopid)]\n",
    "#             temp2['time_diff_uuid_stopid'] = temp2.Time_Scanned.diff() # used Time_Scanned_TrueDate here because of the above code (not using the date in to infer boarding. fix later\n",
    "#             df_uuid_stopid = df_uuid_stopid.append(temp2, ignore_index = True) #\n",
    "#\n",
    "#             ## get indices of activations from the same uuid and the same stop that are less than n minutes apart\n",
    "#             indices = temp2.index[temp2['time_diff_uuid_stopid'] < pd.Timedelta(buffer, unit='m')].tolist()   ## Returns a list of indices of values that satisfy the comparison. you should compare either by converting your threshold using \"pd.Timedelta\" as shown, or by converting the column you want to compare to the units you need using \"df['date_diff'].dt.days\"\n",
    "#             # display(indices) # displays the list created for every uuid\n",
    "#\n",
    "#             indices_to_remove.extend(indices)\n",
    "#\n",
    "#             # print('stopid:',stopid)\n",
    "#             i = i + 1\n",
    "#             if i ==500:\n",
    "#                 return indices_to_remove\n",
    "#\n",
    "#     print('Activations from the same user and stop less than',buffer,'minutes apart = ', len(indices_to_remove), 'activations')\n",
    "#     # Display(indices_to_remove)\n",
    "#     bytemark_sample_clean = bytemark_sample.drop(indices_to_remove)\n",
    "#     # bytemark_sample_clean\n",
    "#     return bytemark_sample_clean, df_uuid , df_uuid_stopid\n",
    "\n",
    "## Normal outputs when not testing\n",
    "# BytemarkWithClosestStopAndRoutes_clean, df_uuid, df_uuid_stopid = Clean_data(BytemarkWithClosestStopAndRoutes_)\n",
    "#\n",
    "# print('the cleaning removed', (1 - (len(BytemarkWithClosestStopAndRoutes_clean)/len(BytemarkWithClosestStopAndRoutes_))) * 100,\"% of the inferred boarding locations\")\n",
    "#\n",
    "# bytemark_with_route_ids = BytemarkWithClosestStopAndRoutes_clean.copy(deep = True)\n",
    "# bytemark_with_route_ids\n",
    "#\n",
    "\n",
    "## for testing the cleaning issues:\n",
    "# BytemarkWithClosestStopAndRoutes_clean= Cle-"
   ]
  },
  {
   "cell_type": "code",
   "execution_count": null,
   "metadata": {
    "collapsed": false,
    "jupyter": {
     "outputs_hidden": false
    },
    "pycharm": {
     "name": "#%%\n"
    }
   },
   "outputs": [],
   "source": [
    "# bytemark_with_route_ids.to_csv(r\"../../data/tidy/Byte-March-inferred-boarding-greedy-algorithm-with-GTFS_cleaned.csv\",\n",
    "#                                   index=True,)"
   ]
  },
  {
   "cell_type": "code",
   "execution_count": null,
   "metadata": {
    "collapsed": false,
    "jupyter": {
     "outputs_hidden": false
    },
    "pycharm": {
     "name": "#%%\n"
    }
   },
   "outputs": [],
   "source": [
    "# bytemark_with_route_ids"
   ]
  },
  {
   "cell_type": "markdown",
   "metadata": {
    "pycharm": {
     "name": "#%% md\n"
    }
   },
   "source": [
    "\n",
    "\n",
    "# Cleaned"
   ]
  },
  {
   "cell_type": "code",
   "execution_count": null,
   "metadata": {
    "collapsed": false,
    "jupyter": {
     "outputs_hidden": false
    },
    "pycharm": {
     "name": "#%%\n"
    }
   },
   "outputs": [],
   "source": [
    "# bytemark_with_route_ids"
   ]
  },
  {
   "cell_type": "markdown",
   "metadata": {},
   "source": [
    "### 0% of preliminary boarding inference points were removed for being duplicates FOR SOME UNKNOWN REASON\n",
    "\n",
    "## Plot the distribution of peoples activation intervals in the same stops to determine the appropriate threshold for the above function"
   ]
  },
  {
   "cell_type": "code",
   "execution_count": null,
   "metadata": {
    "collapsed": false,
    "jupyter": {
     "outputs_hidden": false
    },
    "pycharm": {
     "name": "#%%\n"
    }
   },
   "outputs": [],
   "source": [
    "# df_uuid = df_uuid['time_diff_uuid']\n",
    "# df_uuid_stopid = df_uuid_stopid['time_diff_uuid_stopid']"
   ]
  },
  {
   "cell_type": "markdown",
   "metadata": {
    "pycharm": {
     "name": "#%% md\n"
    }
   },
   "source": [
    "#### The distribution of the amount of time people wait between activations in the same station (minutes)\n",
    "### After using the dates and timestamps to obtain boarding stops. The frequency of same user same stop usage dropped significantly for some reason. This makes it seem as though no cleaning (the above step) is necessary but this can't be. Investigate further."
   ]
  },
  {
   "cell_type": "code",
   "execution_count": null,
   "metadata": {
    "collapsed": false,
    "jupyter": {
     "outputs_hidden": false
    },
    "pycharm": {
     "name": "#%%\n"
    }
   },
   "outputs": [],
   "source": [
    "# display(df_uuid_stopid)\n",
    "# df_uuid_stopid.index[df_uuid_stopid['time_diff_uuid_stopid'] < pd.Timedelta(60, unit='m')].tolist()\n",
    "#"
   ]
  },
  {
   "cell_type": "code",
   "execution_count": null,
   "metadata": {
    "collapsed": false,
    "jupyter": {
     "outputs_hidden": false
    },
    "pycharm": {
     "name": "#%%\n"
    }
   },
   "outputs": [],
   "source": [
    "# # investigate the frequency here\n",
    "# # the distribution of the amount of time people wait petween activations in the same station\n",
    "# (df_uuid_stopid['time_diff_uuid_stopid'] / np.timedelta64(1, 'm')).hist(bins=range(0,120,5)) # convert the time deltas to time units (m,h,s,M, etc.) and plot it in a range from x to y in intervals of z.\n",
    "# plt.xlabel('Time between activations (min)')\n",
    "# plt.ylabel('# of activations');\n",
    "#"
   ]
  },
  {
   "cell_type": "markdown",
   "metadata": {},
   "source": [
    "#### The distribution of the amount of time people wait petween activations in the same station (hours)"
   ]
  },
  {
   "cell_type": "code",
   "execution_count": null,
   "metadata": {
    "collapsed": false,
    "jupyter": {
     "outputs_hidden": false
    },
    "pycharm": {
     "name": "#%%\n"
    }
   },
   "outputs": [],
   "source": [
    "# (df_uuid_stopid['time_diff_uuid_stopid'] / np.timedelta64(1, 'h')).hist(bins=range(1,100,1)) # convert the time deltas to time units (m,h,s,M, etc.) and plot it in a range from x to y in intervals of z.\n",
    "# plt.xlabel('Time between activations (hour)')\n",
    "# plt.ylabel('# of activations');\n",
    "#"
   ]
  },
  {
   "cell_type": "markdown",
   "metadata": {},
   "source": [
    "### From the plots, the suitable threshold for duplicate activations = 10 minutes (which was then used in the above function)"
   ]
  },
  {
   "cell_type": "markdown",
   "metadata": {},
   "source": [
    "##### Next function assigns all possible route IDs to the activation. Each in a separate column labeled (route_id_No_0, route_id_No_1, route_id_No_2, etc.) (OLD)\n",
    "##### Boarding stops and their possible route IDs (old) (not necessary anymore since routes are now assigned from the beginning)"
   ]
  },
  {
   "cell_type": "code",
   "execution_count": null,
   "metadata": {
    "collapsed": false,
    "jupyter": {
     "outputs_hidden": false
    },
    "pycharm": {
     "name": "#%%\n"
    }
   },
   "outputs": [],
   "source": [
    "# # # fixed to include all possible route IDs (up to 50 in the first example)\n",
    "# # # Stop IDs have multiple trips with multiple routes. make sure to get all possible routes of every stop ID. (fixed)\n",
    "# # def assign_route_ids(bytemark):\n",
    "# #     df = bytemark.copy(deep=True)\n",
    "# #\n",
    "# #     for index, row in df.iterrows():\n",
    "# #\n",
    "# #         # set empty data frame to populate with possible trips and routes for this user\n",
    "# #         temp = pd.DataFrame()\n",
    "# #\n",
    "# #         ## check all trip_id columns in this row (they start from 11th column index here, dont change that)\n",
    "# #         ### append them together\n",
    "# #         for i in range (bytemark_with_trip_ids.columns.get_loc(\"trip_id_No_0\"),len(bytemark_with_trip_ids.columns)):\n",
    "# #             # print(bytemark_with_trip_ids.iloc[:,i].name)\n",
    "# #             ## check each column trip id value and get the corresponding row that contains that trip ID from the 'trips' file\n",
    "# #             ### append that row to the empty temp dataframe. Repeat untill all columns are checked and we have a table of all possible trips and route IDs\n",
    "# #             temp = temp.append(trips.loc[trips['trip_id'] == row[bytemark_with_trip_ids.iloc[:,i].name]])\n",
    "# #\n",
    "# #\n",
    "# #         # the output is two or more rows since we don't use full time and date.\n",
    "# #         # assign all of the route IDs to different columns to assign all possibilities\n",
    "# #         if temp.empty:\n",
    "# #             continue\n",
    "# #         else:\n",
    "# #             #make multiple route ids here\n",
    "# #             # go through each item in temp and assign it to a new column in the main dataset. all possibilities will be included.\n",
    "# #             temp = temp.reset_index()\n",
    "# #             for index_, row_ in temp.iterrows():\n",
    "# #                 suffix = '_No_' + str(index_)\n",
    "# #                 col_name=\"route_id\"+suffix\n",
    "# #                 df.loc[index,col_name] = temp['route_id'][index_]\n",
    "# #\n",
    "# #     # print('Matched trips:',((len(df)-df.route_id.isna().sum())/ len(df))*100,'%')\n",
    "# #     return df\n",
    "# # bytemark_with_trip_route_ids = assign_route_ids(bytemark_with_trip_ids)\n",
    "# # bytemark_with_trip_route_ids\n",
    "#"
   ]
  },
  {
   "cell_type": "markdown",
   "metadata": {},
   "source": [
    "## Boarding inference is finished. 62% of the original data now have boarding stops assigned to them\n",
    "\n",
    "# Alighting inference\n",
    "\n",
    "###### flow:\n",
    "\n",
    "###### for every activation:\n",
    "\n",
    "######    Take the stop id inferred for boardings\n",
    "######    subset the route stop undummied to obtain a list of stops in the same route\n",
    "######    check the distance between them and the next boarding location\n",
    "######    assign within threshold\n",
    "\n",
    "###### for loop used to loop thorugh the required columns (use len(df before assigningthe possible trip IDs) instead of 11 for a more robust function)\n",
    "###### for i in range (11,len(bytemark_with_trip_ids.columns)):\n",
    "######    # print(bytemark_with_trip_ids.iloc[:,i].name)\n",
    "######    ## check each column trip id value and get the corresponding row that contains the route id from the 'trips' file\n",
    "######    ### append that row to the empty temp dataframe. Repeat untill all columns are checked and we have a table of all possible trips and route IDs\n",
    "######    temp = temp.append(trips.loc[trips['trip_id'] == row[bytemark_with_trip_ids.iloc[:,i].name]])\n",
    "###### display(temp)\n",
    "\n",
    "\n",
    "# Boarding stop, alighting stop, and their route\n",
    "#### use the route table again to create a route with stop table"
   ]
  },
  {
   "cell_type": "code",
   "execution_count": null,
   "metadata": {
    "collapsed": false,
    "jupyter": {
     "outputs_hidden": false
    },
    "pycharm": {
     "name": "#%%\n"
    }
   },
   "outputs": [],
   "source": [
    "# stop_routes = route_timetable_.copy(deep = True)\n",
    "# stop_routes = stop_routes[['route_id','StopID']]\n",
    "# stop_routes = stop_routes.drop_duplicates(keep='first')\n",
    "# tempstops = full_stops.copy(deep = True)\n",
    "# tempstops = tempstops[['StopID','Latitude','Longitude','StopReportLabel','UniqueStopInternalID','StopReportLabel']]\n",
    "# stop_routes = stop_routes.merge(tempstops, on = 'StopID',how='inner')\n",
    "# stop_routes"
   ]
  },
  {
   "cell_type": "code",
   "execution_count": null,
   "metadata": {
    "collapsed": false,
    "jupyter": {
     "outputs_hidden": false
    },
    "pycharm": {
     "name": "#%%\n"
    }
   },
   "outputs": [],
   "source": [
    "# bytemark_with_route_ids = load_data(r\"../../data/tidy/Byte-March-inferred-boarding-greedy-algorithm-with-GTFS_cleaned.csv\")"
   ]
  },
  {
   "cell_type": "code",
   "execution_count": null,
   "metadata": {
    "collapsed": false,
    "jupyter": {
     "outputs_hidden": false
    },
    "pycharm": {
     "name": "#%%\n"
    }
   },
   "outputs": [],
   "source": [
    "# def infer_alightings(Bytemark_,stops):\n",
    "#     stops = stops.drop_duplicates(subset=['StopID'],keep='first') # remove this line later and account for all possible routes\n",
    "#     # 1000+ iterations, and for some reason we get a Setting With Copy Warning for each one of the iterations (makes the process too slow. Also, don't want to see 1000+ warnings on every run):\\n\",\n",
    "#     ## So, turn off the warning for now with:\\n\",\n",
    "#     pd.set_option('mode.chained_assignment', None)\n",
    "#\n",
    "#     def closest_point(point, points):\n",
    "#\n",
    "#         # print(points)\n",
    "#         if points:\n",
    "#             # Find closest point from a list of points.\n",
    "#             # filter to not take anything more that a certain euclidean distance (0.001 roughly equals 100 meters)\n",
    "#             euclidean = cdist([point], points)\n",
    "#\n",
    "#\n",
    "#             euclidean_s = euclidean[np.where((euclidean > 0) & (euclidean < 0.02))] #2000 m?\n",
    "#             if euclidean_s.size:\n",
    "#                 #slight caveat. if you dont use euclidean_s as it is used above, it takes the index from the shortened list and compares it the the full list of the full_stops (fixed by using euclidean_s as a separate stipulation for making the inference)\n",
    "#\n",
    "#\n",
    "#                 #### we dont need the next code because the point being compared is the next boarding stop which might be the alighting stop no problem\n",
    "#                 # # we need the second smallest value because the point being compared is one of the stops. It will always return the same stop as the closest point as the distance is always zero\",\n",
    "#                 # euclidean = euclidean[0]\n",
    "#                 # IndexOfSecondSmallestVlues = euclidean.argsort()[:2] # argsort return the indices of the smallest or biggest values\",\n",
    "#                 # ind = IndexOfSecondSmallestVlues[1] # is the second smallest index\",\n",
    "#\n",
    "#                 # if points[euclidean.argmin()] == point: # this if statement is because some times the stop we are comparing is part of the stops we compare it with, which results in the same stop being inferred due to distance being 0 so we assign the second stop in line. And sometimes it's not part of them so we need to assign the stop with the minimum distance instead.\n",
    "#                 #     return points[ind],ind # uses index of minimum distance >0 in the list between a 'point' and 'points' to get the lon lat from 'points' list\n",
    "#                 # else:\n",
    "#                 #     return points[euclidean.argmin()], euclidean.argmin()\n",
    "#                 ####\n",
    "#\n",
    "#                 ## return two elements: the stop location, and the index of the stop location to get other stop information from the beginning (you have to reset the index of the dataframe from which these stops came from)\n",
    "#                 ### doing this will abolish the need for the (match_value) function completely (try to apply this everywhere.\n",
    "#                 return points[euclidean.argmin()], euclidean.argmin() # old\n",
    "#             else:\n",
    "#                 # return 2 items because i'm assigning two items in the code below\n",
    "#                 return 9999999,9999999 # 9999999 in the assigned stop location column means it does not meat the distance threshold requirement\n",
    "#         else:\n",
    "#             return 9999999\n",
    "#     def match_value(df, col1, x, col2):\n",
    "#         # Match value x from df1 row to value in df2.\n",
    "#         return df[df[col1] == x][col2].values[0] # finds the values of closest stop in the full_stops data and then assigns the value of the column you want (index 0 means the first value) of the resulting data frame\n",
    "#\n",
    "#     Bytemark = Bytemark_.copy(deep=True)\n",
    "#     number = len(Bytemark)\n",
    "#\n",
    "#     stops['StopLocation'] = [(x, y) for x,y in zip(stops['Latitude'], stops['Longitude'])]\n",
    "#\n",
    "#     # Create new column for inference\n",
    "#     Bytemark['Alighting_StopID'] = np.nan\n",
    "#     Bytemark['AssignedAlightingStopLonLat'] = np.nan\n",
    "#     Bytemark['Alighting_route_id'] = np.nan\n",
    "#     Bytemark['Alighting_UniqueStopInternalID'] = np.nan\n",
    "#\n",
    "#     # Pandas wont set a tuple over any other value and returns an error. It does, however, set tuples over other tuples. That's why I made the new column a list of tuples.\n",
    "#     Bytemark.AssignedAlightingStopLonLat = [(9999999,9999999)] * len(Bytemark)\n",
    "#\n",
    "#     for date in Bytemark.Date.unique():\n",
    "#         print(date)\n",
    "#         temp_ = Bytemark[(Bytemark['Date'] == date)] # subset by days\n",
    "#\n",
    "#         for uuid in temp_.UUID.unique(): # Subset by activation\n",
    "#\n",
    "#             temp = temp_[(temp_['UUID'] == uuid)]\n",
    "#\n",
    "#             if len(temp)> 1: # Check if more than one activation in a day\n",
    "#                 # PassengerFullTripID += 1\n",
    "#\n",
    "#                 ## if two consecutive stops are the same, remove the first one (validate this later (maybe its not a good choice))\n",
    "#                 temp = temp.loc[temp.StopID.shift(-1) != temp.StopID] # this solves the issue of boarding from a stop to the same stop being inferred in case the there are not only two trips in the day which are inferred to the same stop\n",
    "#                 # So the above uses boolean critieria, we compare the dataframe against the dataframe shifted by -1 rows to create the mask\n",
    "#                 # This returns the second consective value and deletes the first it encounters\n",
    "#                 # Using shift(1) will return the first instead.\n",
    "#\n",
    "#                 ### (Untested) Here is an update that will make it work with multiple columns if needed. Use \".any(axis=1)\" to combine the results from each column:\n",
    "#                 # cols = [\"col1\",\"col2\",\"col3\"]\n",
    "#                 # de_dup = a[cols].loc[(a[cols].shift(1) != a[cols]).any(axis=1)]\n",
    "#\n",
    "#\n",
    "#                 ## create a column of next boarding stops. shift all the values upwards. and then assign the last next boarding as the first boarding because each value in this column will be compared with the locations of stops on the same route later. so this one will be considered the last destination\n",
    "#                 ## StopID here is the boarding stop\n",
    "#                 temp[\"NextBoardingStop\"]= temp[\"StopID\"].shift(-1)\n",
    "#                 temp['NextBoardingStop'].iloc[-1] = np.array(temp.StopID.head(1))[0]\n",
    "#\n",
    "#\n",
    "#                 if len(temp) < 2:\n",
    "#                     temp.NextBoardingStop = np.nan\n",
    "#                     # display(temp)\n",
    "#                     continue\n",
    "#\n",
    "#                 # display(temp.StopID.iloc[0])\n",
    "#\n",
    "#                 if temp.NextBoardingStop.iloc[-1] == temp.StopID.iloc[-1]:\n",
    "#                     # display(temp)\n",
    "#                     temp.drop(temp.tail(1).index,inplace=True) # drop last row in case last activation is the same as the first (assumption: the last destination is actually the first one. But accidental activation has been done)\n",
    "#                     # display(temp)\n",
    "#\n",
    "#\n",
    "#                 # temp = temp.loc[temp.NextBoardingStop.shift(-1) != temp.NextBoardingStop]\n",
    "#\n",
    "#                 if len(temp) < 2:\n",
    "#                     # display(temp)\n",
    "#                     continue\n",
    "#\n",
    "#\n",
    "#\n",
    "#\n",
    "#                 # add stop location of each next stop location for greedy inference later\n",
    "#                 tempstops__ = stops.copy(deep = True)\n",
    "#                 tempstops__ = tempstops__ [['StopID','StopLocation']]\n",
    "#                 tempstops__.columns = ['NextBoardingStop','StopLocation']\n",
    "#\n",
    "#                 temp.NextBoardingStop = temp.NextBoardingStop.astype('int')\n",
    "#                 temp.NextBoardingStop = temp.NextBoardingStop.astype('str')\n",
    "#                 temp = temp.reset_index()\n",
    "#                 temp = temp.merge(tempstops__, on = 'NextBoardingStop') # cant add to all because some stop IDs are not in the dummies folder (Am). its working now because it was temporarily fixed by removing these stops from the inference above. (fix later) (old?)\n",
    "#                 temp = temp.set_index('index')\n",
    "#                 temp.index.name = None\n",
    "#\n",
    "#                 for index, row in temp.iterrows(): # Select next activation\n",
    "#                     ## do we need a custom passenger trip ID and full trip ID?\n",
    "#\n",
    "#                     # Take the route id inferred for this trip and subset the route stop undummied to obtain a list of stops in the same route\n",
    "#                     ## what should happen: obtain a list of all possible routes and subset by them (possibly by changing the above assign routes function to give routes for each stop seperately and avoid the multiplication of routes.)\\\n",
    "#                     ### then see which stop in which of these routes is closer to the next boarding\n",
    "#                     stops_ = pd.DataFrame()\n",
    "#                     for i in range (7,len(Bytemark_.columns)):\n",
    "#                         # return Bytemark_.iloc[:,i].name ###\n",
    "#                         ## check each column trip id value and get the corresponding row that contains the route id from the 'trips' file\n",
    "#                         ### append that row to the empty temp dataframe. Repeat untill all columns are checked and we have a table of all possible trips and route IDs\n",
    "#                         stops_ = stops_.append(stops.loc[stops['route_id'] == row[Bytemark_.iloc[:,i].name]])\n",
    "#\n",
    "#\n",
    "#                     if stops_.empty: # an empty stops file will try to be used below. Check the file to avoid an error when that happens.\n",
    "#                         continue\n",
    "#                     else:\n",
    "#                         # set the station closest to the next stop in this route\n",
    "#                         stops_ = stops_.reset_index()\n",
    "#                         stoplocation, index__ = closest_point(row['StopLocation'], list(stops_['StopLocation']))\n",
    "#\n",
    "#                         if index__ != 9999999: # if there was no inference, The value of the cell stays the same (a tuple of nines)\n",
    "#                             Bytemark['AssignedAlightingStopLonLat'][index] = stoplocation\n",
    "#                             Bytemark['Alighting_route_id'][index] = stops_.route_id[index__]\n",
    "#                             Bytemark['Alighting_StopID'][index] = stops_.StopID[index__]\n",
    "#                             Bytemark['Alighting_UniqueStopInternalID'][index] = stops_.UniqueStopInternalID[index__]\n",
    "#                         else:\n",
    "#                             continue\n",
    "#\n",
    "#                     # return Bytemark\n",
    "#\n",
    "#             else:\n",
    "#                 continue\n",
    "#     # choose the columns to keep and rename them to something more readable\n",
    "#     Bytemark = Bytemark[['UUID','Date','Faretype','Time_Scanned','StopID','AssignedAlightingStopLonLat','Alighting_StopID','Alighting_route_id','Alighting_UniqueStopInternalID']] # fix later\n",
    "#     Bytemark.columns = ['UUID','Date','Faretype','Time_Scanned','BoardingStopID','Alighting_StopLonLat','Alighting_StopID','Trip_route_id','Alighting_UniqueStopInternalID']\n",
    "#\n",
    "#\n",
    "#     return Bytemark\n",
    "#\n",
    "# BytemarkAlightings = infer_alightings(bytemark_with_route_ids,stop_routes) #Should this be full stops?\n",
    "\n",
    "# Clean from the uninferred activations\n",
    "# BytemarkAlightings_ = BytemarkAlightings[BytemarkAlightings.Alighting_StopLonLat!=(9999999, 9999999)]\n",
    "# BytemarkAlightings_.to_csv(r\"../../data/tidy/Byte-March-May-inferred-boarding-alighting-greedy-algorithm-with-GTFS.csv\",\n",
    "#                                   index=False,)\n",
    "# BytemarkAlightings_"
   ]
  },
  {
   "cell_type": "code",
   "execution_count": null,
   "metadata": {
    "collapsed": false,
    "jupyter": {
     "outputs_hidden": false
    },
    "pycharm": {
     "name": "#%%\n"
    }
   },
   "outputs": [],
   "source": [
    "# print('accuracy of alighting inference of the boarding inferred =',(len(BytemarkAlightings_)/len(bytemark_with_route_ids))*100,'%')"
   ]
  },
  {
   "cell_type": "markdown",
   "metadata": {},
   "source": [
    "## The numbers in the seed matrix DIAGONAL are produced by at least three reasons:\n",
    "### 1: when the first and last activations of the day are at the same station. The last line will have the same stop at both boarding and alighting (solved)\n",
    "### 2: a special case of the first case: when the only two times the user activates its around the same station. The duplicates are removed and one is left. which is considered the first and last activation of the day. which is a loophole in the code that assigns the first station as the last destination. Resulting in a trip to the same stop (fixed)\n",
    "### 3: ?\n",
    "\n",
    "\n",
    "###### The way the above algorithm works is by taking the possible routes of the boarding location and then checking all the stops in those routes. Then it compares all of them to the next boarding stop. So, if the next stop is in one of the boarding routes. it is going to be inferred as the alighting of the first trip no matter what the actual alighting stop was. This can't be fixed with the current data.\n",
    "\n",
    "###### The problem I wrongly aimed to solve by trying to fix the above statement (which I undid) is that some stops are inferred as the boarding and alighting at the same time ( tried to fix by the cleaning function and removing rows where the first boarding and next boarding are the same in the alighting function) (look at this again)\n",
    "\n",
    "###### Maybe the next boarding stop field is sometimes populated with the previous boarding stop in line 653 (the shift). Tried to fixusing the above methods. Not always successful (some still got through and the matching rate dropped waaay down.\n",
    "\n",
    "# Matching rate"
   ]
  },
  {
   "cell_type": "code",
   "execution_count": null,
   "metadata": {
    "collapsed": false,
    "jupyter": {
     "outputs_hidden": false
    },
    "pycharm": {
     "name": "#%%\n"
    }
   },
   "outputs": [],
   "source": [
    "# number_of_full_used_data_points = len(bytemark_sample_used)\n",
    "# original_number_of_inferred_boardings = len(BytemarkWithClosestStopAndRoutes_)\n",
    "# number_of_cleaned_inferred_boardings = len(bytemark_with_route_ids)\n",
    "# number_of_inferred_alightings = len(BytemarkAlightings_)\n",
    "# display(number_of_full_used_data_points)\n",
    "# display(original_number_of_inferred_boardings)\n",
    "# display(number_of_cleaned_inferred_boardings)\n",
    "# display(number_of_inferred_alightings)\n",
    "#"
   ]
  },
  {
   "cell_type": "code",
   "execution_count": null,
   "metadata": {
    "collapsed": false,
    "jupyter": {
     "outputs_hidden": false
    },
    "pycharm": {
     "name": "#%%\n"
    }
   },
   "outputs": [],
   "source": [
    "# print('Boarding matching rate (cleaned from false activations) from the full original data:',100*number_of_cleaned_inferred_boardings/number_of_full_used_data_points,'%\\n')\n",
    "#\n",
    "# print('Alighting matching rate from the cleaned boarding inferred data:',100*number_of_inferred_alightings/number_of_cleaned_inferred_boardings,'%')\n",
    "#"
   ]
  },
  {
   "cell_type": "code",
   "execution_count": null,
   "metadata": {
    "collapsed": false,
    "jupyter": {
     "outputs_hidden": false
    },
    "pycharm": {
     "name": "#%%\n"
    }
   },
   "outputs": [],
   "source": [
    "\n",
    "\n",
    "\n"
   ]
  },
  {
   "cell_type": "markdown",
   "metadata": {
    "pycharm": {
     "name": "#%% md\n"
    }
   },
   "source": [
    "# Appendix\n"
   ]
  },
  {
   "cell_type": "markdown",
   "metadata": {},
   "source": [
    "## Replace below code with the one above once its ready"
   ]
  },
  {
   "cell_type": "code",
   "execution_count": null,
   "metadata": {
    "collapsed": false,
    "jupyter": {
     "outputs_hidden": false
    },
    "pycharm": {
     "name": "#%%\n"
    }
   },
   "outputs": [],
   "source": [
    "# def assign_points_to_closest_stop_with_gtfs(full_stops,bytemark):\n",
    "#     full_stops = full_stops.drop_duplicates(subset=['StopID'],keep='first') # REMOVE DUPLICATE STOPS. WE ONLY NEED THEM ONCE\n",
    "#     df1 = full_stops.copy(deep=True)\n",
    "#     df2 = bytemark.copy(deep=True)\n",
    "#\n",
    "#     # set a time buffer\n",
    "#     buffer = 10\n",
    "#\n",
    "#     # use double return as in the alighting function to infer the location and the stop ID and maybe more all at once. yOU WONT NEED THE NEXT (match_value) FUNCTION.\n",
    "#     def closest_point(point, points):\n",
    "#         if points:\n",
    "#             # Find closest point from a list of points.\n",
    "#             # filter to not take anything more that a certain euclidean distance (0.001 roughly equals 100 meters)\n",
    "#             euclidean = cdist([point], points)\n",
    "#\n",
    "#             euclidean_s = euclidean[np.where(euclidean < 0.001)]\n",
    "#             if euclidean_s.size:\n",
    "#             # if True:\n",
    "#                 #slight caveat. if you dont use euclidean_s as it is used above, it takes the index from the shortened list and compares it the the full list of the full_stops (fixed by using euclidean_s as a separate stipulation for making the inference)\n",
    "#\n",
    "#                 return points[euclidean.argmin()] # uses index of minimum distance in the list between a 'point' and 'points' to get the lon lat from 'points' list\n",
    "#             else:\n",
    "#                 return 9999999 # 9999999 in the assigned stop location column means it does not meat the distance threshold requirement\n",
    "#         else:\n",
    "#             return 9999999\n",
    "#     # def match_value(df, col1, x, col2):\n",
    "#     #     # Match value x from df1 row to value in df2.\n",
    "#     #     return df[df[col1] == x][col2].values[0] # finds the values of closest stop in the full_stops data and then assigns the value of the column you want (index 0 means the first value) of the resulting data frame\n",
    "#\n",
    "#     df1['StopLocation'] = [(x, y) for x,y in zip(df1['Latitude'], df1['Longitude'])]\n",
    "#     df2['ActivationLocation'] = [(x, y) for x,y in zip(df2['Latitude'], df2['Longitude'])]\n",
    "#\n",
    "#     # Create new column for inference\n",
    "#     df2['AssignedStopLonLat'] = np.nan\n",
    "#     # Pandas wont set a tuple over any other value and returns an error. It does, however, set tuples over other tuples. That's why I made the new column a list of tuples (9999999,9999999).\n",
    "#     df2.AssignedStopLonLat = [(9999999,9999999)] * len(df2)\n",
    "#\n",
    "#     for index, row in df2.iterrows():\n",
    "#\n",
    "#         # get the lower and upper thresholds for each activation\n",
    "#         mini = df2.loc[index,'Time_Scanned'] - pd.Timedelta(minutes = buffer) ## this results in a time stamps\n",
    "#         maxi = df2.loc[index,'Time_Scanned'] + pd.Timedelta(minutes = buffer) ## time stamps\n",
    "#         timestamp = pd.to_datetime([mini])\n",
    "#         mini = timestamp.time.astype('str')[0]\n",
    "#         timestamp = pd.to_datetime([maxi])\n",
    "#         maxi = timestamp.time.astype('str')[0]\n",
    "#\n",
    "#         ## filter stop_times file to get only the stops used around the activation time\n",
    "#         temp = stop_times.copy(deep = True)\n",
    "#         temp = temp.between_time(mini,maxi)\n",
    "#         temp = list(temp['stop_id'])\n",
    "#\n",
    "#\n",
    "#\n",
    "#         # take those stop names and filter the full stops file to get those stops lon/lat\n",
    "#         temp = df1[df1['StopID'].isin(temp)] # (some stops won't show if you're using the undummied file instead of the full stops file)\n",
    "#\n",
    "#         # check the proximity of the activation to this list of stops\n",
    "#         # and assign to the stop within threshold\n",
    "#         df2['AssignedStopLonLat'][index] = closest_point(row['ActivationLocation'], list(temp['StopLocation']))\n",
    "#\n",
    "#     df1 = df1.append(pd.Series(), ignore_index=True) # add a row of nans at the end to solve the case of empty list\n",
    "#     df1['StopLocation'].iloc[-1] = 9999999 # Assign last row value to 9999999 so it is inferred instead of a real stop if the closest is more that the threshold\n",
    "#\n",
    "#     # { just to split the functions (see next function that does what was done in here)\n",
    "#     df2['StopID'] = [(9999999,9999999)] * len(df2)\n",
    "#     df2['UniqueStopInternalID'] = [(9999999,9999999)] * len(df2)\n",
    "#     ## }\n",
    "#\n",
    "#     # turn all 9999999 values to NaN\n",
    "#     df2[\"AssignedStopLonLat\"].replace({9999999: np.nan}, inplace=True)\n",
    "#\n",
    "#     return df2 #df2_clean # df2_clean\n",
    "#\n",
    "# BytemarkWithClosestStop_ = assign_points_to_closest_stop_with_gtfs(full_stops,bytemark_sample_used)\n",
    "# # print('centroids with their closest full_stops:')\n",
    "# display(BytemarkWithClosestStop_)"
   ]
  },
  {
   "cell_type": "markdown",
   "metadata": {},
   "source": [
    "### Replaced the next code with the one above (just see if anything needs to be used up there)\n",
    "\n",
    "(old)try to get stop IDs and fix the index out of bounds issue here (there was an issue that I thought splitting the above function to two would help solve it faster. The above function was too slow to perform the first part that I found it easier to first get the outcome of it, then fix the issue with the second (next) function)\n",
    "\n",
    "(Old) inference decreased from 75 to ?? because of the undummied stops (search 'Am') (the full stops file that has only the stops found in the GTFS had 75%, which means the issue is with Am's route file). Ask for updated copy."
   ]
  },
  {
   "cell_type": "code",
   "execution_count": null,
   "metadata": {
    "collapsed": false,
    "jupyter": {
     "outputs_hidden": false
    },
    "pycharm": {
     "name": "#%%\n"
    }
   },
   "outputs": [],
   "source": [
    "# start temp code"
   ]
  },
  {
   "cell_type": "code",
   "execution_count": null,
   "metadata": {
    "collapsed": false,
    "jupyter": {
     "outputs_hidden": false
    },
    "pycharm": {
     "name": "#%%\n"
    }
   },
   "outputs": [],
   "source": [
    "# full_stops"
   ]
  },
  {
   "cell_type": "code",
   "execution_count": null,
   "metadata": {
    "collapsed": false,
    "jupyter": {
     "outputs_hidden": false
    },
    "pycharm": {
     "name": "#%%\n"
    }
   },
   "outputs": [],
   "source": [
    "# # test intersection of dataframes here:\n",
    "# d = {'stop id': [15, 20,30,40,60], 'info': ['moh','x','y', 'am','med']}\n",
    "#\n",
    "# f = {'stop id': [15, 20,20,40,60,40,20], 'trip id': [1, 2,3,4,5,6,7]}\n",
    "#\n",
    "# stops = pd.DataFrame(data=d)\n",
    "# routes = pd.DataFrame(data=f)\n",
    "# display(stops)\n",
    "# display(routes)"
   ]
  },
  {
   "cell_type": "code",
   "execution_count": null,
   "metadata": {
    "collapsed": false,
    "jupyter": {
     "outputs_hidden": false
    },
    "pycharm": {
     "name": "#%%\n"
    }
   },
   "outputs": [],
   "source": [
    "# # normal merge\n",
    "# stops = pd.merge(stops, routes, how ='inner', on = 'stop id')\n",
    "#\n",
    "# stops['stop id'] = stops['stop id'].astype('str')\n",
    "# stops['trip id'] = stops['trip id'].astype('str')\n",
    "# stops"
   ]
  },
  {
   "cell_type": "code",
   "execution_count": null,
   "metadata": {
    "collapsed": false,
    "jupyter": {
     "outputs_hidden": false
    },
    "pycharm": {
     "name": "#%%\n"
    }
   },
   "outputs": [],
   "source": [
    "# # aggregate\n",
    "# df = stops.groupby('stop id').agg({'info':'first',\n",
    "#                              'trip id': ', '.join,\n",
    "#                              }).reset_index()\n",
    "# df"
   ]
  },
  {
   "cell_type": "code",
   "execution_count": null,
   "metadata": {
    "collapsed": false,
    "jupyter": {
     "outputs_hidden": false
    },
    "pycharm": {
     "name": "#%%\n"
    }
   },
   "outputs": [],
   "source": [
    "# new = df[\"trip id\"].str.split(\", \", n = 0, expand = True)\n",
    "# new"
   ]
  },
  {
   "cell_type": "code",
   "execution_count": null,
   "metadata": {
    "collapsed": false,
    "jupyter": {
     "outputs_hidden": false
    },
    "pycharm": {
     "name": "#%%\n"
    }
   },
   "outputs": [],
   "source": [
    "# # df.drop(columns =[\"trip id\"], inplace = True)\n",
    "# index_ = 0\n",
    "# for column in new:\n",
    "#\n",
    "#     suffix = '_No_' + str(index_)\n",
    "#     col_name=\"trip_id\"+suffix\n",
    "#     df[col_name] = new[index_]\n",
    "#     index_ += 1\n",
    "# df"
   ]
  },
  {
   "cell_type": "markdown",
   "metadata": {},
   "source": [
    "# end of temp code"
   ]
  },
  {
   "cell_type": "code",
   "execution_count": null,
   "metadata": {
    "collapsed": false,
    "jupyter": {
     "outputs_hidden": false
    },
    "pycharm": {
     "name": "#%%\n"
    }
   },
   "outputs": [],
   "source": [
    "# def assign_boarding_stopID(full_stops, bytemark):\n",
    "#     full_stops=full_stops.drop_duplicates(subset=['StopID'],keep='first') # remove this line later and account for all possible routes\n",
    "\n",
    "    # df1 = full_stops.copy(deep=True)\n",
    "    # df2 = bytemark.copy(deep=True)\n",
    "    # df2.dropna(subset = [\"AssignedStopLonLat\"], inplace=True)\n",
    "    # def match_value(df, col1, x, col2): # THIS IS THE ONLY PLACE LEFT WHERE THE PROBLEM CAN OCCUR (old issue). The assigned stop ID could be different than the one with the lon lat wanted.\n",
    "    #     # Match value x from df1 row to value in df2.\n",
    "    #     return df[df[col1] == x][col2].values[0] # finds the values of closest stop in the full_stops data and then assigns the value of the column you want (index 0 means the first value) of the resulting data frame\n",
    "    #\n",
    "    # df1['StopLocation'] = [(x, y) for x,y in zip(df1['Latitude'], df1['Longitude'])]\n",
    "    # df2['ActivationLocation'] = [(x, y) for x,y in zip(df2['Latitude'], df2['Longitude'])]\n",
    "\n",
    "    # df1 = df1.append(pd.Series(), ignore_index=True) # add a row of nans at the end to solve the case of empty list\n",
    "    # df1.iloc[-1, df1.columns.get_loc('StopLocation')] = 9999999\n",
    "\n",
    "    # df2['StopID'] = [match_value(df1, 'StopLocation', j, 'StopID') for j in df2['AssignedStopLonLat']]\n",
    "    # df2['UniqueStopInternalID'] = [match_value(df1, 'StopLocation', j, 'UniqueStopInternalID') for j in df2['AssignedStopLonLat']]\n",
    "    #\n",
    "    # df2['AssignedStopLatitude'], df2['AssignedStopLongitude'] = df2.AssignedStopLonLat.str\n",
    "    #\n",
    "    # df2 = df2.drop('ActivationLocation', 1)\n",
    "    # df2 = df2.drop('AssignedStopLonLat', 1)\n",
    "\n",
    "\n",
    "    # df2 = df2[['UUID','Faretype','Date','Time_Scanned','Time_Scanned2',\"Longitude\", \"Latitude\",\"AssignedStopLongitude\",'AssignedStopLatitude','StopID','UniqueStopInternalID']]\n",
    "    # df2.columns = ['UUID','Faretype','Date','Time_Scanned','Time_Scanned_TrueDate',\"Longitude\", \"Latitude\",\"AssignedStopLong\",'AssignedStopLat','StopID','UniqueStopInternalID'] #rename columns\n",
    "\n",
    "    # df2_clean = df2[df2['StopID'].notna()]\n",
    "\n",
    "#     print('Percentage of activations matched to a stop = ',(len(df2_clean)/Number_of_points)*100,'%')\n",
    "#     print ('Percentage of inferred full_stops from the full full_stops data=', (df2_clean['StopID'].nunique()/len(df1))*100,'%')\n",
    "#\n",
    "#     return df2_clean\n",
    "#\n",
    "# BytemarkWithClosestStop = assign_boarding_stopID(full_stops, BytemarkWithClosestStop_) # used full_stops instead of route_stop_undummied\n",
    "# BytemarkWithClosestStop"
   ]
  },
  {
   "cell_type": "code",
   "execution_count": null,
   "metadata": {
    "collapsed": false,
    "jupyter": {
     "outputs_hidden": false
    },
    "pycharm": {
     "name": "#%%\n"
    }
   },
   "outputs": [],
   "source": []
  },
  {
   "cell_type": "markdown",
   "metadata": {
    "pycharm": {
     "name": "#%% md\n"
    }
   },
   "source": [
    "The cleaning process slashed the activations from 16000 to almost 9000 (old issue).\n",
    "\n",
    "\n",
    "### Next function assigns all possible trip IDs to the activation. Each in a separate column labeled (trip_id_No_0, trip_id_No_1, trip_id_No_2, ...)"
   ]
  },
  {
   "cell_type": "code",
   "execution_count": null,
   "metadata": {
    "collapsed": false,
    "jupyter": {
     "outputs_hidden": false
    },
    "pycharm": {
     "name": "#%%\n"
    }
   },
   "outputs": [],
   "source": [
    "# trip IDs are now assigned directly from the first boarding code (no need for this next function anymore)\n",
    "# fixed to include all possible trip IDs (up to 50 in the first example) (old)\n",
    "# def assign_trip_ids(bytemark):\n",
    "#\n",
    "#     Bytemark = bytemark.copy(deep=True)\n",
    "#\n",
    "#     for index, row in Bytemark.iterrows():\n",
    "#\n",
    "#         mini = Bytemark.loc[index,'Time_Scanned'] - pd.Timedelta(minutes=10) ## time stamps\n",
    "#         maxi = Bytemark.loc[index,'Time_Scanned'] + pd.Timedelta(minutes=10) ## time stamps\n",
    "#         ### convert time stamps above to only time to work with 'between_time'\n",
    "#         timestamp=pd.to_datetime([mini])\n",
    "#         mini = timestamp.time.astype('str')[0]\n",
    "#         timestamp=pd.to_datetime([maxi])\n",
    "#         maxi = timestamp.time.astype('str')[0]\n",
    "#\n",
    "#         # temp = stop_times.loc[(stop_times['stop_id'] == row['UniqueStopInternalID']) & (stop_times['departure_time'] == '1900-01-01 06:17:57')]\n",
    "#         temp = stop_times.loc[stop_times['stop_id'] == row['StopID']]\n",
    "#\n",
    "#         # set as index to work with \"between_time\"\n",
    "#         # temp.set_index('departure_time',inplace=True)\n",
    "#         temp = temp.between_time(mini,maxi) #finds the departure times in temp that are between the thresholds\n",
    "#\n",
    "#         # the output is two or more rows since we don't use full time and date.\n",
    "#         # assign all of them to different columns to assign all possibilities\n",
    "#         if temp.empty:\n",
    "#             continue\n",
    "#         else:\n",
    "#             temp = temp.reset_index()\n",
    "#             for index_, row_ in temp.iterrows():\n",
    "#                 suffix = '_No_' + str(index_)\n",
    "#                 col_name=\"trip_id\"+suffix\n",
    "#                 Bytemark.loc[index,col_name] = temp['trip_id'][index_]\n",
    "#\n",
    "#     # print('Matched trips:',((len(Bytemark)-Bytemark.trip_id.isna().sum())/ len(Bytemark))*100,'%') # no trip id any more\n",
    "#\n",
    "#         # display(temp)\n",
    "#         # if i == 1:\n",
    "#         #     break\n",
    "#\n",
    "#     return Bytemark\n",
    "#\n",
    "# bytemark_with_trip_ids = assign_trip_ids(BytemarkWithClosestStop_clean)"
   ]
  },
  {
   "cell_type": "code",
   "execution_count": null,
   "metadata": {
    "collapsed": false,
    "jupyter": {
     "outputs_hidden": false
    },
    "pycharm": {
     "name": "#%%\n"
    }
   },
   "outputs": [],
   "source": []
  },
  {
   "cell_type": "code",
   "execution_count": null,
   "metadata": {
    "collapsed": false,
    "jupyter": {
     "outputs_hidden": false
    },
    "pycharm": {
     "name": "#%%\n"
    }
   },
   "outputs": [],
   "source": [
    "# testing for deletion of duplicate boarding stops in succession"
   ]
  },
  {
   "cell_type": "code",
   "execution_count": null,
   "metadata": {
    "collapsed": false,
    "jupyter": {
     "outputs_hidden": false
    },
    "pycharm": {
     "name": "#%%\n"
    }
   },
   "outputs": [],
   "source": [
    "# d = {'col1': [1, 2,2,3,4,2,4,4,5,6,6,7,6,6], 'col2': ['f', 'f','d','r','u','o','p','o','q','we','rt','yu','646','nj']}\n",
    "# df = pd.DataFrame(data=d)\n",
    "# df"
   ]
  },
  {
   "cell_type": "code",
   "execution_count": null,
   "metadata": {
    "collapsed": false,
    "jupyter": {
     "outputs_hidden": false
    },
    "pycharm": {
     "name": "#%%\n"
    }
   },
   "outputs": [],
   "source": [
    "# df = df.loc[df.col1.shift(-1) != df.col1] ## try with shift(1) to see if it returns the first\n",
    "# df"
   ]
  },
  {
   "cell_type": "code",
   "execution_count": null,
   "metadata": {
    "collapsed": false,
    "jupyter": {
     "outputs_hidden": false
    },
    "pycharm": {
     "name": "#%%\n"
    }
   },
   "outputs": [],
   "source": [
    "# testing to assign the stop with the smallest distance from boarding stop if it is not the same stop. And the second smallest if it is the same stop.\n",
    "\n",
    "# removed from the code because we are not using the boarding stop, but the next boarding stop, which can very well be the alighting location (especially if the stops opposing each other in the street have the same StopID)"
   ]
  },
  {
   "cell_type": "code",
   "execution_count": null,
   "metadata": {
    "collapsed": false,
    "jupyter": {
     "outputs_hidden": false
    },
    "pycharm": {
     "name": "#%%\n"
    }
   },
   "outputs": [],
   "source": [
    "# euclidean = np.array([100, 19, 4, 14,120])\n",
    "# euclidean\n",
    "# i = euclidean.argsort()[:2]\n",
    "# ind = i[1]\n",
    "# ind\n",
    "\n",
    "# if euclidean[euclidean.argmin()] == 3:\n",
    "#      print (euclidean[ind]) # use return with two outputs (the point and its index) in the function\n",
    "# else:\n",
    "#      print(euclidean[euclidean.argmin()])"
   ]
  },
  {
   "cell_type": "code",
   "execution_count": null,
   "metadata": {
    "collapsed": false,
    "jupyter": {
     "outputs_hidden": false
    },
    "pycharm": {
     "name": "#%%\n"
    }
   },
   "outputs": [],
   "source": [
    "# def infer_alightings(Bytemark_,stops):\n",
    "#     stops = stops.drop_duplicates(subset=['StopID'],keep='first') # remove this line later and account for all possible routes\n",
    "#     # 1000+ iterations, and for some reason we get a Setting With Copy Warning for each one of the iterations (makes the process too slow. Also, don't want to see 1000+ warnings on every run):\\n\",\n",
    "#     ## So, turn off the warning for now with:\\n\",\n",
    "#     pd.set_option('mode.chained_assignment', None)\n",
    "#\n",
    "#     def closest_point(point, points):\n",
    "#         global euclidean\n",
    "#         global temp\n",
    "#         # print(points)\n",
    "#         if points:\n",
    "#             # print('yes')\n",
    "#             # Find closest point from a list of points.\n",
    "#             # filter to not take anything more that a certain euclidean distance (0.001 roughly equals 100 meters)\n",
    "#             euclidean = cdist([point], points)\n",
    "#\n",
    "#\n",
    "#             euclidean_s = euclidean[np.where((euclidean > 0) & (euclidean < 0.02))] #2000 m?\n",
    "#             if euclidean_s.size:\n",
    "#                 #slight caveat. if you dont use euclidean_s as it is used above, it takes the index from the shortened list and compares it the the full list of the full_stops (fixed by using euclidean_s as a separate stipulation for making the inference)\n",
    "#\n",
    "#\n",
    "#                 #### we dont need the next code because the point being compared is the next boarding stop which might be the alighting stop no problem\n",
    "#                 # # we need the second smallest value because the point being compared is one of the stops. It will always return the same stop as the closest point as the distance is always zero\",\n",
    "#                 # euclidean = euclidean[0]\n",
    "#                 # IndexOfSecondSmallestVlues = euclidean.argsort()[:2] # argsort return the indices of the smallest or biggest values\",\n",
    "#                 # ind = IndexOfSecondSmallestVlues[1] # is the second smallest index\",\n",
    "#\n",
    "#                 # if points[euclidean.argmin()] == point: # this if statement is because some times the stop we are comparing is part of the stops we compare it with, which results in the same stop being inferred due to distance being 0 so we assign the second stop in line. And sometimes it's not part of them so we need to assign the stop with the minimum distance instead.\n",
    "#                 #     return points[ind],ind # uses index of minimum distance >0 in the list between a 'point' and 'points' to get the lon lat from 'points' list\n",
    "#                 # else:\n",
    "#                 #     return points[euclidean.argmin()], euclidean.argmin()\n",
    "#                 ####\n",
    "#\n",
    "#                 ## return two elements: the stop location, and the index of the stop location to get other stop information from the beginning (you have to reset the index of the dataframe from which these stops came from)\n",
    "#                 ### doing this will abolish the need for the (match_value) function completely (try to apply this everywhere.\n",
    "#                 return points[euclidean.argmin()], euclidean.argmin() # old\n",
    "#             else:\n",
    "#                 # return 2 items because i'm assigning two items in the code below\n",
    "#                 return 9999999,9999999 # 9999999 in the assigned stop location column means it does not meat the distance threshold requirement\n",
    "#         else:\n",
    "#             return 9999999\n",
    "#     def match_value(df, col1, x, col2): # THIS IS THE ONLY PLACE LEFT WHERE THE PROBLEM CAN OCCUR. The assigned stop ID could be different than the one with the lon lat wanted.\n",
    "#         # Match value x from df1 row to value in df2.\n",
    "#         return df[df[col1] == x][col2].values[0] # finds the values of closest stop in the full_stops data and then assigns the value of the column you want (index 0 means the first value) of the resulting data frame\n",
    "#\n",
    "#\n",
    "#     Bytemark = Bytemark_.copy(deep=True)\n",
    "#     number = len(Bytemark)\n",
    "#\n",
    "#     stops['StopLocation'] = [(x, y) for x,y in zip(stops['Latitude'], stops['Longitude'])]\n",
    "#     # Bytemark['ActivationLocation'] = [(x, y) for x,y in zip(Bytemark['Latitude'], Bytemark['Longitude'])]\n",
    "#\n",
    "#     # bytemark_to_use = bytemark_to_use.set_index(\\\"Time_Scanned\\\") #not needed when the data is temp\\n\",\n",
    "#\n",
    "#     # PassengerTripID = 0\n",
    "#     # PassengerFullTripID = 0\n",
    "#\n",
    "#\n",
    "#     # Bytemark[\"PassengerTripID\"]=np.nan\n",
    "#     # Bytemark[\"PassengerFullTripID\"]=np.nan\n",
    "#     # Bytemark = Bytemark[['UUID','Faretype','Date','UniqueStopInternalID','trip_id','route_id','Alighting_StopID','Time_Scanned','Time_Scanned_TrueDate','Latitude','Longitude','StopID']]\n",
    "#\n",
    "#     # Create new column for inference\n",
    "#     Bytemark['Alighting_StopID'] = np.nan\n",
    "#     Bytemark['AssignedAlightingStopLonLat'] = np.nan\n",
    "#     Bytemark['Alighting_route_id'] = np.nan\n",
    "#     Bytemark['Alighting_UniqueStopInternalID'] = np.nan\n",
    "#\n",
    "#     # Pandas wont set a tuple over any other value and returns an error. It does, however, set tuples over other tuples. That's why I made the new column a list of tuples.\n",
    "#     Bytemark.AssignedAlightingStopLonLat = [(9999999,9999999)] * len(Bytemark)\n",
    "#\n",
    "#     # return Bytemark\n",
    "#\n",
    "#     for date in Bytemark.Date.unique():\n",
    "#         temp_ = Bytemark[(Bytemark['Date'] == date)] # subset by days\n",
    "#\n",
    "#         for uuid in temp_.UUID.unique(): # Subset by activation\n",
    "#\n",
    "#             temp = temp_[(temp_['UUID'] == uuid)]\n",
    "#\n",
    "#             if len(temp)> 1: # Check if more than one activation in a day\n",
    "#                 # PassengerFullTripID += 1\n",
    "#\n",
    "#                 ## if two consecutive stops are the same, remove the first one (validate this later (maybe its not a good choice))\n",
    "#                 temp = temp.loc[temp.StopID.shift(-1) != temp.StopID] # see if this solves the issue of boarding from a stop to the same stop being inferred\n",
    "#                 # So the above uses boolean critieria, we compare the dataframe against the dataframe shifted by -1 rows to create the mask\n",
    "#                 # This returns the second consective value and deletes the first it encounters\n",
    "#                 # Using shift(1) will return the first instead.\n",
    "#\n",
    "#                 ### (Untested) Here is an update that will make it work with multiple columns. Use \".any(axis=1)\" to combine the results from each column:\n",
    "#                 # cols = [\"col1\",\"col2\",\"col3\"]\n",
    "#                 # de_dup = a[cols].loc[(a[cols].shift(1) != a[cols]).any(axis=1)]\n",
    "#\n",
    "#\n",
    "#                 ## create a column of next boarding stops. shift all the values upwards. and then assign the last next boarding as the first boarding because each value in this column will be compared with the locations of stops on the same route later. so this one will be considered the last destination\n",
    "#                 ## StopID here is the boarding stop\n",
    "#                 temp[\"NextBoardingStop\"]= temp[\"StopID\"].shift(-1)\n",
    "#                 temp['NextBoardingStop'].iloc[-1] = np.array(temp.StopID.head(1))[0]\n",
    "#                 # display(temp)\n",
    "#                 # display (np.array(temp.NextBoardingStop.tail(1))[0])\n",
    "#                 # display (np.array(temp.StopID.head(1))[0])\n",
    "#\n",
    "#                 # add stop location of each next stop location for greedy inference later\n",
    "#                 tempstops__ = stops.copy(deep = True)\n",
    "#                 tempstops__ = tempstops__ [['StopID','StopLocation']]\n",
    "#                 tempstops__.columns = ['NextBoardingStop','StopLocation']\n",
    "#                 temp.NextBoardingStop = temp.NextBoardingStop.astype('int')\n",
    "#                 temp.NextBoardingStop = temp.NextBoardingStop.astype('str')\n",
    "#                 temp = temp.reset_index()\n",
    "#                 temp = temp.merge(tempstops__, on = 'NextBoardingStop') # cant add to all because some stop IDs are not in the dummies folder (Am). its working now because it was temporarily fixed by removing these stops from the inference above. (fix later)\n",
    "#                 temp = temp.set_index('index')\n",
    "#                 temp.index.name = None\n",
    "#\n",
    "#                 # return temp\n",
    "#\n",
    "#\n",
    "#                 for index, row in temp.iterrows(): # Select next activation\n",
    "#                     # print(index)\n",
    "#                     ## do we need a custom passenger trip ID and full trip ID?\n",
    "#                 #     PassengerTripID += 1\n",
    "#                     # set the trip ID in the temp and the original data by taking the index and the column names and using loc\n",
    "#                     # temp.PassengerTripID[index] = PassengerTripID  # (not necessary, just for checking)\n",
    "#                     # Bytemark.loc[temp.index[index],'PassengerTripID'] = PassengerTripID # assign trip ID to each activation (assumes there are no remaining false activations in this cleaned dataset)\n",
    "#                     #\n",
    "#                     # temp.PassengerFullTripID[index] = PassengerFullTripID  # (not necessary, just for checking)\n",
    "#                     # Bytemark.loc[temp.index[index],'PassengerFullTripID'] = PassengerFullTripID  # # assign the same full trip ID to each activation in the day. This considers that the moment you go out and use the bus more\n",
    "#                     #                                                                 # than once, everything you do during the day is part of a full trip. Fix later.\n",
    "#\n",
    "#                     # Take the route id inferred for this trip and subset the route stop undummied to obtain a list of stops in the same route\n",
    "#                     ## what should happen: obtain a list of all possible routes and subset by them (possibly by changing the above assign routes function to give routes for each stop seperately and avoid the multiplication of routes.)\\\n",
    "#                     ### then see which stop in which of these routes is closer to the next boarding\n",
    "#                     stops_ = pd.DataFrame()\n",
    "#                     for i in range (len(bytemark_with_trip_ids.columns),len(bytemark_with_trip_route_ids.columns)):\n",
    "#                         # print(bytemark_with_trip_route_ids.iloc[:,i].name)\n",
    "#                         ## check each column trip id value and get the corresponding row that contains the route id from the 'trips' file\n",
    "#                         ### append that row to the empty temp dataframe. Repeat untill all columns are checked and we have a table of all possible trips and route IDs\n",
    "#                         stops_ = stops_.append(stops.loc[stops['route_id'] == row[bytemark_with_trip_route_ids.iloc[:,i].name]])\n",
    "#\n",
    "#\n",
    "#                     if stops_.empty: # an empty stops file will try to be used below. Check the file to avoid an error when that happens.\n",
    "#                         continue\n",
    "#                     else:\n",
    "#                         # set the station closest to the next stop in this route\n",
    "#                         stops_ = stops_.reset_index()\n",
    "#                         stoplocation, index__ = closest_point(row['StopLocation'], list(stops_['StopLocation']))\n",
    "#\n",
    "#                         if index__ != 9999999: # if there was no inference, The value of the cell stays the same (a tuple of nines)\n",
    "#                             Bytemark['AssignedAlightingStopLonLat'][index] = stoplocation\n",
    "#                             Bytemark['Alighting_route_id'][index] = stops_.route_id[index__]\n",
    "#                             Bytemark['Alighting_StopID'][index] = stops_.StopID[index__]\n",
    "#                             Bytemark['Alighting_UniqueStopInternalID'][index] = stops_.UniqueStopInternalID[index__]\n",
    "#                         else:\n",
    "#                             continue\n",
    "#\n",
    "#                     # return Bytemark\n",
    "#\n",
    "#             else:\n",
    "#                 continue\n",
    "#     # choose the columns to keep and rename them to something more readable\n",
    "#     Bytemark = Bytemark[['UUID','Date','Faretype','Time_Scanned_TrueDate','StopID','AssignedAlightingStopLonLat','Alighting_StopID','Alighting_route_id','Alighting_UniqueStopInternalID']] # fix later\n",
    "#     Bytemark.columns = ['UUID','Date','Faretype','Time_Scanned','BoardingStopID','Alighting_StopLonLat','Alighting_StopID','Alighting_route_id','Alighting_UniqueStopInternalID']\n",
    "#\n",
    "#     # Bytemark[\"Alighting_StopID\"].replace({9999999: np.nan}, inplace=True)\n",
    "#     # Bytemark = Bytemark[Bytemark.Alighting_StopID != (9999999, 9999999)]\n",
    "#     # Bytemark.dropna(subset = [\"Alighting_StopID\"], inplace=True)\n",
    "#     print('accuracy of alighting inference of the boarding inferred =',len(Bytemark)/number)\n",
    "#     return Bytemark\n",
    "#\n",
    "#\n",
    "#     ## Not necessary because the NextBoardingStop column above covers that. (check again)\n",
    "#     #                 if index < len(temp)-1:\n",
    "#     #                     temp.Alighting_StopID.iloc[index] = temp.PassengerTripID.iloc[index+1]  # Set alighting location as the location of next boarding in temp (not necessary, just for checking)\\n\",\n",
    "#     #                     Bytemark.loc[temp.index[index],'Alighting_StopID'] = temp.PassengerTripID.iloc[index+1]  # Set alighting location as the location of next boarding in original\\n\",\n",
    "#     #                 else:\n",
    "#     #                     temp.Alighting_StopID.iloc[index] = temp.PassengerTripID.iloc[0]  # Set alighting location of the last activation as the location of the first boarding in temp\\n\",\n",
    "#     #                     Bytemark.loc[temp.index[index],'Alighting_StopID'] = temp.PassengerTripID.iloc[0]  # Set alighting location of the last activation as the location of the first boarding in the original\\n\",\n",
    "#     #\n",
    "#     #\n",
    "#     #         else:\n",
    "#     #             continue\n",
    "#     #\n",
    "#     # return Bytemark\n",
    "#\n",
    "#\n",
    "# BytemarkAlightings= infer_alightings(bytemark_with_trip_route_ids,route_stop_undummied) #Should this be full stops?\n",
    "# display(BytemarkAlightings)"
   ]
  },
  {
   "cell_type": "markdown",
   "metadata": {
    "pycharm": {
     "name": "#%% md\n"
    }
   },
   "source": [
    "###### (old) After the elemination of the duplicate stops in succession (line 691 (shift)), the matching rate drops to 21%. Maybe the same stop in succession is not a false activation? or maybe these activations should have been removed from the start and then calculate the matching rate (perform cleaning using the (clean-data) function used in another notebook. I forgot that in that dataset, 25% of activations are false. and I did not clean this data set"
   ]
  },
  {
   "cell_type": "code",
   "execution_count": null,
   "metadata": {
    "collapsed": false,
    "jupyter": {
     "outputs_hidden": false
    },
    "pycharm": {
     "name": "#%%\n"
    }
   },
   "outputs": [],
   "source": []
  },
  {
   "cell_type": "markdown",
   "metadata": {},
   "source": [
    "\n",
    "###### Way to assign corresponding elements other than the closest stop location"
   ]
  },
  {
   "cell_type": "code",
   "execution_count": null,
   "metadata": {
    "collapsed": false,
    "jupyter": {
     "outputs_hidden": false
    },
    "pycharm": {
     "name": "#%%\n"
    }
   },
   "outputs": [],
   "source": [
    "# temp = pd.DataFrame((1,2,3,4),columns=['AssignedAlightingStopLonLat'])\n",
    "# def closest_point(point, points):\n",
    "#         # print(points)\n",
    "#         if points:\n",
    "#             # print('yes')\n",
    "#             # Find closest point from a list of points.\n",
    "#             # filter to not take anything more that a certain euclidean distance (0.001 roughly equals 100 meters)\n",
    "#             euclidean = cdist([point], points)\n",
    "#\n",
    "#             euclidean_s = euclidean[np.where(euclidean < 0.01)] #1000 m?\n",
    "#             if euclidean_s.size:\n",
    "#             # if True:\n",
    "#                 #slight caveat. if you dont use euclidean_s as it is used above, it takes the index from the shortened list and compares it the the full list of the full_stops (fixed by using euclidean_s as a separate stipulation for making the inference)\n",
    "#\n",
    "#                 return points[euclidean.argmin()], euclidean.argmin() # uses index of minimum distance in the list between a 'point' and 'points' to get the lon lat from 'points' list\n",
    "#             else:\n",
    "#                 return 9999999 # 9999999 in the assigned stop location column means it does not meat the distance threshold requirement\n",
    "#         else:\n",
    "#             return 9999999\n",
    "#\n",
    "# temp.AssignedAlightingStopLonLat = [(9999999,9999999)] * 4\n",
    "# temp['Alighting_route_id'] = np.nan\n",
    "# temp['Alighting_StopID'] = np.nan\n",
    "# temp['Alighting_UniqueStopInternalID'] = np.nan"
   ]
  },
  {
   "cell_type": "code",
   "execution_count": null,
   "metadata": {
    "collapsed": false,
    "jupyter": {
     "outputs_hidden": false
    },
    "pycharm": {
     "name": "#%%\n"
    }
   },
   "outputs": [],
   "source": [
    "# BytemarkAlightings=BytemarkAlightings.reset_index()\n",
    "# BytemarkAlightings\n",
    "#\n",
    "# stoplocation, index__ = closest_point((42.107426, -72.688633), list(BytemarkAlightings['StopLocation']))\n",
    "#\n",
    "# temp['AssignedAlightingStopLonLat'][0] = stoplocation\n",
    "# temp['Alighting_route_id'][0] = BytemarkAlightings.route_id[index__]\n",
    "# temp['Alighting_StopID'][0] = BytemarkAlightings.StopID[index__]\n",
    "# temp['Alighting_UniqueStopInternalID'][0] = BytemarkAlightings.UniqueStopInternalID[index__]\n",
    "#\n",
    "# temp"
   ]
  },
  {
   "cell_type": "code",
   "execution_count": null,
   "metadata": {
    "collapsed": false,
    "jupyter": {
     "outputs_hidden": false
    },
    "pycharm": {
     "name": "#%%\n"
    }
   },
   "outputs": [],
   "source": [
    "# BytemarkAlightings[BytemarkAlightings['StopLocation']==(42.107426, -72.688633)]"
   ]
  },
  {
   "cell_type": "markdown",
   "metadata": {
    "pycharm": {
     "name": "#%% md\n"
    }
   },
   "source": []
  }
 ],
 "metadata": {
  "kernelspec": {
   "display_name": "Python 3 (ipykernel)",
   "language": "python",
   "name": "python3"
  },
  "language_info": {
   "codemirror_mode": {
    "name": "ipython",
    "version": 3
   },
   "file_extension": ".py",
   "mimetype": "text/x-python",
   "name": "python",
   "nbconvert_exporter": "python",
   "pygments_lexer": "ipython3",
   "version": "3.9.12"
  },
  "widgets": {
   "application/vnd.jupyter.widget-state+json": {
    "state": {},
    "version_major": 2,
    "version_minor": 0
   }
  }
 },
 "nbformat": 4,
 "nbformat_minor": 4
}