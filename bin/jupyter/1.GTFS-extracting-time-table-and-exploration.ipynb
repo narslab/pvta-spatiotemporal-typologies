{
 "cells": [
  {
   "cell_type": "code",
   "execution_count": 2,
   "metadata": {},
   "outputs": [],
   "source": [
    "import sys\n",
    "from pathlib import Path\n",
    "import json\n",
    "import matplotlib.pyplot as plt\n",
    "import pandas as pd\n",
    "import numpy as np\n",
    "import geopandas as gp\n",
    "import matplotlib\n",
    "import geopandas as gpd\n",
    "# import osmnx as ox\n",
    "import seaborn as sns\n",
    "import gtfs_kit as gk\n",
    "%load_ext autoreload\n",
    "%autoreload 2\n",
    "%matplotlib inline\n",
    "\n",
    "# list gtfs paths\n",
    "March_May_GTFS = '../../data/raw/PVTA-GTFS/gtfs-15-march-2021.zip'\n",
    "June_August_GTFS = '../../data/raw/PVTA-GTFS/gtfs-24-june-2021.zip'\n",
    "Jan_march_GTFS='../../data/raw/PVTA-GTFS/gtfs-26-jan-2021.zip'\n",
    "Jan_2022_GTFS='../../data/raw/PVTA-GTFS/gtfs-19-jan-2022.zip'\n",
    "dec_22_2021_GTFS='../../data/raw/PVTA-GTFS/gtfs-22-dec-2021.zip'\n",
    "dec_14_2021_GTFS='../../data/raw/PVTA-GTFS/gtfs-14-dec-2021.zip'"
   ]
  },
  {
   "cell_type": "markdown",
   "source": [
    "--------\n",
    "# Settings\n",
    "## set which gtfs file is needed"
   ],
   "metadata": {
    "collapsed": false,
    "pycharm": {
     "name": "#%% md\n"
    }
   }
  },
  {
   "cell_type": "code",
   "execution_count": 3,
   "metadata": {},
   "outputs": [
    {
     "name": "stdout",
     "output_type": "stream",
     "text": [
      "../../data/raw/PVTA-GTFS/gtfs-26-jan-2021.zip\n"
     ]
    }
   ],
   "source": [
    "x = input('Which period:\\n'\n",
    "          '1: March-May\\n'\n",
    "          '2: June-July\\n'\n",
    "          \"3: Jan-March\\n\"\n",
    "          \"4: Jan-2022\\n\"\n",
    "          \"5: dec-22-2021\\n\"\n",
    "          \"6: dec-14-2021\\n\")\n",
    "if x == '1':\n",
    "    path = March_May_GTFS\n",
    "elif x == '2':\n",
    "    path = June_August_GTFS\n",
    "elif x == '3':\n",
    "    path = Jan_march_GTFS\n",
    "elif x == '4':\n",
    "    path = Jan_2022_GTFS\n",
    "elif x == '5':\n",
    "    path = dec_22_2021_GTFS\n",
    "elif x == '6':\n",
    "    path = dec_14_2021_GTFS\n",
    "print(path)"
   ]
  },
  {
   "cell_type": "markdown",
   "source": [
    "# Start program"
   ],
   "metadata": {
    "collapsed": false,
    "pycharm": {
     "name": "#%% md\n"
    }
   }
  },
  {
   "cell_type": "code",
   "execution_count": 4,
   "outputs": [
    {
     "data": {
      "text/plain": "'Chosen file discription'"
     },
     "metadata": {},
     "output_type": "display_data"
    },
    {
     "data": {
      "text/plain": "                           indicator             value\n0                           agencies            [PVTA]\n1                           timezone  America/New_York\n2                         start_date          20210122\n3                           end_date          20210320\n4                         num_routes                36\n5                          num_trips              5422\n6                          num_stops              1703\n7                         num_shapes               354\n8                        sample_date          20210128\n9   num_routes_active_on_sample_date                33\n10   num_trips_active_on_sample_date              1778\n11   num_stops_active_on_sample_date              1672",
      "text/html": "<div>\n<style scoped>\n    .dataframe tbody tr th:only-of-type {\n        vertical-align: middle;\n    }\n\n    .dataframe tbody tr th {\n        vertical-align: top;\n    }\n\n    .dataframe thead th {\n        text-align: right;\n    }\n</style>\n<table border=\"1\" class=\"dataframe\">\n  <thead>\n    <tr style=\"text-align: right;\">\n      <th></th>\n      <th>indicator</th>\n      <th>value</th>\n    </tr>\n  </thead>\n  <tbody>\n    <tr>\n      <th>0</th>\n      <td>agencies</td>\n      <td>[PVTA]</td>\n    </tr>\n    <tr>\n      <th>1</th>\n      <td>timezone</td>\n      <td>America/New_York</td>\n    </tr>\n    <tr>\n      <th>2</th>\n      <td>start_date</td>\n      <td>20210122</td>\n    </tr>\n    <tr>\n      <th>3</th>\n      <td>end_date</td>\n      <td>20210320</td>\n    </tr>\n    <tr>\n      <th>4</th>\n      <td>num_routes</td>\n      <td>36</td>\n    </tr>\n    <tr>\n      <th>5</th>\n      <td>num_trips</td>\n      <td>5422</td>\n    </tr>\n    <tr>\n      <th>6</th>\n      <td>num_stops</td>\n      <td>1703</td>\n    </tr>\n    <tr>\n      <th>7</th>\n      <td>num_shapes</td>\n      <td>354</td>\n    </tr>\n    <tr>\n      <th>8</th>\n      <td>sample_date</td>\n      <td>20210128</td>\n    </tr>\n    <tr>\n      <th>9</th>\n      <td>num_routes_active_on_sample_date</td>\n      <td>33</td>\n    </tr>\n    <tr>\n      <th>10</th>\n      <td>num_trips_active_on_sample_date</td>\n      <td>1778</td>\n    </tr>\n    <tr>\n      <th>11</th>\n      <td>num_stops_active_on_sample_date</td>\n      <td>1672</td>\n    </tr>\n  </tbody>\n</table>\n</div>"
     },
     "metadata": {},
     "output_type": "display_data"
    },
    {
     "data": {
      "text/plain": "'Chosen file validation'"
     },
     "metadata": {},
     "output_type": "display_data"
    },
    {
     "data": {
      "text/plain": "      type       message                    table rows\n0  warning  Feed expired  calendar/calendar_dates   []",
      "text/html": "<div>\n<style scoped>\n    .dataframe tbody tr th:only-of-type {\n        vertical-align: middle;\n    }\n\n    .dataframe tbody tr th {\n        vertical-align: top;\n    }\n\n    .dataframe thead th {\n        text-align: right;\n    }\n</style>\n<table border=\"1\" class=\"dataframe\">\n  <thead>\n    <tr style=\"text-align: right;\">\n      <th></th>\n      <th>type</th>\n      <th>message</th>\n      <th>table</th>\n      <th>rows</th>\n    </tr>\n  </thead>\n  <tbody>\n    <tr>\n      <th>0</th>\n      <td>warning</td>\n      <td>Feed expired</td>\n      <td>calendar/calendar_dates</td>\n      <td>[]</td>\n    </tr>\n  </tbody>\n</table>\n</div>"
     },
     "metadata": {},
     "output_type": "display_data"
    }
   ],
   "source": [
    "# General information\n",
    "# List feed\n",
    "# gk.list_feed(path)\n",
    "feed = gk.read_feed(path, dist_units='km')\n",
    "display('Chosen file discription',feed.describe())\n",
    "# Validate\n",
    "display('Chosen file validation',feed.validate())\n",
    "\n",
    "# Append shape_dist_traveled column to stop times\n",
    "# display(feed.stop_times.head().T.T)\n",
    "#\n",
    "# feed = feed.append_dist_to_stop_times()\n",
    "# feed.stop_times.head().T.T"
   ],
   "metadata": {
    "collapsed": false,
    "pycharm": {
     "name": "#%%\n"
    }
   }
  },
  {
   "cell_type": "markdown",
   "source": [
    "*************************\n",
    "# Build a route timetable and save it to be used in script 1"
   ],
   "metadata": {
    "collapsed": false
   }
  },
  {
   "cell_type": "markdown",
   "source": [
    "# Use parquet to save and load these\n"
   ],
   "metadata": {
    "collapsed": false
   }
  },
  {
   "cell_type": "code",
   "execution_count": 5,
   "outputs": [
    {
     "name": "stderr",
     "output_type": "stream",
     "text": [
      "C:\\Users\\mazee\\AppData\\Local\\Temp\\ipykernel_20148\\2731941876.py:18: FutureWarning: The frame.append method is deprecated and will be removed from pandas in a future version. Use pandas.concat instead.\n",
      "  route_timetable = route_timetable.append(route_timetable_)\n",
      "C:\\Users\\mazee\\AppData\\Local\\Temp\\ipykernel_20148\\2731941876.py:18: FutureWarning: The frame.append method is deprecated and will be removed from pandas in a future version. Use pandas.concat instead.\n",
      "  route_timetable = route_timetable.append(route_timetable_)\n",
      "C:\\Users\\mazee\\AppData\\Local\\Temp\\ipykernel_20148\\2731941876.py:18: FutureWarning: The frame.append method is deprecated and will be removed from pandas in a future version. Use pandas.concat instead.\n",
      "  route_timetable = route_timetable.append(route_timetable_)\n",
      "C:\\Users\\mazee\\AppData\\Local\\Temp\\ipykernel_20148\\2731941876.py:18: FutureWarning: The frame.append method is deprecated and will be removed from pandas in a future version. Use pandas.concat instead.\n",
      "  route_timetable = route_timetable.append(route_timetable_)\n",
      "C:\\Users\\mazee\\AppData\\Local\\Temp\\ipykernel_20148\\2731941876.py:18: FutureWarning: The frame.append method is deprecated and will be removed from pandas in a future version. Use pandas.concat instead.\n",
      "  route_timetable = route_timetable.append(route_timetable_)\n",
      "C:\\Users\\mazee\\AppData\\Local\\Temp\\ipykernel_20148\\2731941876.py:18: FutureWarning: The frame.append method is deprecated and will be removed from pandas in a future version. Use pandas.concat instead.\n",
      "  route_timetable = route_timetable.append(route_timetable_)\n",
      "C:\\Users\\mazee\\AppData\\Local\\Temp\\ipykernel_20148\\2731941876.py:18: FutureWarning: The frame.append method is deprecated and will be removed from pandas in a future version. Use pandas.concat instead.\n",
      "  route_timetable = route_timetable.append(route_timetable_)\n",
      "C:\\Users\\mazee\\AppData\\Local\\Temp\\ipykernel_20148\\2731941876.py:18: FutureWarning: The frame.append method is deprecated and will be removed from pandas in a future version. Use pandas.concat instead.\n",
      "  route_timetable = route_timetable.append(route_timetable_)\n",
      "C:\\Users\\mazee\\AppData\\Local\\Temp\\ipykernel_20148\\2731941876.py:18: FutureWarning: The frame.append method is deprecated and will be removed from pandas in a future version. Use pandas.concat instead.\n",
      "  route_timetable = route_timetable.append(route_timetable_)\n",
      "C:\\Users\\mazee\\AppData\\Local\\Temp\\ipykernel_20148\\2731941876.py:18: FutureWarning: The frame.append method is deprecated and will be removed from pandas in a future version. Use pandas.concat instead.\n",
      "  route_timetable = route_timetable.append(route_timetable_)\n",
      "C:\\Users\\mazee\\AppData\\Local\\Temp\\ipykernel_20148\\2731941876.py:18: FutureWarning: The frame.append method is deprecated and will be removed from pandas in a future version. Use pandas.concat instead.\n",
      "  route_timetable = route_timetable.append(route_timetable_)\n",
      "C:\\Users\\mazee\\AppData\\Local\\Temp\\ipykernel_20148\\2731941876.py:18: FutureWarning: The frame.append method is deprecated and will be removed from pandas in a future version. Use pandas.concat instead.\n",
      "  route_timetable = route_timetable.append(route_timetable_)\n",
      "C:\\Users\\mazee\\AppData\\Local\\Temp\\ipykernel_20148\\2731941876.py:18: FutureWarning: The frame.append method is deprecated and will be removed from pandas in a future version. Use pandas.concat instead.\n",
      "  route_timetable = route_timetable.append(route_timetable_)\n",
      "C:\\Users\\mazee\\AppData\\Local\\Temp\\ipykernel_20148\\2731941876.py:18: FutureWarning: The frame.append method is deprecated and will be removed from pandas in a future version. Use pandas.concat instead.\n",
      "  route_timetable = route_timetable.append(route_timetable_)\n",
      "C:\\Users\\mazee\\AppData\\Local\\Temp\\ipykernel_20148\\2731941876.py:18: FutureWarning: The frame.append method is deprecated and will be removed from pandas in a future version. Use pandas.concat instead.\n",
      "  route_timetable = route_timetable.append(route_timetable_)\n",
      "C:\\Users\\mazee\\AppData\\Local\\Temp\\ipykernel_20148\\2731941876.py:18: FutureWarning: The frame.append method is deprecated and will be removed from pandas in a future version. Use pandas.concat instead.\n",
      "  route_timetable = route_timetable.append(route_timetable_)\n",
      "C:\\Users\\mazee\\AppData\\Local\\Temp\\ipykernel_20148\\2731941876.py:18: FutureWarning: The frame.append method is deprecated and will be removed from pandas in a future version. Use pandas.concat instead.\n",
      "  route_timetable = route_timetable.append(route_timetable_)\n",
      "C:\\Users\\mazee\\AppData\\Local\\Temp\\ipykernel_20148\\2731941876.py:18: FutureWarning: The frame.append method is deprecated and will be removed from pandas in a future version. Use pandas.concat instead.\n",
      "  route_timetable = route_timetable.append(route_timetable_)\n",
      "C:\\Users\\mazee\\AppData\\Local\\Temp\\ipykernel_20148\\2731941876.py:18: FutureWarning: The frame.append method is deprecated and will be removed from pandas in a future version. Use pandas.concat instead.\n",
      "  route_timetable = route_timetable.append(route_timetable_)\n",
      "C:\\Users\\mazee\\AppData\\Local\\Temp\\ipykernel_20148\\2731941876.py:18: FutureWarning: The frame.append method is deprecated and will be removed from pandas in a future version. Use pandas.concat instead.\n",
      "  route_timetable = route_timetable.append(route_timetable_)\n",
      "C:\\Users\\mazee\\AppData\\Local\\Temp\\ipykernel_20148\\2731941876.py:18: FutureWarning: The frame.append method is deprecated and will be removed from pandas in a future version. Use pandas.concat instead.\n",
      "  route_timetable = route_timetable.append(route_timetable_)\n",
      "C:\\Users\\mazee\\AppData\\Local\\Temp\\ipykernel_20148\\2731941876.py:18: FutureWarning: The frame.append method is deprecated and will be removed from pandas in a future version. Use pandas.concat instead.\n",
      "  route_timetable = route_timetable.append(route_timetable_)\n",
      "C:\\Users\\mazee\\AppData\\Local\\Temp\\ipykernel_20148\\2731941876.py:18: FutureWarning: The frame.append method is deprecated and will be removed from pandas in a future version. Use pandas.concat instead.\n",
      "  route_timetable = route_timetable.append(route_timetable_)\n",
      "C:\\Users\\mazee\\AppData\\Local\\Temp\\ipykernel_20148\\2731941876.py:18: FutureWarning: The frame.append method is deprecated and will be removed from pandas in a future version. Use pandas.concat instead.\n",
      "  route_timetable = route_timetable.append(route_timetable_)\n",
      "C:\\Users\\mazee\\AppData\\Local\\Temp\\ipykernel_20148\\2731941876.py:18: FutureWarning: The frame.append method is deprecated and will be removed from pandas in a future version. Use pandas.concat instead.\n",
      "  route_timetable = route_timetable.append(route_timetable_)\n",
      "C:\\Users\\mazee\\AppData\\Local\\Temp\\ipykernel_20148\\2731941876.py:18: FutureWarning: The frame.append method is deprecated and will be removed from pandas in a future version. Use pandas.concat instead.\n",
      "  route_timetable = route_timetable.append(route_timetable_)\n",
      "C:\\Users\\mazee\\AppData\\Local\\Temp\\ipykernel_20148\\2731941876.py:18: FutureWarning: The frame.append method is deprecated and will be removed from pandas in a future version. Use pandas.concat instead.\n",
      "  route_timetable = route_timetable.append(route_timetable_)\n",
      "C:\\Users\\mazee\\AppData\\Local\\Temp\\ipykernel_20148\\2731941876.py:18: FutureWarning: The frame.append method is deprecated and will be removed from pandas in a future version. Use pandas.concat instead.\n",
      "  route_timetable = route_timetable.append(route_timetable_)\n",
      "C:\\Users\\mazee\\AppData\\Local\\Temp\\ipykernel_20148\\2731941876.py:18: FutureWarning: The frame.append method is deprecated and will be removed from pandas in a future version. Use pandas.concat instead.\n",
      "  route_timetable = route_timetable.append(route_timetable_)\n",
      "C:\\Users\\mazee\\AppData\\Local\\Temp\\ipykernel_20148\\2731941876.py:18: FutureWarning: The frame.append method is deprecated and will be removed from pandas in a future version. Use pandas.concat instead.\n",
      "  route_timetable = route_timetable.append(route_timetable_)\n",
      "C:\\Users\\mazee\\AppData\\Local\\Temp\\ipykernel_20148\\2731941876.py:18: FutureWarning: The frame.append method is deprecated and will be removed from pandas in a future version. Use pandas.concat instead.\n",
      "  route_timetable = route_timetable.append(route_timetable_)\n",
      "C:\\Users\\mazee\\AppData\\Local\\Temp\\ipykernel_20148\\2731941876.py:18: FutureWarning: The frame.append method is deprecated and will be removed from pandas in a future version. Use pandas.concat instead.\n",
      "  route_timetable = route_timetable.append(route_timetable_)\n",
      "C:\\Users\\mazee\\AppData\\Local\\Temp\\ipykernel_20148\\2731941876.py:18: FutureWarning: The frame.append method is deprecated and will be removed from pandas in a future version. Use pandas.concat instead.\n",
      "  route_timetable = route_timetable.append(route_timetable_)\n",
      "C:\\Users\\mazee\\AppData\\Local\\Temp\\ipykernel_20148\\2731941876.py:18: FutureWarning: The frame.append method is deprecated and will be removed from pandas in a future version. Use pandas.concat instead.\n",
      "  route_timetable = route_timetable.append(route_timetable_)\n",
      "C:\\Users\\mazee\\AppData\\Local\\Temp\\ipykernel_20148\\2731941876.py:18: FutureWarning: The frame.append method is deprecated and will be removed from pandas in a future version. Use pandas.concat instead.\n",
      "  route_timetable = route_timetable.append(route_timetable_)\n",
      "C:\\Users\\mazee\\AppData\\Local\\Temp\\ipykernel_20148\\2731941876.py:18: FutureWarning: The frame.append method is deprecated and will be removed from pandas in a future version. Use pandas.concat instead.\n",
      "  route_timetable = route_timetable.append(route_timetable_)\n"
     ]
    },
    {
     "data": {
      "text/plain": "       route_id                         trip_id  \\\n117983       30  3411651-UM2021-UMTS-Weekday-40   \n118963       30  3411702-UM2021-UMTS-Weekday-40   \n117984       30  3411651-UM2021-UMTS-Weekday-40   \n118964       30  3411702-UM2021-UMTS-Weekday-40   \n117985       30  3411651-UM2021-UMTS-Weekday-40   \n...         ...                             ...   \n78807       X92   3424756-S2012-AMD-Saturday-50   \n78808       X92   3424756-S2012-AMD-Saturday-50   \n78809       X92   3424756-S2012-AMD-Saturday-50   \n78810       X92   3424756-S2012-AMD-Saturday-50   \n78811       X92   3424756-S2012-AMD-Saturday-50   \n\n                                 trip_headsign arrival_time departure_time  \\\n117983                   Old Belchertown Road      07:15:00       07:15:00   \n118963                          North Amherst      07:15:00       07:15:00   \n117984                   Old Belchertown Road      07:15:41       07:15:41   \n118964                          North Amherst      07:15:32       07:15:32   \n117985                   Old Belchertown Road      07:16:38       07:16:38   \n...                                        ...          ...            ...   \n78807   Memorial Industrial Park via Roosevelt     17:44:24       17:44:24   \n78808   Memorial Industrial Park via Roosevelt     17:44:56       17:44:56   \n78809   Memorial Industrial Park via Roosevelt     17:45:32       17:45:32   \n78810   Memorial Industrial Park via Roosevelt     17:45:57       17:45:57   \n78811   Memorial Industrial Park via Roosevelt     17:48:00       17:48:00   \n\n       stop_id       date  \n117983      34 2021-01-22  \n118963     148 2021-01-22  \n117984      35 2021-01-22  \n118964    8002 2021-01-22  \n117985      38 2021-01-22  \n...        ...        ...  \n78807      774 2021-03-20  \n78808      778 2021-03-20  \n78809      795 2021-03-20  \n78810      803 2021-03-20  \n78811      850 2021-03-20  \n\n[2860753 rows x 7 columns]",
      "text/html": "<div>\n<style scoped>\n    .dataframe tbody tr th:only-of-type {\n        vertical-align: middle;\n    }\n\n    .dataframe tbody tr th {\n        vertical-align: top;\n    }\n\n    .dataframe thead th {\n        text-align: right;\n    }\n</style>\n<table border=\"1\" class=\"dataframe\">\n  <thead>\n    <tr style=\"text-align: right;\">\n      <th></th>\n      <th>route_id</th>\n      <th>trip_id</th>\n      <th>trip_headsign</th>\n      <th>arrival_time</th>\n      <th>departure_time</th>\n      <th>stop_id</th>\n      <th>date</th>\n    </tr>\n  </thead>\n  <tbody>\n    <tr>\n      <th>117983</th>\n      <td>30</td>\n      <td>3411651-UM2021-UMTS-Weekday-40</td>\n      <td>Old Belchertown Road</td>\n      <td>07:15:00</td>\n      <td>07:15:00</td>\n      <td>34</td>\n      <td>2021-01-22</td>\n    </tr>\n    <tr>\n      <th>118963</th>\n      <td>30</td>\n      <td>3411702-UM2021-UMTS-Weekday-40</td>\n      <td>North Amherst</td>\n      <td>07:15:00</td>\n      <td>07:15:00</td>\n      <td>148</td>\n      <td>2021-01-22</td>\n    </tr>\n    <tr>\n      <th>117984</th>\n      <td>30</td>\n      <td>3411651-UM2021-UMTS-Weekday-40</td>\n      <td>Old Belchertown Road</td>\n      <td>07:15:41</td>\n      <td>07:15:41</td>\n      <td>35</td>\n      <td>2021-01-22</td>\n    </tr>\n    <tr>\n      <th>118964</th>\n      <td>30</td>\n      <td>3411702-UM2021-UMTS-Weekday-40</td>\n      <td>North Amherst</td>\n      <td>07:15:32</td>\n      <td>07:15:32</td>\n      <td>8002</td>\n      <td>2021-01-22</td>\n    </tr>\n    <tr>\n      <th>117985</th>\n      <td>30</td>\n      <td>3411651-UM2021-UMTS-Weekday-40</td>\n      <td>Old Belchertown Road</td>\n      <td>07:16:38</td>\n      <td>07:16:38</td>\n      <td>38</td>\n      <td>2021-01-22</td>\n    </tr>\n    <tr>\n      <th>...</th>\n      <td>...</td>\n      <td>...</td>\n      <td>...</td>\n      <td>...</td>\n      <td>...</td>\n      <td>...</td>\n      <td>...</td>\n    </tr>\n    <tr>\n      <th>78807</th>\n      <td>X92</td>\n      <td>3424756-S2012-AMD-Saturday-50</td>\n      <td>Memorial Industrial Park via Roosevelt</td>\n      <td>17:44:24</td>\n      <td>17:44:24</td>\n      <td>774</td>\n      <td>2021-03-20</td>\n    </tr>\n    <tr>\n      <th>78808</th>\n      <td>X92</td>\n      <td>3424756-S2012-AMD-Saturday-50</td>\n      <td>Memorial Industrial Park via Roosevelt</td>\n      <td>17:44:56</td>\n      <td>17:44:56</td>\n      <td>778</td>\n      <td>2021-03-20</td>\n    </tr>\n    <tr>\n      <th>78809</th>\n      <td>X92</td>\n      <td>3424756-S2012-AMD-Saturday-50</td>\n      <td>Memorial Industrial Park via Roosevelt</td>\n      <td>17:45:32</td>\n      <td>17:45:32</td>\n      <td>795</td>\n      <td>2021-03-20</td>\n    </tr>\n    <tr>\n      <th>78810</th>\n      <td>X92</td>\n      <td>3424756-S2012-AMD-Saturday-50</td>\n      <td>Memorial Industrial Park via Roosevelt</td>\n      <td>17:45:57</td>\n      <td>17:45:57</td>\n      <td>803</td>\n      <td>2021-03-20</td>\n    </tr>\n    <tr>\n      <th>78811</th>\n      <td>X92</td>\n      <td>3424756-S2012-AMD-Saturday-50</td>\n      <td>Memorial Industrial Park via Roosevelt</td>\n      <td>17:48:00</td>\n      <td>17:48:00</td>\n      <td>850</td>\n      <td>2021-03-20</td>\n    </tr>\n  </tbody>\n</table>\n<p>2860753 rows × 7 columns</p>\n</div>"
     },
     "execution_count": 5,
     "metadata": {},
     "output_type": "execute_result"
    }
   ],
   "source": [
    "# Choose study dates\n",
    "# week = feed.get_first_week()\n",
    "dates = feed.get_dates() # get a list of dates for which this GTFS is valid\n",
    "# dates\n",
    "\n",
    "## For single route\n",
    "# route_id = feed.routes['route_id'].iat[0] # only one route can be displayed\n",
    "# route_id\n",
    "# feed.build_route_timetable(route_id, dates)#.T # reformat date to date_time. Then you have time, date, and trip and route ID in the same table\n",
    "\n",
    "## For all routes\n",
    "# Iterate over all routes and append these together\n",
    "\n",
    "route_timetable = pd.DataFrame()\n",
    "\n",
    "for route_id in feed.routes['route_id'].unique():\n",
    "    route_timetable_ = feed.build_route_timetable(route_id, dates)\n",
    "    route_timetable = route_timetable.append(route_timetable_)\n",
    "\n",
    "route_timetable = route_timetable.drop(columns = ['shape_dist_traveled','drop_off_type','pickup_type','stop_sequence','direction_id','block_id','shape_id','service_id'])\n",
    "\n",
    "route_timetable['date'] = route_timetable['date'].astype('int64')\n",
    "route_timetable['date'] = pd.to_datetime(route_timetable['date'],format = '%Y%m%d')\n",
    "\n",
    "\n",
    "\n",
    "if path == March_May_GTFS:\n",
    "    route_timetable.to_csv(r\"../../data/raw/PVTA-GTFS/route_timetable_March_May.csv\",index=False)\n",
    "if path == June_August_GTFS:\n",
    "    route_timetable.to_csv(r\"../../data/raw/PVTA-GTFS/route_timetable_June_August.csv\",index=False)\n",
    "\n",
    "if path == Jan_march_GTFS:\n",
    "    route_timetable.to_csv(r\"../../data/raw/PVTA-GTFS/route_timetable_Jan_March.csv\",index=False)\n",
    "\n",
    "if path == Jan_2022_GTFS:\n",
    "    route_timetable.to_csv(r\"../../data/raw/PVTA-GTFS/route_timetable_Jan_2022.csv\",index=False)\n",
    "if path == dec_22_2021_GTFS:\n",
    "    route_timetable.to_csv(r\"../../data/raw/PVTA-GTFS/route_timetable_dec_22_2021.csv\",index=False)\n",
    "\n",
    "if path == dec_14_2021_GTFS:\n",
    "    route_timetable.to_csv(r\"../../data/raw/PVTA-GTFS/route_timetable_dec_14_2021.csv\",index=False)\n",
    "\n",
    "# route_timetable = pd.read_csv(r\"../../data/raw/PVTA-GTFS/route_timetable_dec_2021.csv\",low_memory=False)\n",
    "route_timetable # All routes from the whole gtfs duration"
   ],
   "metadata": {
    "collapsed": false,
    "pycharm": {
     "name": "#%%\n"
    }
   }
  },
  {
   "cell_type": "markdown",
   "source": [
    "## combine timetables (goal is to get all of them in one file)"
   ],
   "metadata": {
    "collapsed": false,
    "pycharm": {
     "name": "#%% md\n"
    }
   }
  },
  {
   "cell_type": "code",
   "execution_count": 6,
   "outputs": [
    {
     "ename": "FileNotFoundError",
     "evalue": "[Errno 2] No such file or directory: '../../data/raw/PVTA-GTFS/route_timetable_Jan_2022.csv'",
     "output_type": "error",
     "traceback": [
      "\u001B[1;31m---------------------------------------------------------------------------\u001B[0m",
      "\u001B[1;31mFileNotFoundError\u001B[0m                         Traceback (most recent call last)",
      "\u001B[1;32m~\\AppData\\Local\\Temp/ipykernel_24096/1185539023.py\u001B[0m in \u001B[0;36m<module>\u001B[1;34m\u001B[0m\n\u001B[0;32m      1\u001B[0m \u001B[0mroute_timetable_1\u001B[0m \u001B[1;33m=\u001B[0m \u001B[0mpd\u001B[0m\u001B[1;33m.\u001B[0m\u001B[0mread_csv\u001B[0m\u001B[1;33m(\u001B[0m\u001B[1;34mr\"../../data/raw/PVTA-GTFS/route_timetable_dec_2021.csv\"\u001B[0m\u001B[1;33m,\u001B[0m\u001B[0mlow_memory\u001B[0m\u001B[1;33m=\u001B[0m\u001B[1;32mFalse\u001B[0m\u001B[1;33m)\u001B[0m\u001B[1;33m\u001B[0m\u001B[1;33m\u001B[0m\u001B[0m\n\u001B[1;32m----> 2\u001B[1;33m \u001B[0mroute_timetable_2\u001B[0m \u001B[1;33m=\u001B[0m \u001B[0mpd\u001B[0m\u001B[1;33m.\u001B[0m\u001B[0mread_csv\u001B[0m\u001B[1;33m(\u001B[0m\u001B[1;34mr\"../../data/raw/PVTA-GTFS/route_timetable_Jan_2022.csv\"\u001B[0m\u001B[1;33m,\u001B[0m\u001B[0mlow_memory\u001B[0m\u001B[1;33m=\u001B[0m\u001B[1;32mFalse\u001B[0m\u001B[1;33m)\u001B[0m\u001B[1;33m\u001B[0m\u001B[1;33m\u001B[0m\u001B[0m\n\u001B[0m\u001B[0;32m      3\u001B[0m \u001B[1;33m\u001B[0m\u001B[0m\n",
      "\u001B[1;32m~\\miniconda3\\envs\\ox\\lib\\site-packages\\pandas\\util\\_decorators.py\u001B[0m in \u001B[0;36mwrapper\u001B[1;34m(*args, **kwargs)\u001B[0m\n\u001B[0;32m    309\u001B[0m                     \u001B[0mstacklevel\u001B[0m\u001B[1;33m=\u001B[0m\u001B[0mstacklevel\u001B[0m\u001B[1;33m,\u001B[0m\u001B[1;33m\u001B[0m\u001B[1;33m\u001B[0m\u001B[0m\n\u001B[0;32m    310\u001B[0m                 )\n\u001B[1;32m--> 311\u001B[1;33m             \u001B[1;32mreturn\u001B[0m \u001B[0mfunc\u001B[0m\u001B[1;33m(\u001B[0m\u001B[1;33m*\u001B[0m\u001B[0margs\u001B[0m\u001B[1;33m,\u001B[0m \u001B[1;33m**\u001B[0m\u001B[0mkwargs\u001B[0m\u001B[1;33m)\u001B[0m\u001B[1;33m\u001B[0m\u001B[1;33m\u001B[0m\u001B[0m\n\u001B[0m\u001B[0;32m    312\u001B[0m \u001B[1;33m\u001B[0m\u001B[0m\n\u001B[0;32m    313\u001B[0m         \u001B[1;32mreturn\u001B[0m \u001B[0mwrapper\u001B[0m\u001B[1;33m\u001B[0m\u001B[1;33m\u001B[0m\u001B[0m\n",
      "\u001B[1;32m~\\miniconda3\\envs\\ox\\lib\\site-packages\\pandas\\io\\parsers\\readers.py\u001B[0m in \u001B[0;36mread_csv\u001B[1;34m(filepath_or_buffer, sep, delimiter, header, names, index_col, usecols, squeeze, prefix, mangle_dupe_cols, dtype, engine, converters, true_values, false_values, skipinitialspace, skiprows, skipfooter, nrows, na_values, keep_default_na, na_filter, verbose, skip_blank_lines, parse_dates, infer_datetime_format, keep_date_col, date_parser, dayfirst, cache_dates, iterator, chunksize, compression, thousands, decimal, lineterminator, quotechar, quoting, doublequote, escapechar, comment, encoding, encoding_errors, dialect, error_bad_lines, warn_bad_lines, on_bad_lines, delim_whitespace, low_memory, memory_map, float_precision, storage_options)\u001B[0m\n\u001B[0;32m    584\u001B[0m     \u001B[0mkwds\u001B[0m\u001B[1;33m.\u001B[0m\u001B[0mupdate\u001B[0m\u001B[1;33m(\u001B[0m\u001B[0mkwds_defaults\u001B[0m\u001B[1;33m)\u001B[0m\u001B[1;33m\u001B[0m\u001B[1;33m\u001B[0m\u001B[0m\n\u001B[0;32m    585\u001B[0m \u001B[1;33m\u001B[0m\u001B[0m\n\u001B[1;32m--> 586\u001B[1;33m     \u001B[1;32mreturn\u001B[0m \u001B[0m_read\u001B[0m\u001B[1;33m(\u001B[0m\u001B[0mfilepath_or_buffer\u001B[0m\u001B[1;33m,\u001B[0m \u001B[0mkwds\u001B[0m\u001B[1;33m)\u001B[0m\u001B[1;33m\u001B[0m\u001B[1;33m\u001B[0m\u001B[0m\n\u001B[0m\u001B[0;32m    587\u001B[0m \u001B[1;33m\u001B[0m\u001B[0m\n\u001B[0;32m    588\u001B[0m \u001B[1;33m\u001B[0m\u001B[0m\n",
      "\u001B[1;32m~\\miniconda3\\envs\\ox\\lib\\site-packages\\pandas\\io\\parsers\\readers.py\u001B[0m in \u001B[0;36m_read\u001B[1;34m(filepath_or_buffer, kwds)\u001B[0m\n\u001B[0;32m    480\u001B[0m \u001B[1;33m\u001B[0m\u001B[0m\n\u001B[0;32m    481\u001B[0m     \u001B[1;31m# Create the parser.\u001B[0m\u001B[1;33m\u001B[0m\u001B[1;33m\u001B[0m\u001B[1;33m\u001B[0m\u001B[0m\n\u001B[1;32m--> 482\u001B[1;33m     \u001B[0mparser\u001B[0m \u001B[1;33m=\u001B[0m \u001B[0mTextFileReader\u001B[0m\u001B[1;33m(\u001B[0m\u001B[0mfilepath_or_buffer\u001B[0m\u001B[1;33m,\u001B[0m \u001B[1;33m**\u001B[0m\u001B[0mkwds\u001B[0m\u001B[1;33m)\u001B[0m\u001B[1;33m\u001B[0m\u001B[1;33m\u001B[0m\u001B[0m\n\u001B[0m\u001B[0;32m    483\u001B[0m \u001B[1;33m\u001B[0m\u001B[0m\n\u001B[0;32m    484\u001B[0m     \u001B[1;32mif\u001B[0m \u001B[0mchunksize\u001B[0m \u001B[1;32mor\u001B[0m \u001B[0miterator\u001B[0m\u001B[1;33m:\u001B[0m\u001B[1;33m\u001B[0m\u001B[1;33m\u001B[0m\u001B[0m\n",
      "\u001B[1;32m~\\miniconda3\\envs\\ox\\lib\\site-packages\\pandas\\io\\parsers\\readers.py\u001B[0m in \u001B[0;36m__init__\u001B[1;34m(self, f, engine, **kwds)\u001B[0m\n\u001B[0;32m    809\u001B[0m             \u001B[0mself\u001B[0m\u001B[1;33m.\u001B[0m\u001B[0moptions\u001B[0m\u001B[1;33m[\u001B[0m\u001B[1;34m\"has_index_names\"\u001B[0m\u001B[1;33m]\u001B[0m \u001B[1;33m=\u001B[0m \u001B[0mkwds\u001B[0m\u001B[1;33m[\u001B[0m\u001B[1;34m\"has_index_names\"\u001B[0m\u001B[1;33m]\u001B[0m\u001B[1;33m\u001B[0m\u001B[1;33m\u001B[0m\u001B[0m\n\u001B[0;32m    810\u001B[0m \u001B[1;33m\u001B[0m\u001B[0m\n\u001B[1;32m--> 811\u001B[1;33m         \u001B[0mself\u001B[0m\u001B[1;33m.\u001B[0m\u001B[0m_engine\u001B[0m \u001B[1;33m=\u001B[0m \u001B[0mself\u001B[0m\u001B[1;33m.\u001B[0m\u001B[0m_make_engine\u001B[0m\u001B[1;33m(\u001B[0m\u001B[0mself\u001B[0m\u001B[1;33m.\u001B[0m\u001B[0mengine\u001B[0m\u001B[1;33m)\u001B[0m\u001B[1;33m\u001B[0m\u001B[1;33m\u001B[0m\u001B[0m\n\u001B[0m\u001B[0;32m    812\u001B[0m \u001B[1;33m\u001B[0m\u001B[0m\n\u001B[0;32m    813\u001B[0m     \u001B[1;32mdef\u001B[0m \u001B[0mclose\u001B[0m\u001B[1;33m(\u001B[0m\u001B[0mself\u001B[0m\u001B[1;33m)\u001B[0m\u001B[1;33m:\u001B[0m\u001B[1;33m\u001B[0m\u001B[1;33m\u001B[0m\u001B[0m\n",
      "\u001B[1;32m~\\miniconda3\\envs\\ox\\lib\\site-packages\\pandas\\io\\parsers\\readers.py\u001B[0m in \u001B[0;36m_make_engine\u001B[1;34m(self, engine)\u001B[0m\n\u001B[0;32m   1038\u001B[0m             )\n\u001B[0;32m   1039\u001B[0m         \u001B[1;31m# error: Too many arguments for \"ParserBase\"\u001B[0m\u001B[1;33m\u001B[0m\u001B[1;33m\u001B[0m\u001B[1;33m\u001B[0m\u001B[0m\n\u001B[1;32m-> 1040\u001B[1;33m         \u001B[1;32mreturn\u001B[0m \u001B[0mmapping\u001B[0m\u001B[1;33m[\u001B[0m\u001B[0mengine\u001B[0m\u001B[1;33m]\u001B[0m\u001B[1;33m(\u001B[0m\u001B[0mself\u001B[0m\u001B[1;33m.\u001B[0m\u001B[0mf\u001B[0m\u001B[1;33m,\u001B[0m \u001B[1;33m**\u001B[0m\u001B[0mself\u001B[0m\u001B[1;33m.\u001B[0m\u001B[0moptions\u001B[0m\u001B[1;33m)\u001B[0m  \u001B[1;31m# type: ignore[call-arg]\u001B[0m\u001B[1;33m\u001B[0m\u001B[1;33m\u001B[0m\u001B[0m\n\u001B[0m\u001B[0;32m   1041\u001B[0m \u001B[1;33m\u001B[0m\u001B[0m\n\u001B[0;32m   1042\u001B[0m     \u001B[1;32mdef\u001B[0m \u001B[0m_failover_to_python\u001B[0m\u001B[1;33m(\u001B[0m\u001B[0mself\u001B[0m\u001B[1;33m)\u001B[0m\u001B[1;33m:\u001B[0m\u001B[1;33m\u001B[0m\u001B[1;33m\u001B[0m\u001B[0m\n",
      "\u001B[1;32m~\\miniconda3\\envs\\ox\\lib\\site-packages\\pandas\\io\\parsers\\c_parser_wrapper.py\u001B[0m in \u001B[0;36m__init__\u001B[1;34m(self, src, **kwds)\u001B[0m\n\u001B[0;32m     49\u001B[0m \u001B[1;33m\u001B[0m\u001B[0m\n\u001B[0;32m     50\u001B[0m         \u001B[1;31m# open handles\u001B[0m\u001B[1;33m\u001B[0m\u001B[1;33m\u001B[0m\u001B[1;33m\u001B[0m\u001B[0m\n\u001B[1;32m---> 51\u001B[1;33m         \u001B[0mself\u001B[0m\u001B[1;33m.\u001B[0m\u001B[0m_open_handles\u001B[0m\u001B[1;33m(\u001B[0m\u001B[0msrc\u001B[0m\u001B[1;33m,\u001B[0m \u001B[0mkwds\u001B[0m\u001B[1;33m)\u001B[0m\u001B[1;33m\u001B[0m\u001B[1;33m\u001B[0m\u001B[0m\n\u001B[0m\u001B[0;32m     52\u001B[0m         \u001B[1;32massert\u001B[0m \u001B[0mself\u001B[0m\u001B[1;33m.\u001B[0m\u001B[0mhandles\u001B[0m \u001B[1;32mis\u001B[0m \u001B[1;32mnot\u001B[0m \u001B[1;32mNone\u001B[0m\u001B[1;33m\u001B[0m\u001B[1;33m\u001B[0m\u001B[0m\n\u001B[0;32m     53\u001B[0m \u001B[1;33m\u001B[0m\u001B[0m\n",
      "\u001B[1;32m~\\miniconda3\\envs\\ox\\lib\\site-packages\\pandas\\io\\parsers\\base_parser.py\u001B[0m in \u001B[0;36m_open_handles\u001B[1;34m(self, src, kwds)\u001B[0m\n\u001B[0;32m    220\u001B[0m         \u001B[0mLet\u001B[0m \u001B[0mthe\u001B[0m \u001B[0mreaders\u001B[0m \u001B[0mopen\u001B[0m \u001B[0mIOHandles\u001B[0m \u001B[0mafter\u001B[0m \u001B[0mthey\u001B[0m \u001B[0mare\u001B[0m \u001B[0mdone\u001B[0m \u001B[1;32mwith\u001B[0m \u001B[0mtheir\u001B[0m \u001B[0mpotential\u001B[0m \u001B[0mraises\u001B[0m\u001B[1;33m.\u001B[0m\u001B[1;33m\u001B[0m\u001B[1;33m\u001B[0m\u001B[0m\n\u001B[0;32m    221\u001B[0m         \"\"\"\n\u001B[1;32m--> 222\u001B[1;33m         self.handles = get_handle(\n\u001B[0m\u001B[0;32m    223\u001B[0m             \u001B[0msrc\u001B[0m\u001B[1;33m,\u001B[0m\u001B[1;33m\u001B[0m\u001B[1;33m\u001B[0m\u001B[0m\n\u001B[0;32m    224\u001B[0m             \u001B[1;34m\"r\"\u001B[0m\u001B[1;33m,\u001B[0m\u001B[1;33m\u001B[0m\u001B[1;33m\u001B[0m\u001B[0m\n",
      "\u001B[1;32m~\\miniconda3\\envs\\ox\\lib\\site-packages\\pandas\\io\\common.py\u001B[0m in \u001B[0;36mget_handle\u001B[1;34m(path_or_buf, mode, encoding, compression, memory_map, is_text, errors, storage_options)\u001B[0m\n\u001B[0;32m    700\u001B[0m         \u001B[1;32mif\u001B[0m \u001B[0mioargs\u001B[0m\u001B[1;33m.\u001B[0m\u001B[0mencoding\u001B[0m \u001B[1;32mand\u001B[0m \u001B[1;34m\"b\"\u001B[0m \u001B[1;32mnot\u001B[0m \u001B[1;32min\u001B[0m \u001B[0mioargs\u001B[0m\u001B[1;33m.\u001B[0m\u001B[0mmode\u001B[0m\u001B[1;33m:\u001B[0m\u001B[1;33m\u001B[0m\u001B[1;33m\u001B[0m\u001B[0m\n\u001B[0;32m    701\u001B[0m             \u001B[1;31m# Encoding\u001B[0m\u001B[1;33m\u001B[0m\u001B[1;33m\u001B[0m\u001B[1;33m\u001B[0m\u001B[0m\n\u001B[1;32m--> 702\u001B[1;33m             handle = open(\n\u001B[0m\u001B[0;32m    703\u001B[0m                 \u001B[0mhandle\u001B[0m\u001B[1;33m,\u001B[0m\u001B[1;33m\u001B[0m\u001B[1;33m\u001B[0m\u001B[0m\n\u001B[0;32m    704\u001B[0m                 \u001B[0mioargs\u001B[0m\u001B[1;33m.\u001B[0m\u001B[0mmode\u001B[0m\u001B[1;33m,\u001B[0m\u001B[1;33m\u001B[0m\u001B[1;33m\u001B[0m\u001B[0m\n",
      "\u001B[1;31mFileNotFoundError\u001B[0m: [Errno 2] No such file or directory: '../../data/raw/PVTA-GTFS/route_timetable_Jan_2022.csv'"
     ]
    }
   ],
   "source": [
    "route_timetable_1 = pd.read_csv(r\"../../data/raw/PVTA-GTFS/route_timetable_dec_2021.csv\",low_memory=False)\n",
    "route_timetable_2 = pd.read_csv(r\"../../data/raw/PVTA-GTFS/route_timetable_Jan_2022.csv\",low_memory=False)"
   ],
   "metadata": {
    "collapsed": false,
    "pycharm": {
     "name": "#%%\n"
    }
   }
  },
  {
   "cell_type": "code",
   "execution_count": null,
   "outputs": [],
   "source": [
    "route_timetable_1.head()"
   ],
   "metadata": {
    "collapsed": false,
    "pycharm": {
     "name": "#%%\n"
    }
   }
  },
  {
   "cell_type": "code",
   "execution_count": null,
   "outputs": [],
   "source": [
    "route_timetable_2.head()"
   ],
   "metadata": {
    "collapsed": false,
    "pycharm": {
     "name": "#%%\n"
    }
   }
  },
  {
   "cell_type": "code",
   "execution_count": 6,
   "outputs": [],
   "source": [
    "if path == Jan_march_GTFS:\n",
    "    route_timetable.to_csv(r\"../../data/raw/PVTA-GTFS/route_timetable_Jan_March.csv\",index=False)"
   ],
   "metadata": {
    "collapsed": false,
    "pycharm": {
     "name": "#%%\n"
    }
   }
  },
  {
   "cell_type": "code",
   "execution_count": null,
   "outputs": [],
   "source": [],
   "metadata": {
    "collapsed": false,
    "pycharm": {
     "name": "#%%\n"
    }
   }
  },
  {
   "cell_type": "code",
   "execution_count": null,
   "outputs": [],
   "source": [],
   "metadata": {
    "collapsed": false,
    "pycharm": {
     "name": "#%%\n"
    }
   }
  },
  {
   "cell_type": "code",
   "execution_count": null,
   "outputs": [],
   "source": [],
   "metadata": {
    "collapsed": false,
    "pycharm": {
     "name": "#%%\n"
    }
   }
  },
  {
   "cell_type": "code",
   "execution_count": null,
   "outputs": [],
   "source": [],
   "metadata": {
    "collapsed": false,
    "pycharm": {
     "name": "#%%\n"
    }
   }
  },
  {
   "cell_type": "code",
   "execution_count": null,
   "outputs": [],
   "source": [],
   "metadata": {
    "collapsed": false,
    "pycharm": {
     "name": "#%%\n"
    }
   }
  },
  {
   "cell_type": "code",
   "execution_count": null,
   "outputs": [],
   "source": [],
   "metadata": {
    "collapsed": false,
    "pycharm": {
     "name": "#%%\n"
    }
   }
  },
  {
   "cell_type": "code",
   "execution_count": null,
   "outputs": [],
   "source": [],
   "metadata": {
    "collapsed": false,
    "pycharm": {
     "name": "#%%\n"
    }
   }
  },
  {
   "cell_type": "code",
   "execution_count": null,
   "outputs": [],
   "source": [],
   "metadata": {
    "collapsed": false,
    "pycharm": {
     "name": "#%%\n"
    }
   }
  },
  {
   "cell_type": "code",
   "execution_count": null,
   "outputs": [],
   "source": [],
   "metadata": {
    "collapsed": false,
    "pycharm": {
     "name": "#%%\n"
    }
   }
  },
  {
   "cell_type": "code",
   "execution_count": null,
   "outputs": [],
   "source": [],
   "metadata": {
    "collapsed": false,
    "pycharm": {
     "name": "#%%\n"
    }
   }
  },
  {
   "cell_type": "code",
   "execution_count": null,
   "outputs": [],
   "source": [],
   "metadata": {
    "collapsed": false,
    "pycharm": {
     "name": "#%%\n"
    }
   }
  },
  {
   "cell_type": "code",
   "execution_count": null,
   "outputs": [],
   "source": [],
   "metadata": {
    "collapsed": false,
    "pycharm": {
     "name": "#%%\n"
    }
   }
  },
  {
   "cell_type": "code",
   "execution_count": null,
   "outputs": [],
   "source": [],
   "metadata": {
    "collapsed": false,
    "pycharm": {
     "name": "#%%\n"
    }
   }
  },
  {
   "cell_type": "markdown",
   "source": [
    "----------------------------------\n",
    "# Build a stop timetable (not important)"
   ],
   "metadata": {
    "collapsed": false
   }
  },
  {
   "cell_type": "code",
   "execution_count": null,
   "outputs": [],
   "source": [
    "stop_id = feed.stops['stop_id'].iat[0]\n",
    "# stop_id\n",
    "feed.build_stop_timetable(stop_id, dates)"
   ],
   "metadata": {
    "collapsed": false,
    "pycharm": {
     "name": "#%%\n"
    }
   }
  },
  {
   "cell_type": "code",
   "execution_count": null,
   "outputs": [],
   "source": [
    "# Iterate over all stops and append these together\n",
    "\n",
    "stop_timetable = pd.DataFrame()\n",
    "\n",
    "for stop_id in feed.stops['stop_id'].unique():\n",
    "    stop_timetable_ = feed.build_stop_timetable(stop_id, dates)\n",
    "    stop_timetable = stop_timetable.append(stop_timetable_)\n",
    "\n",
    "stop_timetable # all routes"
   ],
   "metadata": {
    "collapsed": false,
    "pycharm": {
     "name": "#%%\n"
    }
   }
  },
  {
   "cell_type": "code",
   "execution_count": null,
   "outputs": [],
   "source": [
    "stop_timetable.drop(columns = ['shape_dist_traveled','drop_off_type','pickup_type','stop_sequence','direction_id','block_id','shape_id','service_id'])\n",
    "stop_timetable"
   ],
   "metadata": {
    "collapsed": false,
    "pycharm": {
     "name": "#%%\n"
    }
   }
  },
  {
   "cell_type": "code",
   "execution_count": null,
   "outputs": [],
   "source": [],
   "metadata": {
    "collapsed": false,
    "pycharm": {
     "name": "#%%\n"
    }
   }
  },
  {
   "cell_type": "markdown",
   "source": [
    "***\n",
    "***\n",
    "# Non essential"
   ],
   "metadata": {
    "collapsed": false,
    "pycharm": {
     "name": "#%% md\n"
    }
   },
   "execution_count": 58
  },
  {
   "cell_type": "code",
   "execution_count": null,
   "metadata": {},
   "outputs": [],
   "source": [
    "# Compute feed time series\n",
    "trip_stats = feed.compute_trip_stats()\n",
    "trip_stats.head().T\n",
    "fts = feed.compute_feed_time_series(trip_stats, dates, freq='6H')\n",
    "fts"
   ]
  },
  {
   "cell_type": "code",
   "execution_count": null,
   "metadata": {},
   "outputs": [],
   "source": [
    "gk.downsample(fts, freq='12H')"
   ]
  },
  {
   "cell_type": "code",
   "execution_count": null,
   "metadata": {},
   "outputs": [],
   "source": [
    "# Compute feed stats for first week\n",
    "\n",
    "feed_stats = feed.compute_feed_stats(trip_stats, week)\n",
    "feed_stats"
   ]
  },
  {
   "cell_type": "code",
   "execution_count": null,
   "metadata": {},
   "outputs": [],
   "source": [
    "# Compute route time series\n",
    "\n",
    "rts = feed.compute_route_time_series(trip_stats, dates[4:11], freq='4H')\n",
    "# rts"
   ]
  },
  {
   "cell_type": "code",
   "execution_count": null,
   "metadata": {},
   "outputs": [],
   "source": [
    "rts_ = rts['num_trip_ends']\n",
    "# rts_ = rts_.melt(30, var_name='cols', value_name='vals')\n",
    "rts_ = rts_.stack()\n",
    "rts_ = rts_.reset_index()#.set_index('datetime')\n",
    "rts_"
   ]
  },
  {
   "cell_type": "code",
   "execution_count": null,
   "metadata": {},
   "outputs": [],
   "source": [
    "plt.figure(figsize = (60,15))\n",
    "\n",
    "sns.lineplot(y = 0, x = 'datetime',data = rts_, hue = 'route_id')\n"
   ]
  },
  {
   "cell_type": "code",
   "execution_count": null,
   "metadata": {},
   "outputs": [],
   "source": [
    "# Slice time series\n",
    "\n",
    "# inds = ['service_distance', 'service_duration', 'service_speed']\n",
    "# rids = ['110-423', '110N-423']\n",
    "\n",
    "# rts.loc[:, (inds, rids)]"
   ]
  },
  {
   "cell_type": "code",
   "execution_count": null,
   "metadata": {},
   "outputs": [],
   "source": [
    "# Slice again by cross-section\n",
    "\n",
    "# rts.xs(rids[0], axis=\"columns\", level=1)"
   ]
  },
  {
   "cell_type": "code",
   "execution_count": null,
   "metadata": {},
   "outputs": [],
   "source": [
    "# Compute trip locations for every hour\n",
    "\n",
    "rng = pd.date_range('1/1/2000', periods=24, freq='H')\n",
    "times = [t.strftime('%H:%M:%S') for t in rng]\n",
    "loc = feed.locate_trips(dates[0], times)\n",
    "loc.head()\n",
    "\n",
    "\n",
    "\n"
   ]
  },
  {
   "cell_type": "code",
   "execution_count": null,
   "metadata": {},
   "outputs": [],
   "source": [
    "# Compute screen line counts\n",
    "\n",
    "# path = DATA_DIR/'cairns_screen_lines.geojson'\n",
    "# lines = gp.read_file(path)\n",
    "\n",
    "# display(lines)\n",
    "\n",
    "# feed.compute_screen_line_counts(lines, dates)"
   ]
  },
  {
   "cell_type": "code",
   "metadata": {
    "pycharm": {
     "name": "#%%\n"
    }
   },
   "source": [
    "# Map routes\n",
    "\n",
    "rids = feed.routes.route_id#.loc[2:4]\n",
    "\n",
    "\n",
    "feed.map_routes(rids, include_stops=False)"
   ],
   "execution_count": null,
   "outputs": []
  },
  {
   "cell_type": "markdown",
   "metadata": {
    "pycharm": {
     "name": "#%% md\n"
    }
   },
   "source": [
    "***\n",
    "# Map stops"
   ]
  },
  {
   "cell_type": "code",
   "execution_count": null,
   "outputs": [],
   "source": [
    "stp = feed.stops.stop_id\n",
    "\n",
    "feed.STOP_STYLE = {'color': '#fc8d62', 'fill': 'false', 'fillOpacity': 0.7, 'radius': 1, 'weight': 0.5}\n",
    "\n",
    "feed.map_stops(stp)"
   ],
   "metadata": {
    "collapsed": false,
    "pycharm": {
     "name": "#%%\n"
    }
   }
  },
  {
   "cell_type": "code",
   "execution_count": null,
   "metadata": {},
   "outputs": [],
   "source": [
    "d = {'StopID': [1,6,5,0,1,1],\"col2\":list(\"cabass\")}\n",
    "df = pd.DataFrame(data=d)\n",
    "df"
   ]
  },
  {
   "cell_type": "code",
   "execution_count": null,
   "metadata": {},
   "outputs": [],
   "source": [
    "df = df.loc[df.StopID.shift(-1) != df.StopID]\n",
    "\n",
    "df"
   ]
  },
  {
   "cell_type": "code",
   "execution_count": null,
   "metadata": {},
   "outputs": [],
   "source": [
    "\n",
    "df[\"NextBoardingStop\"]= df[\"StopID\"].shift(-1)\n",
    "df['NextBoardingStop'].iloc[-1] = np.array(df.StopID.head(1))[0]\n",
    "df"
   ]
  },
  {
   "cell_type": "code",
   "execution_count": null,
   "outputs": [],
   "source": [
    "if df.NextBoardingStop.iloc[-1] == df.StopID.iloc[-1]:\n",
    "        df.drop(df.tail(1).index,inplace=True) # drop last row in case last activation is the same as the first (assumption: the last destination is actually the first one. But accidental activation has been done)"
   ],
   "metadata": {
    "collapsed": false,
    "pycharm": {
     "name": "#%%\n"
    }
   }
  },
  {
   "cell_type": "code",
   "execution_count": null,
   "outputs": [],
   "source": [
    "df"
   ],
   "metadata": {
    "collapsed": false,
    "pycharm": {
     "name": "#%%\n"
    }
   }
  },
  {
   "cell_type": "code",
   "execution_count": null,
   "outputs": [],
   "source": [],
   "metadata": {
    "collapsed": false,
    "pycharm": {
     "name": "#%%\n"
    }
   }
  }
 ],
 "metadata": {
  "kernelspec": {
   "name": "python3",
   "language": "python",
   "display_name": "Python 3 (ipykernel)"
  },
  "language_info": {
   "codemirror_mode": {
    "name": "ipython",
    "version": 3
   },
   "file_extension": ".py",
   "mimetype": "text/x-python",
   "name": "python",
   "nbconvert_exporter": "python",
   "pygments_lexer": "ipython3",
   "version": "3.9.7"
  }
 },
 "nbformat": 4,
 "nbformat_minor": 4
}